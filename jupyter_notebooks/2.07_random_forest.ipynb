{
 "cells": [
  {
   "cell_type": "markdown",
   "metadata": {},
   "source": [
    "# Import libraries"
   ]
  },
  {
   "cell_type": "code",
   "execution_count": 1,
   "metadata": {},
   "outputs": [],
   "source": [
    "import numpy as np \n",
    "import pandas as pd \n",
    "import matplotlib.pyplot as plt\n",
    "from sklearn.model_selection import train_test_split\n",
    "from sklearn.preprocessing import StandardScaler\n",
    "from imblearn.over_sampling import SMOTE, ADASYN\n",
    "from functions import functions as f\n",
    "# import model\n",
    "# from sklearn.tree import DecisionTreeClassifier \n",
    "from sklearn.ensemble import RandomForestClassifier"
   ]
  },
  {
   "cell_type": "markdown",
   "metadata": {},
   "source": [
    "# Import data"
   ]
  },
  {
   "cell_type": "code",
   "execution_count": 2,
   "metadata": {},
   "outputs": [],
   "source": [
    "df = pd.read_csv('../data/crashes_cleaned_ohe.csv')"
   ]
  },
  {
   "cell_type": "code",
   "execution_count": 3,
   "metadata": {},
   "outputs": [
    {
     "data": {
      "text/html": [
       "<div>\n",
       "<style scoped>\n",
       "    .dataframe tbody tr th:only-of-type {\n",
       "        vertical-align: middle;\n",
       "    }\n",
       "\n",
       "    .dataframe tbody tr th {\n",
       "        vertical-align: top;\n",
       "    }\n",
       "\n",
       "    .dataframe thead th {\n",
       "        text-align: right;\n",
       "    }\n",
       "</style>\n",
       "<table border=\"1\" class=\"dataframe\">\n",
       "  <thead>\n",
       "    <tr style=\"text-align: right;\">\n",
       "      <th></th>\n",
       "      <th>posted_speed_limit</th>\n",
       "      <th>num_units</th>\n",
       "      <th>sex</th>\n",
       "      <th>age</th>\n",
       "      <th>weather_condition_blowing snow</th>\n",
       "      <th>weather_condition_clear</th>\n",
       "      <th>weather_condition_cloudy/overcast</th>\n",
       "      <th>weather_condition_fog/smoke/haze</th>\n",
       "      <th>weather_condition_freezing rain/drizzle</th>\n",
       "      <th>weather_condition_rain</th>\n",
       "      <th>...</th>\n",
       "      <th>crash_month_4</th>\n",
       "      <th>crash_month_5</th>\n",
       "      <th>crash_month_6</th>\n",
       "      <th>crash_month_7</th>\n",
       "      <th>crash_month_8</th>\n",
       "      <th>crash_month_9</th>\n",
       "      <th>crash_month_10</th>\n",
       "      <th>crash_month_11</th>\n",
       "      <th>crash_month_12</th>\n",
       "      <th>serious_accident</th>\n",
       "    </tr>\n",
       "  </thead>\n",
       "  <tbody>\n",
       "    <tr>\n",
       "      <td>0</td>\n",
       "      <td>35</td>\n",
       "      <td>2</td>\n",
       "      <td>1</td>\n",
       "      <td>44.0</td>\n",
       "      <td>0</td>\n",
       "      <td>1</td>\n",
       "      <td>0</td>\n",
       "      <td>0</td>\n",
       "      <td>0</td>\n",
       "      <td>0</td>\n",
       "      <td>...</td>\n",
       "      <td>0</td>\n",
       "      <td>1</td>\n",
       "      <td>0</td>\n",
       "      <td>0</td>\n",
       "      <td>0</td>\n",
       "      <td>0</td>\n",
       "      <td>0</td>\n",
       "      <td>0</td>\n",
       "      <td>0</td>\n",
       "      <td>0</td>\n",
       "    </tr>\n",
       "    <tr>\n",
       "      <td>1</td>\n",
       "      <td>25</td>\n",
       "      <td>2</td>\n",
       "      <td>1</td>\n",
       "      <td>71.0</td>\n",
       "      <td>0</td>\n",
       "      <td>1</td>\n",
       "      <td>0</td>\n",
       "      <td>0</td>\n",
       "      <td>0</td>\n",
       "      <td>0</td>\n",
       "      <td>...</td>\n",
       "      <td>0</td>\n",
       "      <td>0</td>\n",
       "      <td>1</td>\n",
       "      <td>0</td>\n",
       "      <td>0</td>\n",
       "      <td>0</td>\n",
       "      <td>0</td>\n",
       "      <td>0</td>\n",
       "      <td>0</td>\n",
       "      <td>0</td>\n",
       "    </tr>\n",
       "    <tr>\n",
       "      <td>2</td>\n",
       "      <td>15</td>\n",
       "      <td>2</td>\n",
       "      <td>1</td>\n",
       "      <td>60.0</td>\n",
       "      <td>0</td>\n",
       "      <td>1</td>\n",
       "      <td>0</td>\n",
       "      <td>0</td>\n",
       "      <td>0</td>\n",
       "      <td>0</td>\n",
       "      <td>...</td>\n",
       "      <td>0</td>\n",
       "      <td>0</td>\n",
       "      <td>0</td>\n",
       "      <td>0</td>\n",
       "      <td>0</td>\n",
       "      <td>1</td>\n",
       "      <td>0</td>\n",
       "      <td>0</td>\n",
       "      <td>0</td>\n",
       "      <td>0</td>\n",
       "    </tr>\n",
       "    <tr>\n",
       "      <td>3</td>\n",
       "      <td>30</td>\n",
       "      <td>2</td>\n",
       "      <td>1</td>\n",
       "      <td>38.0</td>\n",
       "      <td>0</td>\n",
       "      <td>1</td>\n",
       "      <td>0</td>\n",
       "      <td>0</td>\n",
       "      <td>0</td>\n",
       "      <td>0</td>\n",
       "      <td>...</td>\n",
       "      <td>0</td>\n",
       "      <td>0</td>\n",
       "      <td>0</td>\n",
       "      <td>0</td>\n",
       "      <td>0</td>\n",
       "      <td>0</td>\n",
       "      <td>0</td>\n",
       "      <td>0</td>\n",
       "      <td>0</td>\n",
       "      <td>0</td>\n",
       "    </tr>\n",
       "    <tr>\n",
       "      <td>4</td>\n",
       "      <td>30</td>\n",
       "      <td>2</td>\n",
       "      <td>1</td>\n",
       "      <td>52.0</td>\n",
       "      <td>0</td>\n",
       "      <td>0</td>\n",
       "      <td>0</td>\n",
       "      <td>0</td>\n",
       "      <td>0</td>\n",
       "      <td>1</td>\n",
       "      <td>...</td>\n",
       "      <td>0</td>\n",
       "      <td>0</td>\n",
       "      <td>0</td>\n",
       "      <td>0</td>\n",
       "      <td>0</td>\n",
       "      <td>0</td>\n",
       "      <td>0</td>\n",
       "      <td>0</td>\n",
       "      <td>0</td>\n",
       "      <td>0</td>\n",
       "    </tr>\n",
       "  </tbody>\n",
       "</table>\n",
       "<p>5 rows × 76 columns</p>\n",
       "</div>"
      ],
      "text/plain": [
       "   posted_speed_limit  num_units  sex   age  weather_condition_blowing snow  \\\n",
       "0                  35          2    1  44.0                               0   \n",
       "1                  25          2    1  71.0                               0   \n",
       "2                  15          2    1  60.0                               0   \n",
       "3                  30          2    1  38.0                               0   \n",
       "4                  30          2    1  52.0                               0   \n",
       "\n",
       "   weather_condition_clear  weather_condition_cloudy/overcast  \\\n",
       "0                        1                                  0   \n",
       "1                        1                                  0   \n",
       "2                        1                                  0   \n",
       "3                        1                                  0   \n",
       "4                        0                                  0   \n",
       "\n",
       "   weather_condition_fog/smoke/haze  weather_condition_freezing rain/drizzle  \\\n",
       "0                                 0                                        0   \n",
       "1                                 0                                        0   \n",
       "2                                 0                                        0   \n",
       "3                                 0                                        0   \n",
       "4                                 0                                        0   \n",
       "\n",
       "   weather_condition_rain  ...  crash_month_4  crash_month_5  crash_month_6  \\\n",
       "0                       0  ...              0              1              0   \n",
       "1                       0  ...              0              0              1   \n",
       "2                       0  ...              0              0              0   \n",
       "3                       0  ...              0              0              0   \n",
       "4                       1  ...              0              0              0   \n",
       "\n",
       "   crash_month_7  crash_month_8  crash_month_9  crash_month_10  \\\n",
       "0              0              0              0               0   \n",
       "1              0              0              0               0   \n",
       "2              0              0              1               0   \n",
       "3              0              0              0               0   \n",
       "4              0              0              0               0   \n",
       "\n",
       "   crash_month_11  crash_month_12  serious_accident  \n",
       "0               0               0                 0  \n",
       "1               0               0                 0  \n",
       "2               0               0                 0  \n",
       "3               0               0                 0  \n",
       "4               0               0                 0  \n",
       "\n",
       "[5 rows x 76 columns]"
      ]
     },
     "execution_count": 3,
     "metadata": {},
     "output_type": "execute_result"
    }
   ],
   "source": [
    "df.head()"
   ]
  },
  {
   "cell_type": "markdown",
   "metadata": {},
   "source": [
    "# Train-Test Split"
   ]
  },
  {
   "cell_type": "code",
   "execution_count": 4,
   "metadata": {},
   "outputs": [],
   "source": [
    "X = df.drop(['serious_accident'], axis=1)\n",
    "y = df.serious_accident\n",
    "\n",
    "X_train, X_test, y_train, y_test = train_test_split(X, y, test_size=0.20, random_state=200)"
   ]
  },
  {
   "cell_type": "code",
   "execution_count": 5,
   "metadata": {},
   "outputs": [],
   "source": [
    "ss = StandardScaler()\n",
    "X_train_scaled = ss.fit_transform(X_train)\n",
    "X_test_scaled = ss.transform(X_test)"
   ]
  },
  {
   "cell_type": "markdown",
   "metadata": {},
   "source": [
    "## Balance the imbalaced data"
   ]
  },
  {
   "cell_type": "code",
   "execution_count": 6,
   "metadata": {},
   "outputs": [],
   "source": [
    "balance = SMOTE()\n",
    "X_train_scaled_balanced, y_train_balanced = balance.fit_sample(X_train_scaled, y_train)"
   ]
  },
  {
   "cell_type": "markdown",
   "metadata": {},
   "source": [
    "# Run Model"
   ]
  },
  {
   "cell_type": "code",
   "execution_count": 7,
   "metadata": {},
   "outputs": [
    {
     "data": {
      "text/plain": [
       "RandomForestClassifier(max_depth=5)"
      ]
     },
     "execution_count": 7,
     "metadata": {},
     "output_type": "execute_result"
    }
   ],
   "source": [
    "random = RandomForestClassifier(n_estimators=100, max_depth=5)  \n",
    "random.fit(X_train_scaled_balanced, y_train_balanced)"
   ]
  },
  {
   "cell_type": "markdown",
   "metadata": {},
   "source": [
    "# Predict"
   ]
  },
  {
   "cell_type": "code",
   "execution_count": 8,
   "metadata": {},
   "outputs": [],
   "source": [
    "predictions_from_X_train = random.predict(X_train_scaled_balanced)\n",
    "predictions_from_X_test = random.predict(X_test_scaled)"
   ]
  },
  {
   "cell_type": "markdown",
   "metadata": {},
   "source": [
    "## Variable Tracker"
   ]
  },
  {
   "cell_type": "markdown",
   "metadata": {},
   "source": [
    "- X_train &rarr; X_train_scaled &rarr; **X_train_scaled_balanced**\n",
    "    - used to create **predictions_from_X_train** which is to be compared to **y_train_balanced**\n",
    "- X_test &rarr; **X_test_scaled**\n",
    "    - used to create **predictions_from_X_test** which is to be compared to **y_test**\n",
    "- y_train &rarr; **y_train_balanced**\n",
    "- **y_test**"
   ]
  },
  {
   "cell_type": "markdown",
   "metadata": {},
   "source": [
    "# Scoring"
   ]
  },
  {
   "cell_type": "markdown",
   "metadata": {},
   "source": [
    "## Train Scoring"
   ]
  },
  {
   "cell_type": "code",
   "execution_count": 9,
   "metadata": {},
   "outputs": [
    {
     "name": "stdout",
     "output_type": "stream",
     "text": [
      "Accuracy: 85.6%\n",
      "Precision: 88.5%\n",
      "Recall: 82.0%\n",
      "F1: 85.1%\n",
      "Conufusion Matrix: \n",
      "[[39077  4683]\n",
      " [ 7892 35868]]\n",
      "\n",
      "\n"
     ]
    },
    {
     "data": {
      "image/png": "[encoded data removed]",
      "text/plain": [
       "<Figure size 432x288 with 2 Axes>"
      ]
     },
     "metadata": {
      "needs_background": "light"
     },
     "output_type": "display_data"
    }
   ],
   "source": [
    "f.scoring(predictions_from_X_train, y_train_balanced, random, X_train_scaled_balanced)"
   ]
  },
  {
   "cell_type": "markdown",
   "metadata": {},
   "source": [
    "## Test Scoring"
   ]
  },
  {
   "cell_type": "code",
   "execution_count": 10,
   "metadata": {},
   "outputs": [
    {
     "name": "stdout",
     "output_type": "stream",
     "text": [
      "Accuracy: 87.7%\n",
      "Precision: 4.0%\n",
      "Recall: 22.9%\n",
      "F1: 6.8%\n",
      "Conufusion Matrix: \n",
      "[[9724 1202]\n",
      " [ 168   50]]\n",
      "\n",
      "\n"
     ]
    },
    {
     "data": {
      "image/png": "[encoded data removed]",
      "text/plain": [
       "<Figure size 432x288 with 2 Axes>"
      ]
     },
     "metadata": {
      "needs_background": "light"
     },
     "output_type": "display_data"
    }
   ],
   "source": [
    "f.scoring(predictions_from_X_test, y_test, random, X_test_scaled)"
   ]
  },
  {
   "cell_type": "code",
   "execution_count": 11,
   "metadata": {},
   "outputs": [
    {
     "data": {
      "text/plain": [
       "[('sex', 15.92),\n",
       " ('num_units', 14.33),\n",
       " ('posted_speed_limit', 8.62),\n",
       " ('crash_day_of_week_5', 6.04),\n",
       " ('crash_day_of_week_6', 6.0),\n",
       " ('crash_day_of_week_7', 5.83),\n",
       " ('lighting_condition_darkness, lighted road', 4.6),\n",
       " ('crash_day_of_week_3', 3.83),\n",
       " ('roadway_surface_cond_dry', 3.7),\n",
       " ('roadway_surface_cond_unknown', 3.59),\n",
       " ('crash_month_2', 2.9),\n",
       " ('crash_day_of_week_1', 2.81),\n",
       " ('crash_day_of_week_2', 2.72),\n",
       " ('crash_day_of_week_4', 2.49),\n",
       " ('crash_month_8', 1.69)]"
      ]
     },
     "execution_count": 11,
     "metadata": {},
     "output_type": "execute_result"
    }
   ],
   "source": [
    "import operator\n",
    "features = {}\n",
    "cols = X_train.columns.values\n",
    "for num in range(len(X_train.columns.values)):\n",
    "    features[cols[num]] = round(random.feature_importances_[num] * 100, 2)\n",
    "features = dict(sorted(features.items(), key=operator.itemgetter(1),reverse=True))\n",
    "features = list(features.items())\n",
    "features[0:15]"
   ]
  },
  {
   "cell_type": "markdown",
   "metadata": {},
   "source": [
    "# Run Model 2"
   ]
  },
  {
   "cell_type": "code",
   "execution_count": 12,
   "metadata": {},
   "outputs": [
    {
     "data": {
      "text/plain": [
       "RandomForestClassifier(max_depth=2, max_features=10, n_estimators=5)"
      ]
     },
     "execution_count": 12,
     "metadata": {},
     "output_type": "execute_result"
    }
   ],
   "source": [
    "random2 = RandomForestClassifier(n_estimators=5, max_features=10, max_depth=2)  \n",
    "random2.fit(X_train_scaled_balanced, y_train_balanced)"
   ]
  },
  {
   "cell_type": "markdown",
   "metadata": {},
   "source": [
    "# Predict Model 2"
   ]
  },
  {
   "cell_type": "code",
   "execution_count": 13,
   "metadata": {},
   "outputs": [],
   "source": [
    "predictions_from_X_train = random2.predict(X_train_scaled_balanced)\n",
    "predictions_from_X_test = random2.predict(X_test_scaled)"
   ]
  },
  {
   "cell_type": "markdown",
   "metadata": {},
   "source": [
    "## Variable Tracker"
   ]
  },
  {
   "cell_type": "markdown",
   "metadata": {},
   "source": [
    "- X_train &rarr; X_train_scaled &rarr; **X_train_scaled_balanced**\n",
    "    - used to create **predictions_from_X_train** which is to be compared to **y_train_balanced**\n",
    "- X_test &rarr; **X_test_scaled**\n",
    "    - used to create **predictions_from_X_test** which is to be compared to **y_test**\n",
    "- y_train &rarr; **y_train_balanced**\n",
    "- **y_test**"
   ]
  },
  {
   "cell_type": "markdown",
   "metadata": {},
   "source": [
    "# Scoring 2"
   ]
  },
  {
   "cell_type": "markdown",
   "metadata": {},
   "source": [
    "## Train Scoring"
   ]
  },
  {
   "cell_type": "code",
   "execution_count": 14,
   "metadata": {},
   "outputs": [
    {
     "name": "stdout",
     "output_type": "stream",
     "text": [
      "Accuracy: 69.3%\n",
      "Precision: 76.8%\n",
      "Recall: 55.5%\n",
      "F1: 64.4%\n",
      "Conufusion Matrix: \n",
      "[[36402  7358]\n",
      " [19470 24290]]\n",
      "\n",
      "\n"
     ]
    },
    {
     "data": {
      "image/png": "[encoded data removed]",
      "text/plain": [
       "<Figure size 432x288 with 2 Axes>"
      ]
     },
     "metadata": {
      "needs_background": "light"
     },
     "output_type": "display_data"
    }
   ],
   "source": [
    "f.scoring(predictions_from_X_train, y_train_balanced, random2, X_train_scaled_balanced)"
   ]
  },
  {
   "cell_type": "markdown",
   "metadata": {},
   "source": [
    "## Test Scoring"
   ]
  },
  {
   "cell_type": "code",
   "execution_count": 15,
   "metadata": {},
   "outputs": [
    {
     "name": "stdout",
     "output_type": "stream",
     "text": [
      "Accuracy: 81.7%\n",
      "Precision: 3.3%\n",
      "Recall: 29.8%\n",
      "F1: 6.0%\n",
      "Conufusion Matrix: \n",
      "[[9044 1882]\n",
      " [ 153   65]]\n",
      "\n",
      "\n"
     ]
    },
    {
     "data": {
      "image/png": "[encoded data removed]",
      "text/plain": [
       "<Figure size 432x288 with 2 Axes>"
      ]
     },
     "metadata": {
      "needs_background": "light"
     },
     "output_type": "display_data"
    }
   ],
   "source": [
    "f.scoring(predictions_from_X_test, y_test, random2, X_test_scaled)"
   ]
  },
  {
   "cell_type": "code",
   "execution_count": 16,
   "metadata": {},
   "outputs": [
    {
     "data": {
      "text/plain": [
       "[('num_units', 27.81),\n",
       " ('posted_speed_limit', 22.48),\n",
       " ('crash_day_of_week_5', 13.61),\n",
       " ('roadway_surface_cond_dry', 9.07),\n",
       " ('sex', 8.15),\n",
       " ('crash_day_of_week_7', 6.15),\n",
       " ('crash_day_of_week_4', 6.01),\n",
       " ('weather_condition_unknown', 4.04),\n",
       " ('crash_day_of_week_6', 1.17),\n",
       " ('crash_day_of_week_2', 1.13)]"
      ]
     },
     "execution_count": 16,
     "metadata": {},
     "output_type": "execute_result"
    }
   ],
   "source": [
    "import operator\n",
    "features = {}\n",
    "cols = X_train.columns.values\n",
    "for num in range(len(X_train.columns.values)):\n",
    "    features[cols[num]] = round(random2.feature_importances_[num] * 100, 2)\n",
    "features = dict(sorted(features.items(), key=operator.itemgetter(1),reverse=True))\n",
    "features = list(features.items())\n",
    "features[0:10]"
   ]
  },
  {
   "cell_type": "markdown",
   "metadata": {},
   "source": [
    "## Add Scores to Scoring Dataframe"
   ]
  },
  {
   "cell_type": "code",
   "execution_count": 17,
   "metadata": {},
   "outputs": [],
   "source": [
    "f.add_scores_to_scoring_df(\"Random Forest\", y_test, predictions_from_X_test, y_train_balanced, predictions_from_X_train)"
   ]
  }
 ],
 "metadata": {
  "kernelspec": {
   "display_name": "Python 3",
   "language": "python",
   "name": "python3"
  },
  "language_info": {
   "codemirror_mode": {
    "name": "ipython",
    "version": 3
   },
   "file_extension": ".py",
   "mimetype": "text/x-python",
   "name": "python",
   "nbconvert_exporter": "python",
   "pygments_lexer": "ipython3",
   "version": "3.6.9"
  }
 },
 "nbformat": 4,
 "nbformat_minor": 4
}
