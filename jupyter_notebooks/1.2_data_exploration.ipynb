{
 "cells": [
  {
   "cell_type": "markdown",
   "metadata": {},
   "source": [
    "# EDA for the Crash Data"
   ]
  },
  {
   "cell_type": "code",
   "execution_count": 82,
   "metadata": {},
   "outputs": [],
   "source": [
    "import pandas as pd\n",
    "df = pd.read_csv('../data/Traffic_Crashes_Subset.csv')"
   ]
  },
  {
   "cell_type": "code",
   "execution_count": 83,
   "metadata": {},
   "outputs": [
    {
     "data": {
      "text/html": [
       "<div>\n",
       "<style scoped>\n",
       "    .dataframe tbody tr th:only-of-type {\n",
       "        vertical-align: middle;\n",
       "    }\n",
       "\n",
       "    .dataframe tbody tr th {\n",
       "        vertical-align: top;\n",
       "    }\n",
       "\n",
       "    .dataframe thead th {\n",
       "        text-align: right;\n",
       "    }\n",
       "</style>\n",
       "<table border=\"1\" class=\"dataframe\">\n",
       "  <thead>\n",
       "    <tr style=\"text-align: right;\">\n",
       "      <th></th>\n",
       "      <th>CRASH_RECORD_ID</th>\n",
       "      <th>RD_NO</th>\n",
       "      <th>CRASH_DATE_EST_I</th>\n",
       "      <th>CRASH_DATE</th>\n",
       "      <th>POSTED_SPEED_LIMIT</th>\n",
       "      <th>TRAFFIC_CONTROL_DEVICE</th>\n",
       "      <th>DEVICE_CONDITION</th>\n",
       "      <th>WEATHER_CONDITION</th>\n",
       "      <th>LIGHTING_CONDITION</th>\n",
       "      <th>FIRST_CRASH_TYPE</th>\n",
       "      <th>...</th>\n",
       "      <th>INJURIES_NON_INCAPACITATING</th>\n",
       "      <th>INJURIES_REPORTED_NOT_EVIDENT</th>\n",
       "      <th>INJURIES_NO_INDICATION</th>\n",
       "      <th>INJURIES_UNKNOWN</th>\n",
       "      <th>CRASH_HOUR</th>\n",
       "      <th>CRASH_DAY_OF_WEEK</th>\n",
       "      <th>CRASH_MONTH</th>\n",
       "      <th>LATITUDE</th>\n",
       "      <th>LONGITUDE</th>\n",
       "      <th>LOCATION</th>\n",
       "    </tr>\n",
       "  </thead>\n",
       "  <tbody>\n",
       "    <tr>\n",
       "      <td>0</td>\n",
       "      <td>6d7c895988f975b749683c20b6ac76dafd3ccc9ef8eea1...</td>\n",
       "      <td>JD223347</td>\n",
       "      <td>NaN</td>\n",
       "      <td>05/03/2020 03:00:00 PM</td>\n",
       "      <td>35</td>\n",
       "      <td>TRAFFIC SIGNAL</td>\n",
       "      <td>FUNCTIONING PROPERLY</td>\n",
       "      <td>CLEAR</td>\n",
       "      <td>DAYLIGHT</td>\n",
       "      <td>REAR END</td>\n",
       "      <td>...</td>\n",
       "      <td>0.0</td>\n",
       "      <td>0.0</td>\n",
       "      <td>2.0</td>\n",
       "      <td>0.0</td>\n",
       "      <td>15</td>\n",
       "      <td>1</td>\n",
       "      <td>5</td>\n",
       "      <td>41.853983</td>\n",
       "      <td>-87.685561</td>\n",
       "      <td>POINT (-87.685561084102 41.853983119541)</td>\n",
       "    </tr>\n",
       "    <tr>\n",
       "      <td>1</td>\n",
       "      <td>821d7beea9373e2e80550ef3d1713ffce82b5fd86d701a...</td>\n",
       "      <td>JB327303</td>\n",
       "      <td>NaN</td>\n",
       "      <td>06/29/2018 07:23:00 AM</td>\n",
       "      <td>25</td>\n",
       "      <td>NO CONTROLS</td>\n",
       "      <td>NO CONTROLS</td>\n",
       "      <td>CLEAR</td>\n",
       "      <td>DAYLIGHT</td>\n",
       "      <td>REAR END</td>\n",
       "      <td>...</td>\n",
       "      <td>0.0</td>\n",
       "      <td>0.0</td>\n",
       "      <td>4.0</td>\n",
       "      <td>0.0</td>\n",
       "      <td>7</td>\n",
       "      <td>6</td>\n",
       "      <td>6</td>\n",
       "      <td>41.982035</td>\n",
       "      <td>-87.653046</td>\n",
       "      <td>POINT (-87.653046395054 41.982035401108)</td>\n",
       "    </tr>\n",
       "    <tr>\n",
       "      <td>2</td>\n",
       "      <td>323ab4eecab7b9cc814f103af57984197730ece15d0373...</td>\n",
       "      <td>JA428644</td>\n",
       "      <td>NaN</td>\n",
       "      <td>09/12/2017 04:40:00 PM</td>\n",
       "      <td>15</td>\n",
       "      <td>NO CONTROLS</td>\n",
       "      <td>NO CONTROLS</td>\n",
       "      <td>CLEAR</td>\n",
       "      <td>DAYLIGHT</td>\n",
       "      <td>PARKED MOTOR VEHICLE</td>\n",
       "      <td>...</td>\n",
       "      <td>0.0</td>\n",
       "      <td>0.0</td>\n",
       "      <td>2.0</td>\n",
       "      <td>0.0</td>\n",
       "      <td>16</td>\n",
       "      <td>3</td>\n",
       "      <td>9</td>\n",
       "      <td>41.706847</td>\n",
       "      <td>-87.612389</td>\n",
       "      <td>POINT (-87.612389315742 41.706847438183)</td>\n",
       "    </tr>\n",
       "    <tr>\n",
       "      <td>3</td>\n",
       "      <td>02b125bee9b78c274f093ebe5c5a9f2e6bc46841521a36...</td>\n",
       "      <td>JC177825</td>\n",
       "      <td>NaN</td>\n",
       "      <td>03/08/2019 09:45:00 AM</td>\n",
       "      <td>30</td>\n",
       "      <td>NO CONTROLS</td>\n",
       "      <td>NO CONTROLS</td>\n",
       "      <td>CLEAR</td>\n",
       "      <td>DAYLIGHT</td>\n",
       "      <td>REAR END</td>\n",
       "      <td>...</td>\n",
       "      <td>0.0</td>\n",
       "      <td>0.0</td>\n",
       "      <td>2.0</td>\n",
       "      <td>0.0</td>\n",
       "      <td>9</td>\n",
       "      <td>6</td>\n",
       "      <td>3</td>\n",
       "      <td>41.886677</td>\n",
       "      <td>-87.693541</td>\n",
       "      <td>POINT (-87.693541479988 41.886676655033)</td>\n",
       "    </tr>\n",
       "    <tr>\n",
       "      <td>4</td>\n",
       "      <td>adcfa111bbc16787274fff95753ead117853f08d70ee3f...</td>\n",
       "      <td>JC192368</td>\n",
       "      <td>NaN</td>\n",
       "      <td>03/20/2019 05:28:00 AM</td>\n",
       "      <td>30</td>\n",
       "      <td>NO CONTROLS</td>\n",
       "      <td>NO CONTROLS</td>\n",
       "      <td>RAIN</td>\n",
       "      <td>DARKNESS, LIGHTED ROAD</td>\n",
       "      <td>TURNING</td>\n",
       "      <td>...</td>\n",
       "      <td>0.0</td>\n",
       "      <td>0.0</td>\n",
       "      <td>2.0</td>\n",
       "      <td>0.0</td>\n",
       "      <td>5</td>\n",
       "      <td>4</td>\n",
       "      <td>3</td>\n",
       "      <td>41.785733</td>\n",
       "      <td>-87.738438</td>\n",
       "      <td>POINT (-87.738438322686 41.785732807652)</td>\n",
       "    </tr>\n",
       "  </tbody>\n",
       "</table>\n",
       "<p>5 rows × 49 columns</p>\n",
       "</div>"
      ],
      "text/plain": [
       "                                     CRASH_RECORD_ID     RD_NO  \\\n",
       "0  6d7c895988f975b749683c20b6ac76dafd3ccc9ef8eea1...  JD223347   \n",
       "1  821d7beea9373e2e80550ef3d1713ffce82b5fd86d701a...  JB327303   \n",
       "2  323ab4eecab7b9cc814f103af57984197730ece15d0373...  JA428644   \n",
       "3  02b125bee9b78c274f093ebe5c5a9f2e6bc46841521a36...  JC177825   \n",
       "4  adcfa111bbc16787274fff95753ead117853f08d70ee3f...  JC192368   \n",
       "\n",
       "  CRASH_DATE_EST_I              CRASH_DATE  POSTED_SPEED_LIMIT  \\\n",
       "0              NaN  05/03/2020 03:00:00 PM                  35   \n",
       "1              NaN  06/29/2018 07:23:00 AM                  25   \n",
       "2              NaN  09/12/2017 04:40:00 PM                  15   \n",
       "3              NaN  03/08/2019 09:45:00 AM                  30   \n",
       "4              NaN  03/20/2019 05:28:00 AM                  30   \n",
       "\n",
       "  TRAFFIC_CONTROL_DEVICE      DEVICE_CONDITION WEATHER_CONDITION  \\\n",
       "0         TRAFFIC SIGNAL  FUNCTIONING PROPERLY             CLEAR   \n",
       "1            NO CONTROLS           NO CONTROLS             CLEAR   \n",
       "2            NO CONTROLS           NO CONTROLS             CLEAR   \n",
       "3            NO CONTROLS           NO CONTROLS             CLEAR   \n",
       "4            NO CONTROLS           NO CONTROLS              RAIN   \n",
       "\n",
       "       LIGHTING_CONDITION      FIRST_CRASH_TYPE  ...  \\\n",
       "0                DAYLIGHT              REAR END  ...   \n",
       "1                DAYLIGHT              REAR END  ...   \n",
       "2                DAYLIGHT  PARKED MOTOR VEHICLE  ...   \n",
       "3                DAYLIGHT              REAR END  ...   \n",
       "4  DARKNESS, LIGHTED ROAD               TURNING  ...   \n",
       "\n",
       "  INJURIES_NON_INCAPACITATING  INJURIES_REPORTED_NOT_EVIDENT  \\\n",
       "0                         0.0                            0.0   \n",
       "1                         0.0                            0.0   \n",
       "2                         0.0                            0.0   \n",
       "3                         0.0                            0.0   \n",
       "4                         0.0                            0.0   \n",
       "\n",
       "  INJURIES_NO_INDICATION INJURIES_UNKNOWN CRASH_HOUR CRASH_DAY_OF_WEEK  \\\n",
       "0                    2.0              0.0         15                 1   \n",
       "1                    4.0              0.0          7                 6   \n",
       "2                    2.0              0.0         16                 3   \n",
       "3                    2.0              0.0          9                 6   \n",
       "4                    2.0              0.0          5                 4   \n",
       "\n",
       "  CRASH_MONTH   LATITUDE  LONGITUDE                                  LOCATION  \n",
       "0           5  41.853983 -87.685561  POINT (-87.685561084102 41.853983119541)  \n",
       "1           6  41.982035 -87.653046  POINT (-87.653046395054 41.982035401108)  \n",
       "2           9  41.706847 -87.612389  POINT (-87.612389315742 41.706847438183)  \n",
       "3           3  41.886677 -87.693541  POINT (-87.693541479988 41.886676655033)  \n",
       "4           3  41.785733 -87.738438  POINT (-87.738438322686 41.785732807652)  \n",
       "\n",
       "[5 rows x 49 columns]"
      ]
     },
     "execution_count": 83,
     "metadata": {},
     "output_type": "execute_result"
    }
   ],
   "source": [
    "df.head()"
   ]
  },
  {
   "cell_type": "code",
   "execution_count": 84,
   "metadata": {},
   "outputs": [
    {
     "data": {
      "text/plain": [
       "(70000, 49)"
      ]
     },
     "execution_count": 84,
     "metadata": {},
     "output_type": "execute_result"
    }
   ],
   "source": [
    "df.shape"
   ]
  },
  {
   "cell_type": "code",
   "execution_count": 85,
   "metadata": {},
   "outputs": [
    {
     "data": {
      "text/plain": [
       "Index(['CRASH_RECORD_ID', 'RD_NO', 'CRASH_DATE_EST_I', 'CRASH_DATE',\n",
       "       'POSTED_SPEED_LIMIT', 'TRAFFIC_CONTROL_DEVICE', 'DEVICE_CONDITION',\n",
       "       'WEATHER_CONDITION', 'LIGHTING_CONDITION', 'FIRST_CRASH_TYPE',\n",
       "       'TRAFFICWAY_TYPE', 'LANE_CNT', 'ALIGNMENT', 'ROADWAY_SURFACE_COND',\n",
       "       'ROAD_DEFECT', 'REPORT_TYPE', 'CRASH_TYPE', 'INTERSECTION_RELATED_I',\n",
       "       'NOT_RIGHT_OF_WAY_I', 'HIT_AND_RUN_I', 'DAMAGE', 'DATE_POLICE_NOTIFIED',\n",
       "       'PRIM_CONTRIBUTORY_CAUSE', 'SEC_CONTRIBUTORY_CAUSE', 'STREET_NO',\n",
       "       'STREET_DIRECTION', 'STREET_NAME', 'BEAT_OF_OCCURRENCE',\n",
       "       'PHOTOS_TAKEN_I', 'STATEMENTS_TAKEN_I', 'DOORING_I', 'WORK_ZONE_I',\n",
       "       'WORK_ZONE_TYPE', 'WORKERS_PRESENT_I', 'NUM_UNITS',\n",
       "       'MOST_SEVERE_INJURY', 'INJURIES_TOTAL', 'INJURIES_FATAL',\n",
       "       'INJURIES_INCAPACITATING', 'INJURIES_NON_INCAPACITATING',\n",
       "       'INJURIES_REPORTED_NOT_EVIDENT', 'INJURIES_NO_INDICATION',\n",
       "       'INJURIES_UNKNOWN', 'CRASH_HOUR', 'CRASH_DAY_OF_WEEK', 'CRASH_MONTH',\n",
       "       'LATITUDE', 'LONGITUDE', 'LOCATION'],\n",
       "      dtype='object')"
      ]
     },
     "execution_count": 85,
     "metadata": {},
     "output_type": "execute_result"
    }
   ],
   "source": [
    "df.columns"
   ]
  },
  {
   "cell_type": "code",
   "execution_count": 86,
   "metadata": {},
   "outputs": [],
   "source": [
    "names = ['POSTED_SPEED_LIMIT', 'WEATHER_CONDITION', 'LIGHTING_CONDITION', 'ALIGNMENT', 'ROADWAY_SURFACE_COND', 'NUM_UNITS']"
   ]
  },
  {
   "cell_type": "code",
   "execution_count": 87,
   "metadata": {},
   "outputs": [
    {
     "name": "stdout",
     "output_type": "stream",
     "text": [
      "Unique\n",
      "[ 0.  1. nan  2.  3.  5.  4.]\n",
      "\n",
      "\n",
      "Value Counts\n",
      "0.0    0.981800\n",
      "1.0    0.014100\n",
      "NaN    0.001786\n",
      "2.0    0.001786\n",
      "3.0    0.000386\n",
      "5.0    0.000071\n",
      "4.0    0.000071\n",
      "Name: INJURIES_INCAPACITATING, dtype: float64\n"
     ]
    }
   ],
   "source": [
    "col = 'INJURIES_INCAPACITATING'\n",
    "\n",
    "print('Unique')\n",
    "print(df[col].unique())\n",
    "print('\\n')\n",
    "print('Value Counts')\n",
    "print(df[col].value_counts(normalize=True, dropna=False))"
   ]
  },
  {
   "cell_type": "code",
   "execution_count": 88,
   "metadata": {},
   "outputs": [
    {
     "name": "stdout",
     "output_type": "stream",
     "text": [
      "Name: POSTED_SPEED_LIMIT\n",
      "Unique\n",
      "[35 25 15 30 40 20 10 45  0  5 55  3 65 50  1 36  9 24 39 99 31 32  2 70\n",
      " 60 18 34 33  6 11]\n",
      "Value Counts\n",
      "30    0.736514\n",
      "35    0.069414\n",
      "25    0.060900\n",
      "20    0.038414\n",
      "15    0.035114\n",
      "10    0.020871\n",
      "0     0.014329\n",
      "40    0.008943\n",
      "5     0.007243\n",
      "45    0.005914\n",
      "55    0.001071\n",
      "3     0.000271\n",
      "50    0.000214\n",
      "39    0.000171\n",
      "9     0.000157\n",
      "99    0.000129\n",
      "1     0.000086\n",
      "65    0.000029\n",
      "60    0.000029\n",
      "32    0.000029\n",
      "33    0.000029\n",
      "11    0.000014\n",
      "18    0.000014\n",
      "31    0.000014\n",
      "70    0.000014\n",
      "6     0.000014\n",
      "2     0.000014\n",
      "34    0.000014\n",
      "36    0.000014\n",
      "24    0.000014\n",
      "Name: POSTED_SPEED_LIMIT, dtype: float64\n",
      "----------------------------------------------------\n",
      "Name: WEATHER_CONDITION\n",
      "Unique\n",
      "['CLEAR' 'RAIN' 'SNOW' 'UNKNOWN' 'CLOUDY/OVERCAST' 'OTHER'\n",
      " 'FOG/SMOKE/HAZE' 'SLEET/HAIL' 'FREEZING RAIN/DRIZZLE'\n",
      " 'SEVERE CROSS WIND GATE' 'BLOWING SNOW']\n",
      "Value Counts\n",
      "CLEAR                     0.793829\n",
      "RAIN                      0.090857\n",
      "UNKNOWN                   0.043029\n",
      "SNOW                      0.034157\n",
      "CLOUDY/OVERCAST           0.030271\n",
      "OTHER                     0.003286\n",
      "FOG/SMOKE/HAZE            0.001757\n",
      "SLEET/HAIL                0.001543\n",
      "FREEZING RAIN/DRIZZLE     0.000957\n",
      "BLOWING SNOW              0.000186\n",
      "SEVERE CROSS WIND GATE    0.000129\n",
      "Name: WEATHER_CONDITION, dtype: float64\n",
      "----------------------------------------------------\n",
      "Name: LIGHTING_CONDITION\n",
      "Unique\n",
      "['DAYLIGHT' 'DARKNESS, LIGHTED ROAD' 'DARKNESS' 'UNKNOWN' 'DUSK' 'DAWN']\n",
      "Value Counts\n",
      "DAYLIGHT                  0.653314\n",
      "DARKNESS, LIGHTED ROAD    0.211400\n",
      "DARKNESS                  0.051457\n",
      "UNKNOWN                   0.036243\n",
      "DUSK                      0.030471\n",
      "DAWN                      0.017114\n",
      "Name: LIGHTING_CONDITION, dtype: float64\n",
      "----------------------------------------------------\n",
      "Name: ALIGNMENT\n",
      "Unique\n",
      "['STRAIGHT AND LEVEL' 'CURVE ON GRADE' 'STRAIGHT ON GRADE' 'CURVE, LEVEL'\n",
      " 'STRAIGHT ON HILLCREST' 'CURVE ON HILLCREST']\n",
      "Value Counts\n",
      "STRAIGHT AND LEVEL       0.974214\n",
      "STRAIGHT ON GRADE        0.013429\n",
      "CURVE, LEVEL             0.007357\n",
      "STRAIGHT ON HILLCREST    0.003114\n",
      "CURVE ON GRADE           0.001400\n",
      "CURVE ON HILLCREST       0.000486\n",
      "Name: ALIGNMENT, dtype: float64\n",
      "----------------------------------------------------\n",
      "Name: ROADWAY_SURFACE_COND\n",
      "Unique\n",
      "['DRY' 'SNOW OR SLUSH' 'WET' 'ICE' 'UNKNOWN' 'OTHER' 'SAND, MUD, DIRT']\n",
      "Value Counts\n",
      "DRY                0.753771\n",
      "WET                0.136629\n",
      "UNKNOWN            0.066943\n",
      "SNOW OR SLUSH      0.032557\n",
      "ICE                0.007386\n",
      "OTHER              0.002343\n",
      "SAND, MUD, DIRT    0.000371\n",
      "Name: ROADWAY_SURFACE_COND, dtype: float64\n",
      "----------------------------------------------------\n",
      "Name: NUM_UNITS\n",
      "Unique\n",
      "[ 2  3  5  4  1 10  6  7 12  9 11 15  8]\n",
      "Value Counts\n",
      "2     0.881471\n",
      "1     0.053029\n",
      "3     0.052286\n",
      "4     0.009457\n",
      "5     0.002557\n",
      "6     0.000771\n",
      "7     0.000243\n",
      "8     0.000100\n",
      "10    0.000029\n",
      "15    0.000014\n",
      "12    0.000014\n",
      "11    0.000014\n",
      "9     0.000014\n",
      "Name: NUM_UNITS, dtype: float64\n",
      "----------------------------------------------------\n"
     ]
    }
   ],
   "source": [
    "for name in names:\n",
    "    print(f'Name: {name}')\n",
    "    print('Unique')\n",
    "    print(df[name].unique())\n",
    "    print('Value Counts')\n",
    "    print(df[name].value_counts(normalize=True, dropna=False))\n",
    "    print('----------------------------------------------------')"
   ]
  },
  {
   "cell_type": "code",
   "execution_count": 89,
   "metadata": {},
   "outputs": [
    {
     "data": {
      "text/plain": [
       "Index(['CRASH_RECORD_ID', 'RD_NO', 'CRASH_DATE_EST_I', 'CRASH_DATE',\n",
       "       'POSTED_SPEED_LIMIT', 'TRAFFIC_CONTROL_DEVICE', 'DEVICE_CONDITION',\n",
       "       'WEATHER_CONDITION', 'LIGHTING_CONDITION', 'FIRST_CRASH_TYPE',\n",
       "       'TRAFFICWAY_TYPE', 'LANE_CNT', 'ALIGNMENT', 'ROADWAY_SURFACE_COND',\n",
       "       'ROAD_DEFECT', 'REPORT_TYPE', 'CRASH_TYPE', 'INTERSECTION_RELATED_I',\n",
       "       'NOT_RIGHT_OF_WAY_I', 'HIT_AND_RUN_I', 'DAMAGE', 'DATE_POLICE_NOTIFIED',\n",
       "       'PRIM_CONTRIBUTORY_CAUSE', 'SEC_CONTRIBUTORY_CAUSE', 'STREET_NO',\n",
       "       'STREET_DIRECTION', 'STREET_NAME', 'BEAT_OF_OCCURRENCE',\n",
       "       'PHOTOS_TAKEN_I', 'STATEMENTS_TAKEN_I', 'DOORING_I', 'WORK_ZONE_I',\n",
       "       'WORK_ZONE_TYPE', 'WORKERS_PRESENT_I', 'NUM_UNITS',\n",
       "       'MOST_SEVERE_INJURY', 'INJURIES_TOTAL', 'INJURIES_FATAL',\n",
       "       'INJURIES_INCAPACITATING', 'INJURIES_NON_INCAPACITATING',\n",
       "       'INJURIES_REPORTED_NOT_EVIDENT', 'INJURIES_NO_INDICATION',\n",
       "       'INJURIES_UNKNOWN', 'CRASH_HOUR', 'CRASH_DAY_OF_WEEK', 'CRASH_MONTH',\n",
       "       'LATITUDE', 'LONGITUDE', 'LOCATION'],\n",
       "      dtype='object')"
      ]
     },
     "execution_count": 89,
     "metadata": {},
     "output_type": "execute_result"
    }
   ],
   "source": [
    "df.columns"
   ]
  },
  {
   "cell_type": "markdown",
   "metadata": {},
   "source": [
    "In this cell, I entered each column name manually instead of doing a lengthy `for` loop as above. I'm not saving each one."
   ]
  },
  {
   "cell_type": "code",
   "execution_count": 90,
   "metadata": {},
   "outputs": [
    {
     "name": "stdout",
     "output_type": "stream",
     "text": [
      "Unique\n",
      "['TRAFFIC SIGNAL' 'NO CONTROLS' 'LANE USE MARKING' 'STOP SIGN/FLASHER'\n",
      " 'UNKNOWN' 'OTHER RAILROAD CROSSING' 'SCHOOL ZONE' 'YIELD' 'OTHER'\n",
      " 'OTHER REG. SIGN' 'RAILROAD CROSSING GATE' 'POLICE/FLAGMAN'\n",
      " 'OTHER WARNING SIGN' 'PEDESTRIAN CROSSING SIGN' 'NO PASSING'\n",
      " 'DELINEATORS' 'BICYCLE CROSSING SIGN' 'FLASHING CONTROL SIGNAL'\n",
      " 'RR CROSSING SIGN']\n",
      "\n",
      "\n",
      "Value Counts\n",
      "NO CONTROLS                 0.574786\n",
      "TRAFFIC SIGNAL              0.279429\n",
      "STOP SIGN/FLASHER           0.098800\n",
      "UNKNOWN                     0.032600\n",
      "OTHER                       0.005814\n",
      "LANE USE MARKING            0.002643\n",
      "YIELD                       0.001657\n",
      "OTHER REG. SIGN             0.001057\n",
      "OTHER WARNING SIGN          0.000757\n",
      "RAILROAD CROSSING GATE      0.000671\n",
      "PEDESTRIAN CROSSING SIGN    0.000429\n",
      "POLICE/FLAGMAN              0.000343\n",
      "DELINEATORS                 0.000286\n",
      "SCHOOL ZONE                 0.000257\n",
      "OTHER RAILROAD CROSSING     0.000200\n",
      "FLASHING CONTROL SIGNAL     0.000186\n",
      "BICYCLE CROSSING SIGN       0.000043\n",
      "RR CROSSING SIGN            0.000029\n",
      "NO PASSING                  0.000014\n",
      "Name: TRAFFIC_CONTROL_DEVICE, dtype: float64\n"
     ]
    }
   ],
   "source": [
    "col = 'TRAFFIC_CONTROL_DEVICE'\n",
    "\n",
    "print('Unique')\n",
    "print(df[col].unique())\n",
    "print('\\n')\n",
    "print('Value Counts')\n",
    "print(df[col].value_counts(normalize=True, dropna=False))"
   ]
  },
  {
   "cell_type": "markdown",
   "metadata": {},
   "source": [
    "#### Choosing columns to keep"
   ]
  },
  {
   "cell_type": "code",
   "execution_count": 91,
   "metadata": {},
   "outputs": [
    {
     "data": {
      "text/html": [
       "<div>\n",
       "<style scoped>\n",
       "    .dataframe tbody tr th:only-of-type {\n",
       "        vertical-align: middle;\n",
       "    }\n",
       "\n",
       "    .dataframe tbody tr th {\n",
       "        vertical-align: top;\n",
       "    }\n",
       "\n",
       "    .dataframe thead th {\n",
       "        text-align: right;\n",
       "    }\n",
       "</style>\n",
       "<table border=\"1\" class=\"dataframe\">\n",
       "  <thead>\n",
       "    <tr style=\"text-align: right;\">\n",
       "      <th></th>\n",
       "      <th>CRASH_RECORD_ID</th>\n",
       "      <th>POSTED_SPEED_LIMIT</th>\n",
       "      <th>WEATHER_CONDITION</th>\n",
       "      <th>LIGHTING_CONDITION</th>\n",
       "      <th>ALIGNMENT</th>\n",
       "      <th>ROADWAY_SURFACE_COND</th>\n",
       "      <th>NUM_UNITS</th>\n",
       "      <th>INJURIES_FATAL</th>\n",
       "      <th>INJURIES_INCAPACITATING</th>\n",
       "      <th>CRASH_HOUR</th>\n",
       "      <th>CRASH_DAY_OF_WEEK</th>\n",
       "      <th>CRASH_MONTH</th>\n",
       "    </tr>\n",
       "  </thead>\n",
       "  <tbody>\n",
       "    <tr>\n",
       "      <td>0</td>\n",
       "      <td>6d7c895988f975b749683c20b6ac76dafd3ccc9ef8eea1...</td>\n",
       "      <td>35</td>\n",
       "      <td>CLEAR</td>\n",
       "      <td>DAYLIGHT</td>\n",
       "      <td>STRAIGHT AND LEVEL</td>\n",
       "      <td>DRY</td>\n",
       "      <td>2</td>\n",
       "      <td>0.0</td>\n",
       "      <td>0.0</td>\n",
       "      <td>15</td>\n",
       "      <td>1</td>\n",
       "      <td>5</td>\n",
       "    </tr>\n",
       "    <tr>\n",
       "      <td>1</td>\n",
       "      <td>821d7beea9373e2e80550ef3d1713ffce82b5fd86d701a...</td>\n",
       "      <td>25</td>\n",
       "      <td>CLEAR</td>\n",
       "      <td>DAYLIGHT</td>\n",
       "      <td>CURVE ON GRADE</td>\n",
       "      <td>DRY</td>\n",
       "      <td>2</td>\n",
       "      <td>0.0</td>\n",
       "      <td>0.0</td>\n",
       "      <td>7</td>\n",
       "      <td>6</td>\n",
       "      <td>6</td>\n",
       "    </tr>\n",
       "    <tr>\n",
       "      <td>2</td>\n",
       "      <td>323ab4eecab7b9cc814f103af57984197730ece15d0373...</td>\n",
       "      <td>15</td>\n",
       "      <td>CLEAR</td>\n",
       "      <td>DAYLIGHT</td>\n",
       "      <td>STRAIGHT AND LEVEL</td>\n",
       "      <td>DRY</td>\n",
       "      <td>2</td>\n",
       "      <td>0.0</td>\n",
       "      <td>0.0</td>\n",
       "      <td>16</td>\n",
       "      <td>3</td>\n",
       "      <td>9</td>\n",
       "    </tr>\n",
       "    <tr>\n",
       "      <td>3</td>\n",
       "      <td>02b125bee9b78c274f093ebe5c5a9f2e6bc46841521a36...</td>\n",
       "      <td>30</td>\n",
       "      <td>CLEAR</td>\n",
       "      <td>DAYLIGHT</td>\n",
       "      <td>STRAIGHT AND LEVEL</td>\n",
       "      <td>SNOW OR SLUSH</td>\n",
       "      <td>2</td>\n",
       "      <td>0.0</td>\n",
       "      <td>0.0</td>\n",
       "      <td>9</td>\n",
       "      <td>6</td>\n",
       "      <td>3</td>\n",
       "    </tr>\n",
       "    <tr>\n",
       "      <td>4</td>\n",
       "      <td>adcfa111bbc16787274fff95753ead117853f08d70ee3f...</td>\n",
       "      <td>30</td>\n",
       "      <td>RAIN</td>\n",
       "      <td>DARKNESS, LIGHTED ROAD</td>\n",
       "      <td>STRAIGHT AND LEVEL</td>\n",
       "      <td>WET</td>\n",
       "      <td>2</td>\n",
       "      <td>0.0</td>\n",
       "      <td>0.0</td>\n",
       "      <td>5</td>\n",
       "      <td>4</td>\n",
       "      <td>3</td>\n",
       "    </tr>\n",
       "  </tbody>\n",
       "</table>\n",
       "</div>"
      ],
      "text/plain": [
       "                                     CRASH_RECORD_ID  POSTED_SPEED_LIMIT  \\\n",
       "0  6d7c895988f975b749683c20b6ac76dafd3ccc9ef8eea1...                  35   \n",
       "1  821d7beea9373e2e80550ef3d1713ffce82b5fd86d701a...                  25   \n",
       "2  323ab4eecab7b9cc814f103af57984197730ece15d0373...                  15   \n",
       "3  02b125bee9b78c274f093ebe5c5a9f2e6bc46841521a36...                  30   \n",
       "4  adcfa111bbc16787274fff95753ead117853f08d70ee3f...                  30   \n",
       "\n",
       "  WEATHER_CONDITION      LIGHTING_CONDITION           ALIGNMENT  \\\n",
       "0             CLEAR                DAYLIGHT  STRAIGHT AND LEVEL   \n",
       "1             CLEAR                DAYLIGHT      CURVE ON GRADE   \n",
       "2             CLEAR                DAYLIGHT  STRAIGHT AND LEVEL   \n",
       "3             CLEAR                DAYLIGHT  STRAIGHT AND LEVEL   \n",
       "4              RAIN  DARKNESS, LIGHTED ROAD  STRAIGHT AND LEVEL   \n",
       "\n",
       "  ROADWAY_SURFACE_COND  NUM_UNITS  INJURIES_FATAL  INJURIES_INCAPACITATING  \\\n",
       "0                  DRY          2             0.0                      0.0   \n",
       "1                  DRY          2             0.0                      0.0   \n",
       "2                  DRY          2             0.0                      0.0   \n",
       "3        SNOW OR SLUSH          2             0.0                      0.0   \n",
       "4                  WET          2             0.0                      0.0   \n",
       "\n",
       "   CRASH_HOUR  CRASH_DAY_OF_WEEK  CRASH_MONTH  \n",
       "0          15                  1            5  \n",
       "1           7                  6            6  \n",
       "2          16                  3            9  \n",
       "3           9                  6            3  \n",
       "4           5                  4            3  "
      ]
     },
     "execution_count": 91,
     "metadata": {},
     "output_type": "execute_result"
    }
   ],
   "source": [
    "df_temp = df[['CRASH_RECORD_ID', 'POSTED_SPEED_LIMIT', 'WEATHER_CONDITION', 'LIGHTING_CONDITION', 'ALIGNMENT', 'ROADWAY_SURFACE_COND',\n",
    "             'NUM_UNITS', 'INJURIES_FATAL', 'INJURIES_INCAPACITATING', 'CRASH_HOUR', 'CRASH_DAY_OF_WEEK', 'CRASH_MONTH']]\n",
    "df_temp.head()"
   ]
  },
  {
   "cell_type": "code",
   "execution_count": 92,
   "metadata": {},
   "outputs": [],
   "source": [
    "df = df_temp"
   ]
  },
  {
   "cell_type": "code",
   "execution_count": 93,
   "metadata": {},
   "outputs": [
    {
     "data": {
      "text/html": [
       "<div>\n",
       "<style scoped>\n",
       "    .dataframe tbody tr th:only-of-type {\n",
       "        vertical-align: middle;\n",
       "    }\n",
       "\n",
       "    .dataframe tbody tr th {\n",
       "        vertical-align: top;\n",
       "    }\n",
       "\n",
       "    .dataframe thead th {\n",
       "        text-align: right;\n",
       "    }\n",
       "</style>\n",
       "<table border=\"1\" class=\"dataframe\">\n",
       "  <thead>\n",
       "    <tr style=\"text-align: right;\">\n",
       "      <th></th>\n",
       "      <th>CRASH_RECORD_ID</th>\n",
       "      <th>POSTED_SPEED_LIMIT</th>\n",
       "      <th>WEATHER_CONDITION</th>\n",
       "      <th>LIGHTING_CONDITION</th>\n",
       "      <th>ALIGNMENT</th>\n",
       "      <th>ROADWAY_SURFACE_COND</th>\n",
       "      <th>NUM_UNITS</th>\n",
       "      <th>INJURIES_FATAL</th>\n",
       "      <th>INJURIES_INCAPACITATING</th>\n",
       "      <th>CRASH_HOUR</th>\n",
       "      <th>CRASH_DAY_OF_WEEK</th>\n",
       "      <th>CRASH_MONTH</th>\n",
       "    </tr>\n",
       "  </thead>\n",
       "  <tbody>\n",
       "    <tr>\n",
       "      <td>2969</td>\n",
       "      <td>2316f18e70c1a2c0295867b0265602cc0a606e6dfdf81b...</td>\n",
       "      <td>30</td>\n",
       "      <td>CLEAR</td>\n",
       "      <td>DARKNESS, LIGHTED ROAD</td>\n",
       "      <td>STRAIGHT AND LEVEL</td>\n",
       "      <td>DRY</td>\n",
       "      <td>2</td>\n",
       "      <td>1.0</td>\n",
       "      <td>1.0</td>\n",
       "      <td>3</td>\n",
       "      <td>5</td>\n",
       "      <td>5</td>\n",
       "    </tr>\n",
       "    <tr>\n",
       "      <td>5073</td>\n",
       "      <td>8b2eaa0750cbe3bd01c119f6ceecb9f0678a457b35e104...</td>\n",
       "      <td>25</td>\n",
       "      <td>CLOUDY/OVERCAST</td>\n",
       "      <td>DARKNESS, LIGHTED ROAD</td>\n",
       "      <td>CURVE, LEVEL</td>\n",
       "      <td>DRY</td>\n",
       "      <td>1</td>\n",
       "      <td>1.0</td>\n",
       "      <td>0.0</td>\n",
       "      <td>2</td>\n",
       "      <td>2</td>\n",
       "      <td>4</td>\n",
       "    </tr>\n",
       "    <tr>\n",
       "      <td>5595</td>\n",
       "      <td>152386d93c4e043da4066e64866a5cf5a2140be288a3a5...</td>\n",
       "      <td>40</td>\n",
       "      <td>CLEAR</td>\n",
       "      <td>DARKNESS, LIGHTED ROAD</td>\n",
       "      <td>STRAIGHT AND LEVEL</td>\n",
       "      <td>DRY</td>\n",
       "      <td>2</td>\n",
       "      <td>1.0</td>\n",
       "      <td>2.0</td>\n",
       "      <td>1</td>\n",
       "      <td>6</td>\n",
       "      <td>3</td>\n",
       "    </tr>\n",
       "    <tr>\n",
       "      <td>5806</td>\n",
       "      <td>b8d58b2a5e2db0a5282a696347a95a049f1be190e0d6a1...</td>\n",
       "      <td>30</td>\n",
       "      <td>RAIN</td>\n",
       "      <td>DARKNESS, LIGHTED ROAD</td>\n",
       "      <td>STRAIGHT AND LEVEL</td>\n",
       "      <td>WET</td>\n",
       "      <td>2</td>\n",
       "      <td>1.0</td>\n",
       "      <td>0.0</td>\n",
       "      <td>22</td>\n",
       "      <td>1</td>\n",
       "      <td>7</td>\n",
       "    </tr>\n",
       "    <tr>\n",
       "      <td>6602</td>\n",
       "      <td>0af8990f5a70319a5914d37ed6506e7a31a88f1f562271...</td>\n",
       "      <td>30</td>\n",
       "      <td>CLEAR</td>\n",
       "      <td>DARKNESS, LIGHTED ROAD</td>\n",
       "      <td>STRAIGHT AND LEVEL</td>\n",
       "      <td>DRY</td>\n",
       "      <td>2</td>\n",
       "      <td>1.0</td>\n",
       "      <td>0.0</td>\n",
       "      <td>16</td>\n",
       "      <td>5</td>\n",
       "      <td>12</td>\n",
       "    </tr>\n",
       "  </tbody>\n",
       "</table>\n",
       "</div>"
      ],
      "text/plain": [
       "                                        CRASH_RECORD_ID  POSTED_SPEED_LIMIT  \\\n",
       "2969  2316f18e70c1a2c0295867b0265602cc0a606e6dfdf81b...                  30   \n",
       "5073  8b2eaa0750cbe3bd01c119f6ceecb9f0678a457b35e104...                  25   \n",
       "5595  152386d93c4e043da4066e64866a5cf5a2140be288a3a5...                  40   \n",
       "5806  b8d58b2a5e2db0a5282a696347a95a049f1be190e0d6a1...                  30   \n",
       "6602  0af8990f5a70319a5914d37ed6506e7a31a88f1f562271...                  30   \n",
       "\n",
       "     WEATHER_CONDITION      LIGHTING_CONDITION           ALIGNMENT  \\\n",
       "2969             CLEAR  DARKNESS, LIGHTED ROAD  STRAIGHT AND LEVEL   \n",
       "5073   CLOUDY/OVERCAST  DARKNESS, LIGHTED ROAD        CURVE, LEVEL   \n",
       "5595             CLEAR  DARKNESS, LIGHTED ROAD  STRAIGHT AND LEVEL   \n",
       "5806              RAIN  DARKNESS, LIGHTED ROAD  STRAIGHT AND LEVEL   \n",
       "6602             CLEAR  DARKNESS, LIGHTED ROAD  STRAIGHT AND LEVEL   \n",
       "\n",
       "     ROADWAY_SURFACE_COND  NUM_UNITS  INJURIES_FATAL  INJURIES_INCAPACITATING  \\\n",
       "2969                  DRY          2             1.0                      1.0   \n",
       "5073                  DRY          1             1.0                      0.0   \n",
       "5595                  DRY          2             1.0                      2.0   \n",
       "5806                  WET          2             1.0                      0.0   \n",
       "6602                  DRY          2             1.0                      0.0   \n",
       "\n",
       "      CRASH_HOUR  CRASH_DAY_OF_WEEK  CRASH_MONTH  \n",
       "2969           3                  5            5  \n",
       "5073           2                  2            4  \n",
       "5595           1                  6            3  \n",
       "5806          22                  1            7  \n",
       "6602          16                  5           12  "
      ]
     },
     "execution_count": 93,
     "metadata": {},
     "output_type": "execute_result"
    }
   ],
   "source": [
    "df[df['INJURIES_FATAL'] > 0].head()"
   ]
  },
  {
   "cell_type": "code",
   "execution_count": 94,
   "metadata": {},
   "outputs": [],
   "source": [
    "df['SERIOUS_ACCIDENT'] = 0"
   ]
  },
  {
   "cell_type": "code",
   "execution_count": 95,
   "metadata": {},
   "outputs": [
    {
     "name": "stdout",
     "output_type": "stream",
     "text": [
      "Value Counts\n",
      "0.0    0.997129\n",
      "NaN    0.001786\n",
      "1.0    0.001000\n",
      "2.0    0.000071\n",
      "3.0    0.000014\n",
      "Name: INJURIES_FATAL, dtype: float64\n"
     ]
    }
   ],
   "source": [
    "col = 'INJURIES_FATAL'\n",
    "print('Value Counts')\n",
    "print(df[col].value_counts(normalize=True, dropna=False))"
   ]
  },
  {
   "cell_type": "code",
   "execution_count": 96,
   "metadata": {},
   "outputs": [
    {
     "name": "stdout",
     "output_type": "stream",
     "text": [
      "Value Counts\n",
      "0.0    0.981800\n",
      "1.0    0.014100\n",
      "NaN    0.001786\n",
      "2.0    0.001786\n",
      "3.0    0.000386\n",
      "5.0    0.000071\n",
      "4.0    0.000071\n",
      "Name: INJURIES_INCAPACITATING, dtype: float64\n"
     ]
    }
   ],
   "source": [
    "col = 'INJURIES_INCAPACITATING'\n",
    "print('Value Counts')\n",
    "print(df[col].value_counts(normalize=True, dropna=False))"
   ]
  },
  {
   "cell_type": "code",
   "execution_count": 97,
   "metadata": {},
   "outputs": [],
   "source": [
    "df['INJURIES_FATAL'] = df['INJURIES_FATAL'].fillna(0)"
   ]
  },
  {
   "cell_type": "code",
   "execution_count": 98,
   "metadata": {},
   "outputs": [],
   "source": [
    "df['INJURIES_INCAPACITATING'] = df['INJURIES_INCAPACITATING'].fillna(0)"
   ]
  },
  {
   "cell_type": "markdown",
   "metadata": {},
   "source": [
    "#### Assigning any accident with a fatality or serious injury to \"serious accident\""
   ]
  },
  {
   "cell_type": "code",
   "execution_count": 99,
   "metadata": {},
   "outputs": [],
   "source": [
    "df.loc[df['INJURIES_FATAL'] > 0, 'SERIOUS_ACCIDENT'] = 1"
   ]
  },
  {
   "cell_type": "code",
   "execution_count": 100,
   "metadata": {},
   "outputs": [],
   "source": [
    "df.loc[df['INJURIES_INCAPACITATING'] > 0, 'SERIOUS_ACCIDENT'] = 1"
   ]
  },
  {
   "cell_type": "code",
   "execution_count": 101,
   "metadata": {},
   "outputs": [
    {
     "data": {
      "text/plain": [
       "0    0.982729\n",
       "1    0.017271\n",
       "Name: SERIOUS_ACCIDENT, dtype: float64"
      ]
     },
     "execution_count": 101,
     "metadata": {},
     "output_type": "execute_result"
    }
   ],
   "source": [
    "df['SERIOUS_ACCIDENT'].value_counts(normalize=True, dropna=False)"
   ]
  },
  {
   "cell_type": "markdown",
   "metadata": {},
   "source": [
    "Only 1.7% are serious accidents"
   ]
  },
  {
   "cell_type": "code",
   "execution_count": 102,
   "metadata": {},
   "outputs": [
    {
     "data": {
      "text/plain": [
       "False"
      ]
     },
     "execution_count": 102,
     "metadata": {},
     "output_type": "execute_result"
    }
   ],
   "source": [
    "df['CRASH_RECORD_ID'].duplicated().any()"
   ]
  },
  {
   "cell_type": "markdown",
   "metadata": {},
   "source": [
    "### Load People Dataset and Merge"
   ]
  },
  {
   "cell_type": "code",
   "execution_count": 103,
   "metadata": {},
   "outputs": [],
   "source": [
    "people = pd.read_csv('../data/Traffic_Crashes_-_People.csv', low_memory=False)"
   ]
  },
  {
   "cell_type": "code",
   "execution_count": 104,
   "metadata": {},
   "outputs": [
    {
     "data": {
      "text/plain": [
       "Index(['PERSON_ID', 'PERSON_TYPE', 'CRASH_RECORD_ID', 'RD_NO', 'VEHICLE_ID',\n",
       "       'CRASH_DATE', 'SEAT_NO', 'CITY', 'STATE', 'ZIPCODE', 'SEX', 'AGE',\n",
       "       'DRIVERS_LICENSE_STATE', 'DRIVERS_LICENSE_CLASS', 'SAFETY_EQUIPMENT',\n",
       "       'AIRBAG_DEPLOYED', 'EJECTION', 'INJURY_CLASSIFICATION', 'HOSPITAL',\n",
       "       'EMS_AGENCY', 'EMS_RUN_NO', 'DRIVER_ACTION', 'DRIVER_VISION',\n",
       "       'PHYSICAL_CONDITION', 'PEDPEDAL_ACTION', 'PEDPEDAL_VISIBILITY',\n",
       "       'PEDPEDAL_LOCATION', 'BAC_RESULT', 'BAC_RESULT VALUE',\n",
       "       'CELL_PHONE_USE'],\n",
       "      dtype='object')"
      ]
     },
     "execution_count": 104,
     "metadata": {},
     "output_type": "execute_result"
    }
   ],
   "source": [
    "people.columns"
   ]
  },
  {
   "cell_type": "code",
   "execution_count": 105,
   "metadata": {},
   "outputs": [
    {
     "name": "stdout",
     "output_type": "stream",
     "text": [
      "Unique\n",
      "['M' 'X' 'F' nan]\n",
      "\n",
      "\n",
      "Value Counts\n",
      "M      0.522386\n",
      "F      0.379843\n",
      "X      0.082946\n",
      "NaN    0.014825\n",
      "Name: SEX, dtype: float64\n"
     ]
    }
   ],
   "source": [
    "col = 'SEX'\n",
    "\n",
    "print('Unique')\n",
    "print(people[col].unique())\n",
    "print('\\n')\n",
    "print('Value Counts')\n",
    "print(people[col].value_counts(normalize=True, dropna=False))"
   ]
  },
  {
   "cell_type": "code",
   "execution_count": 106,
   "metadata": {},
   "outputs": [
    {
     "data": {
      "text/plain": [
       "PERSON_ID                84783\n",
       "PERSON_TYPE              84783\n",
       "CRASH_RECORD_ID          84783\n",
       "RD_NO                    84154\n",
       "VEHICLE_ID               84424\n",
       "CRASH_DATE               84783\n",
       "SEAT_NO                   6203\n",
       "CITY                      3642\n",
       "STATE                     5319\n",
       "ZIPCODE                   1357\n",
       "SEX                      84783\n",
       "AGE                       1033\n",
       "DRIVERS_LICENSE_STATE     5815\n",
       "DRIVERS_LICENSE_CLASS      964\n",
       "SAFETY_EQUIPMENT         84728\n",
       "AIRBAG_DEPLOYED          84652\n",
       "EJECTION                 84711\n",
       "INJURY_CLASSIFICATION    84743\n",
       "HOSPITAL                  3806\n",
       "EMS_AGENCY                2270\n",
       "EMS_RUN_NO                 222\n",
       "DRIVER_ACTION            78540\n",
       "DRIVER_VISION            78539\n",
       "PHYSICAL_CONDITION       78541\n",
       "PEDPEDAL_ACTION            156\n",
       "PEDPEDAL_VISIBILITY        149\n",
       "PEDPEDAL_LOCATION          158\n",
       "BAC_RESULT               78557\n",
       "BAC_RESULT VALUE             2\n",
       "CELL_PHONE_USE              13\n",
       "dtype: int64"
      ]
     },
     "execution_count": 106,
     "metadata": {},
     "output_type": "execute_result"
    }
   ],
   "source": [
    "people[people['SEX'] == 'X'].count()"
   ]
  },
  {
   "cell_type": "markdown",
   "metadata": {},
   "source": [
    "There are a lot of columns were SEX = 'X'. Not sure what that means. But it seems that many of those of a lot of NaN's. I'll eliminate these."
   ]
  },
  {
   "cell_type": "code",
   "execution_count": 107,
   "metadata": {},
   "outputs": [],
   "source": [
    "people = people[people['SEX'] != 'X']"
   ]
  },
  {
   "cell_type": "code",
   "execution_count": 108,
   "metadata": {},
   "outputs": [],
   "source": [
    "people = people[people['SEX'].notna()]"
   ]
  },
  {
   "cell_type": "markdown",
   "metadata": {},
   "source": [
    "Limiting the People only to drivers"
   ]
  },
  {
   "cell_type": "code",
   "execution_count": 109,
   "metadata": {},
   "outputs": [],
   "source": [
    "people = people[people['PERSON_TYPE'] == 'DRIVER']"
   ]
  },
  {
   "cell_type": "code",
   "execution_count": 110,
   "metadata": {},
   "outputs": [
    {
     "data": {
      "text/plain": [
       "True"
      ]
     },
     "execution_count": 110,
     "metadata": {},
     "output_type": "execute_result"
    }
   ],
   "source": [
    "people['CRASH_RECORD_ID'].duplicated().any()"
   ]
  },
  {
   "cell_type": "markdown",
   "metadata": {},
   "source": [
    "It's weird are even after I limited the dataframe to DRIVERs, there are still duplicated CRASH_RECORD_IDs. How can a crash have more than one driver? \n",
    "\n",
    "Actually, it makes sense. The ID must refer to all the drivers of the different vehicles in the accident."
   ]
  },
  {
   "cell_type": "code",
   "execution_count": 111,
   "metadata": {},
   "outputs": [
    {
     "name": "stdout",
     "output_type": "stream",
     "text": [
      "Unique\n",
      "[  nan   31.   29.   63.   20.   18.   30.   50.   33.   46.   65.   54.\n",
      "   26.   47.   57.   38.   72.    0.   22.   58.   49.   44.   45.   59.\n",
      "   84.   61.   37.   28.   36.   39.   51.   66.   77.   40.   34.   43.\n",
      "   74.   19.   21.   24.   27.   16.   53.   55.   32.   64.   25.   17.\n",
      "   42.   35.   23.   67.   52.   68.   48.   76.   56.   73.   62.   85.\n",
      "   60.   70.   41.   79.   78.   71.   81.   86.   69.   75.   80.   83.\n",
      "   88.   15.   89.   90.   82.   87.   92.   94.   99.   97.   93.   13.\n",
      "   14.   95.   91.    3.    1.    5.   96.  100.   98.   11.    4.   12.\n",
      "    9.    2.    6.    8.  101.   10.  110.    7.  109.  107.  104.  108.\n",
      "  103.  -49.   -1.  -47. -177.]\n",
      "\n",
      "\n",
      "Value Counts\n",
      " NaN      0.176867\n",
      " 25.0     0.024377\n",
      " 27.0     0.024341\n",
      " 26.0     0.024184\n",
      " 28.0     0.023601\n",
      "            ...   \n",
      " 108.0    0.000003\n",
      "-177.0    0.000001\n",
      "-49.0     0.000001\n",
      "-47.0     0.000001\n",
      "-1.0      0.000001\n",
      "Name: AGE, Length: 113, dtype: float64\n"
     ]
    }
   ],
   "source": [
    "col = 'AGE'\n",
    "\n",
    "print('Unique')\n",
    "print(people[col].unique())\n",
    "print('\\n')\n",
    "print('Value Counts')\n",
    "print(people[col].value_counts(normalize=True, dropna=False))"
   ]
  },
  {
   "cell_type": "markdown",
   "metadata": {},
   "source": [
    "I was hoping to use AGE of the driver when determining serious accidents but there are 18% NaN. Also, the data source describes this column as \"Age of person involved in crash,\" not necessarily the driver. "
   ]
  },
  {
   "cell_type": "markdown",
   "metadata": {},
   "source": [
    "There also seem to be a lot of minors as drivers:"
   ]
  },
  {
   "cell_type": "code",
   "execution_count": 112,
   "metadata": {},
   "outputs": [],
   "source": [
    "people_temp = people[(people['AGE'] < 10) & (people['AGE'] >0)]"
   ]
  },
  {
   "cell_type": "code",
   "execution_count": 113,
   "metadata": {},
   "outputs": [
    {
     "data": {
      "text/plain": [
       "PERSON_ID                                                          O124833\n",
       "PERSON_TYPE                                                         DRIVER\n",
       "CRASH_RECORD_ID          5be7e163cc801131c757199f853458fdf305b0df310588...\n",
       "RD_NO                                                             JA147250\n",
       "VEHICLE_ID                                                          124909\n",
       "CRASH_DATE                                          02/09/2017 09:30:00 AM\n",
       "SEAT_NO                                                                NaN\n",
       "CITY                                                               CHICAGO\n",
       "STATE                                                                   IL\n",
       "ZIPCODE                                                              60643\n",
       "SEX                                                                      F\n",
       "AGE                                                                      3\n",
       "DRIVERS_LICENSE_STATE                                                   IL\n",
       "DRIVERS_LICENSE_CLASS                                                    D\n",
       "SAFETY_EQUIPMENT                                          SAFETY BELT USED\n",
       "AIRBAG_DEPLOYED                                             NOT APPLICABLE\n",
       "EJECTION                                                              NONE\n",
       "INJURY_CLASSIFICATION                              NO INDICATION OF INJURY\n",
       "HOSPITAL                                                               NaN\n",
       "EMS_AGENCY                                                             NaN\n",
       "EMS_RUN_NO                                                             NaN\n",
       "DRIVER_ACTION                                         FOLLOWED TOO CLOSELY\n",
       "DRIVER_VISION                                                      UNKNOWN\n",
       "PHYSICAL_CONDITION                                                  NORMAL\n",
       "PEDPEDAL_ACTION                                                        NaN\n",
       "PEDPEDAL_VISIBILITY                                                    NaN\n",
       "PEDPEDAL_LOCATION                                                      NaN\n",
       "BAC_RESULT                                                TEST NOT OFFERED\n",
       "BAC_RESULT VALUE                                                       NaN\n",
       "CELL_PHONE_USE                                                         NaN\n",
       "Name: 22887, dtype: object"
      ]
     },
     "execution_count": 113,
     "metadata": {},
     "output_type": "execute_result"
    }
   ],
   "source": [
    "people_temp.iloc[0]"
   ]
  },
  {
   "cell_type": "markdown",
   "metadata": {},
   "source": [
    "In this record, the driver is 3 years old."
   ]
  },
  {
   "cell_type": "markdown",
   "metadata": {},
   "source": [
    "I'm going to limit the dataset for drivers between 16 and 80 and eliminate the NaN's. My goal is to get a general representation of the age and sex of drivers involved in crashes."
   ]
  },
  {
   "cell_type": "code",
   "execution_count": 114,
   "metadata": {},
   "outputs": [],
   "source": [
    "people = people[(people['AGE'] < 81) & (people['AGE'] > 15)]"
   ]
  },
  {
   "cell_type": "code",
   "execution_count": 115,
   "metadata": {},
   "outputs": [
    {
     "data": {
      "text/plain": [
       "(576256, 30)"
      ]
     },
     "execution_count": 115,
     "metadata": {},
     "output_type": "execute_result"
    }
   ],
   "source": [
    "people.shape"
   ]
  },
  {
   "cell_type": "code",
   "execution_count": 116,
   "metadata": {},
   "outputs": [
    {
     "data": {
      "text/plain": [
       "25.0    0.030197\n",
       "27.0    0.030152\n",
       "26.0    0.029957\n",
       "28.0    0.029235\n",
       "24.0    0.028720\n",
       "          ...   \n",
       "76.0    0.002749\n",
       "77.0    0.002438\n",
       "78.0    0.002188\n",
       "79.0    0.001883\n",
       "80.0    0.001697\n",
       "Name: AGE, Length: 65, dtype: float64"
      ]
     },
     "execution_count": 116,
     "metadata": {},
     "output_type": "execute_result"
    }
   ],
   "source": [
    "people['AGE'].value_counts(normalize=True, dropna=False)"
   ]
  },
  {
   "cell_type": "markdown",
   "metadata": {},
   "source": [
    "See about if drivers were on their phones..."
   ]
  },
  {
   "cell_type": "code",
   "execution_count": 117,
   "metadata": {},
   "outputs": [
    {
     "name": "stdout",
     "output_type": "stream",
     "text": [
      "Unique\n",
      "[nan 'N' 'Y']\n",
      "\n",
      "\n",
      "Value Counts\n",
      "NaN    0.998487\n",
      "Y      0.000932\n",
      "N      0.000581\n",
      "Name: CELL_PHONE_USE, dtype: float64\n"
     ]
    }
   ],
   "source": [
    "col = 'CELL_PHONE_USE'\n",
    "\n",
    "print('Unique')\n",
    "print(people[col].unique())\n",
    "print('\\n')\n",
    "print('Value Counts')\n",
    "print(people[col].value_counts(normalize=True, dropna=False))"
   ]
  },
  {
   "cell_type": "markdown",
   "metadata": {},
   "source": [
    "Not enough info on cell phone use to be useful"
   ]
  },
  {
   "cell_type": "markdown",
   "metadata": {},
   "source": [
    "Going to drop everything on this dataset except SEX and AGE"
   ]
  },
  {
   "cell_type": "code",
   "execution_count": 118,
   "metadata": {},
   "outputs": [],
   "source": [
    "people = people[['CRASH_RECORD_ID', 'SEX', 'AGE']]"
   ]
  },
  {
   "cell_type": "code",
   "execution_count": 119,
   "metadata": {},
   "outputs": [],
   "source": [
    "df = df.merge(people, how = 'inner', left_on='CRASH_RECORD_ID', right_on='CRASH_RECORD_ID')"
   ]
  },
  {
   "cell_type": "code",
   "execution_count": 120,
   "metadata": {},
   "outputs": [
    {
     "data": {
      "text/plain": [
       "(87215, 15)"
      ]
     },
     "execution_count": 120,
     "metadata": {},
     "output_type": "execute_result"
    }
   ],
   "source": [
    "df.shape"
   ]
  },
  {
   "cell_type": "markdown",
   "metadata": {},
   "source": [
    "## Going back working with the original dataframe"
   ]
  },
  {
   "cell_type": "code",
   "execution_count": 121,
   "metadata": {},
   "outputs": [
    {
     "data": {
      "text/plain": [
       "(87215, 15)"
      ]
     },
     "execution_count": 121,
     "metadata": {},
     "output_type": "execute_result"
    }
   ],
   "source": [
    "df.shape"
   ]
  },
  {
   "cell_type": "code",
   "execution_count": 122,
   "metadata": {},
   "outputs": [],
   "source": [
    "df.drop_duplicates(subset=['CRASH_RECORD_ID'], inplace=True)"
   ]
  },
  {
   "cell_type": "markdown",
   "metadata": {},
   "source": [
    "Dropping duplicates will still give me an idea of what is the SEX and AGE of people involved in the accidents. "
   ]
  },
  {
   "cell_type": "code",
   "execution_count": 123,
   "metadata": {},
   "outputs": [
    {
     "data": {
      "text/plain": [
       "(55766, 15)"
      ]
     },
     "execution_count": 123,
     "metadata": {},
     "output_type": "execute_result"
    }
   ],
   "source": [
    "df.shape"
   ]
  },
  {
   "cell_type": "code",
   "execution_count": 124,
   "metadata": {},
   "outputs": [
    {
     "data": {
      "text/plain": [
       "Index(['CRASH_RECORD_ID', 'POSTED_SPEED_LIMIT', 'WEATHER_CONDITION',\n",
       "       'LIGHTING_CONDITION', 'ALIGNMENT', 'ROADWAY_SURFACE_COND', 'NUM_UNITS',\n",
       "       'INJURIES_FATAL', 'INJURIES_INCAPACITATING', 'CRASH_HOUR',\n",
       "       'CRASH_DAY_OF_WEEK', 'CRASH_MONTH', 'SERIOUS_ACCIDENT', 'SEX', 'AGE'],\n",
       "      dtype='object')"
      ]
     },
     "execution_count": 124,
     "metadata": {},
     "output_type": "execute_result"
    }
   ],
   "source": [
    "df.columns"
   ]
  },
  {
   "cell_type": "code",
   "execution_count": 125,
   "metadata": {},
   "outputs": [
    {
     "data": {
      "text/html": [
       "<div>\n",
       "<style scoped>\n",
       "    .dataframe tbody tr th:only-of-type {\n",
       "        vertical-align: middle;\n",
       "    }\n",
       "\n",
       "    .dataframe tbody tr th {\n",
       "        vertical-align: top;\n",
       "    }\n",
       "\n",
       "    .dataframe thead th {\n",
       "        text-align: right;\n",
       "    }\n",
       "</style>\n",
       "<table border=\"1\" class=\"dataframe\">\n",
       "  <thead>\n",
       "    <tr style=\"text-align: right;\">\n",
       "      <th></th>\n",
       "      <th>CRASH_RECORD_ID</th>\n",
       "      <th>POSTED_SPEED_LIMIT</th>\n",
       "      <th>WEATHER_CONDITION</th>\n",
       "      <th>LIGHTING_CONDITION</th>\n",
       "      <th>ALIGNMENT</th>\n",
       "      <th>ROADWAY_SURFACE_COND</th>\n",
       "      <th>NUM_UNITS</th>\n",
       "      <th>INJURIES_FATAL</th>\n",
       "      <th>INJURIES_INCAPACITATING</th>\n",
       "      <th>CRASH_HOUR</th>\n",
       "      <th>CRASH_DAY_OF_WEEK</th>\n",
       "      <th>CRASH_MONTH</th>\n",
       "      <th>SERIOUS_ACCIDENT</th>\n",
       "      <th>SEX</th>\n",
       "      <th>AGE</th>\n",
       "    </tr>\n",
       "  </thead>\n",
       "  <tbody>\n",
       "    <tr>\n",
       "      <td>11</td>\n",
       "      <td>57ef642ed36c2c45619390b4c24d8110698be3ff91ae79...</td>\n",
       "      <td>30</td>\n",
       "      <td>CLEAR</td>\n",
       "      <td>DARKNESS, LIGHTED ROAD</td>\n",
       "      <td>STRAIGHT AND LEVEL</td>\n",
       "      <td>DRY</td>\n",
       "      <td>2</td>\n",
       "      <td>0.0</td>\n",
       "      <td>1.0</td>\n",
       "      <td>23</td>\n",
       "      <td>1</td>\n",
       "      <td>7</td>\n",
       "      <td>1</td>\n",
       "      <td>F</td>\n",
       "      <td>26.0</td>\n",
       "    </tr>\n",
       "    <tr>\n",
       "      <td>32</td>\n",
       "      <td>fe99af882cafd694e3d46f7348f9684c811ce0bf9fdb98...</td>\n",
       "      <td>30</td>\n",
       "      <td>CLEAR</td>\n",
       "      <td>DAYLIGHT</td>\n",
       "      <td>STRAIGHT AND LEVEL</td>\n",
       "      <td>DRY</td>\n",
       "      <td>4</td>\n",
       "      <td>0.0</td>\n",
       "      <td>1.0</td>\n",
       "      <td>17</td>\n",
       "      <td>3</td>\n",
       "      <td>8</td>\n",
       "      <td>1</td>\n",
       "      <td>M</td>\n",
       "      <td>38.0</td>\n",
       "    </tr>\n",
       "    <tr>\n",
       "      <td>161</td>\n",
       "      <td>9331133dab3fc089534720f4fbecac607fb65cb770c9e9...</td>\n",
       "      <td>30</td>\n",
       "      <td>CLEAR</td>\n",
       "      <td>DAYLIGHT</td>\n",
       "      <td>STRAIGHT AND LEVEL</td>\n",
       "      <td>DRY</td>\n",
       "      <td>2</td>\n",
       "      <td>0.0</td>\n",
       "      <td>1.0</td>\n",
       "      <td>15</td>\n",
       "      <td>7</td>\n",
       "      <td>9</td>\n",
       "      <td>1</td>\n",
       "      <td>M</td>\n",
       "      <td>50.0</td>\n",
       "    </tr>\n",
       "    <tr>\n",
       "      <td>207</td>\n",
       "      <td>be4b9bd1729ed19627f9030550b02bcd68e0138719ce7a...</td>\n",
       "      <td>30</td>\n",
       "      <td>CLEAR</td>\n",
       "      <td>DARKNESS, LIGHTED ROAD</td>\n",
       "      <td>STRAIGHT AND LEVEL</td>\n",
       "      <td>DRY</td>\n",
       "      <td>3</td>\n",
       "      <td>0.0</td>\n",
       "      <td>1.0</td>\n",
       "      <td>20</td>\n",
       "      <td>3</td>\n",
       "      <td>8</td>\n",
       "      <td>1</td>\n",
       "      <td>M</td>\n",
       "      <td>16.0</td>\n",
       "    </tr>\n",
       "    <tr>\n",
       "      <td>223</td>\n",
       "      <td>faa6301c9d44a49054079a16531d335cb8b4a2a8c061bb...</td>\n",
       "      <td>30</td>\n",
       "      <td>SNOW</td>\n",
       "      <td>DARKNESS, LIGHTED ROAD</td>\n",
       "      <td>STRAIGHT AND LEVEL</td>\n",
       "      <td>WET</td>\n",
       "      <td>1</td>\n",
       "      <td>0.0</td>\n",
       "      <td>1.0</td>\n",
       "      <td>0</td>\n",
       "      <td>7</td>\n",
       "      <td>2</td>\n",
       "      <td>1</td>\n",
       "      <td>M</td>\n",
       "      <td>31.0</td>\n",
       "    </tr>\n",
       "  </tbody>\n",
       "</table>\n",
       "</div>"
      ],
      "text/plain": [
       "                                       CRASH_RECORD_ID  POSTED_SPEED_LIMIT  \\\n",
       "11   57ef642ed36c2c45619390b4c24d8110698be3ff91ae79...                  30   \n",
       "32   fe99af882cafd694e3d46f7348f9684c811ce0bf9fdb98...                  30   \n",
       "161  9331133dab3fc089534720f4fbecac607fb65cb770c9e9...                  30   \n",
       "207  be4b9bd1729ed19627f9030550b02bcd68e0138719ce7a...                  30   \n",
       "223  faa6301c9d44a49054079a16531d335cb8b4a2a8c061bb...                  30   \n",
       "\n",
       "    WEATHER_CONDITION      LIGHTING_CONDITION           ALIGNMENT  \\\n",
       "11              CLEAR  DARKNESS, LIGHTED ROAD  STRAIGHT AND LEVEL   \n",
       "32              CLEAR                DAYLIGHT  STRAIGHT AND LEVEL   \n",
       "161             CLEAR                DAYLIGHT  STRAIGHT AND LEVEL   \n",
       "207             CLEAR  DARKNESS, LIGHTED ROAD  STRAIGHT AND LEVEL   \n",
       "223              SNOW  DARKNESS, LIGHTED ROAD  STRAIGHT AND LEVEL   \n",
       "\n",
       "    ROADWAY_SURFACE_COND  NUM_UNITS  INJURIES_FATAL  INJURIES_INCAPACITATING  \\\n",
       "11                   DRY          2             0.0                      1.0   \n",
       "32                   DRY          4             0.0                      1.0   \n",
       "161                  DRY          2             0.0                      1.0   \n",
       "207                  DRY          3             0.0                      1.0   \n",
       "223                  WET          1             0.0                      1.0   \n",
       "\n",
       "     CRASH_HOUR  CRASH_DAY_OF_WEEK  CRASH_MONTH  SERIOUS_ACCIDENT SEX   AGE  \n",
       "11           23                  1            7                 1   F  26.0  \n",
       "32           17                  3            8                 1   M  38.0  \n",
       "161          15                  7            9                 1   M  50.0  \n",
       "207          20                  3            8                 1   M  16.0  \n",
       "223           0                  7            2                 1   M  31.0  "
      ]
     },
     "execution_count": 125,
     "metadata": {},
     "output_type": "execute_result"
    }
   ],
   "source": [
    "df[df['SERIOUS_ACCIDENT'] == 1].head()"
   ]
  },
  {
   "cell_type": "code",
   "execution_count": 126,
   "metadata": {},
   "outputs": [
    {
     "data": {
      "text/plain": [
       "0    0.981494\n",
       "1    0.018506\n",
       "Name: SERIOUS_ACCIDENT, dtype: float64"
      ]
     },
     "execution_count": 126,
     "metadata": {},
     "output_type": "execute_result"
    }
   ],
   "source": [
    "df['SERIOUS_ACCIDENT'].value_counts(normalize=True)"
   ]
  },
  {
   "cell_type": "markdown",
   "metadata": {},
   "source": [
    "Now 1.9% of crashes are serious."
   ]
  },
  {
   "cell_type": "markdown",
   "metadata": {},
   "source": [
    "Dropping the INJURIES_FATAL and INJURIES_INCAPACITATING because the info is in SERIOUS_ACCIDENT"
   ]
  },
  {
   "cell_type": "code",
   "execution_count": 127,
   "metadata": {},
   "outputs": [],
   "source": [
    "df.drop(['INJURIES_FATAL', 'INJURIES_INCAPACITATING'], axis=1, inplace=True)"
   ]
  },
  {
   "cell_type": "code",
   "execution_count": 128,
   "metadata": {},
   "outputs": [
    {
     "data": {
      "text/plain": [
       "Index(['CRASH_RECORD_ID', 'POSTED_SPEED_LIMIT', 'WEATHER_CONDITION',\n",
       "       'LIGHTING_CONDITION', 'ALIGNMENT', 'ROADWAY_SURFACE_COND', 'NUM_UNITS',\n",
       "       'CRASH_HOUR', 'CRASH_DAY_OF_WEEK', 'CRASH_MONTH', 'SERIOUS_ACCIDENT',\n",
       "       'SEX', 'AGE'],\n",
       "      dtype='object')"
      ]
     },
     "execution_count": 128,
     "metadata": {},
     "output_type": "execute_result"
    }
   ],
   "source": [
    "df.columns"
   ]
  },
  {
   "cell_type": "code",
   "execution_count": 129,
   "metadata": {},
   "outputs": [],
   "source": [
    "df.drop(['CRASH_RECORD_ID'], axis=1, inplace=True)"
   ]
  },
  {
   "cell_type": "code",
   "execution_count": 130,
   "metadata": {},
   "outputs": [
    {
     "data": {
      "text/plain": [
       "Index(['POSTED_SPEED_LIMIT', 'WEATHER_CONDITION', 'LIGHTING_CONDITION',\n",
       "       'ALIGNMENT', 'ROADWAY_SURFACE_COND', 'NUM_UNITS', 'CRASH_HOUR',\n",
       "       'CRASH_DAY_OF_WEEK', 'CRASH_MONTH', 'SERIOUS_ACCIDENT', 'SEX', 'AGE'],\n",
       "      dtype='object')"
      ]
     },
     "execution_count": 130,
     "metadata": {},
     "output_type": "execute_result"
    }
   ],
   "source": [
    "df.columns"
   ]
  },
  {
   "cell_type": "code",
   "execution_count": 131,
   "metadata": {},
   "outputs": [],
   "source": [
    "# re-order columns\n",
    "df = df[['POSTED_SPEED_LIMIT', 'WEATHER_CONDITION', 'LIGHTING_CONDITION', 'ALIGNMENT', 'ROADWAY_SURFACE_COND', 'NUM_UNITS', \n",
    "         'CRASH_HOUR', 'CRASH_DAY_OF_WEEK', 'CRASH_MONTH', 'SEX', 'AGE', 'SERIOUS_ACCIDENT']]"
   ]
  },
  {
   "cell_type": "code",
   "execution_count": 132,
   "metadata": {},
   "outputs": [
    {
     "data": {
      "text/plain": [
       "Index(['POSTED_SPEED_LIMIT', 'WEATHER_CONDITION', 'LIGHTING_CONDITION',\n",
       "       'ALIGNMENT', 'ROADWAY_SURFACE_COND', 'NUM_UNITS', 'CRASH_HOUR',\n",
       "       'CRASH_DAY_OF_WEEK', 'CRASH_MONTH', 'SEX', 'AGE', 'SERIOUS_ACCIDENT'],\n",
       "      dtype='object')"
      ]
     },
     "execution_count": 132,
     "metadata": {},
     "output_type": "execute_result"
    }
   ],
   "source": [
    "df.columns"
   ]
  },
  {
   "cell_type": "code",
   "execution_count": 133,
   "metadata": {},
   "outputs": [
    {
     "data": {
      "text/plain": [
       "(55766, 12)"
      ]
     },
     "execution_count": 133,
     "metadata": {},
     "output_type": "execute_result"
    }
   ],
   "source": [
    "df.shape"
   ]
  },
  {
   "cell_type": "markdown",
   "metadata": {},
   "source": [
    "Making column names lowercase."
   ]
  },
  {
   "cell_type": "code",
   "execution_count": 134,
   "metadata": {},
   "outputs": [],
   "source": [
    "df.columns = [x.lower() for x in df.columns]"
   ]
  },
  {
   "cell_type": "code",
   "execution_count": 135,
   "metadata": {},
   "outputs": [
    {
     "data": {
      "text/plain": [
       "Index(['posted_speed_limit', 'weather_condition', 'lighting_condition',\n",
       "       'alignment', 'roadway_surface_cond', 'num_units', 'crash_hour',\n",
       "       'crash_day_of_week', 'crash_month', 'sex', 'age', 'serious_accident'],\n",
       "      dtype='object')"
      ]
     },
     "execution_count": 135,
     "metadata": {},
     "output_type": "execute_result"
    }
   ],
   "source": [
    "df.columns"
   ]
  },
  {
   "cell_type": "markdown",
   "metadata": {},
   "source": [
    "Let's get another overview of the columns I'll keep"
   ]
  },
  {
   "cell_type": "code",
   "execution_count": 136,
   "metadata": {},
   "outputs": [
    {
     "name": "stdout",
     "output_type": "stream",
     "text": [
      "Name: posted_speed_limit\n",
      "Unique\n",
      "[35 25 15 30 40 10 45 20  0  5 55  3 65 50  1  9 39 99 31 70 60 18 34 33\n",
      " 11]\n",
      "Value Counts\n",
      "30    0.758616\n",
      "35    0.075763\n",
      "25    0.054818\n",
      "20    0.029964\n",
      "15    0.027024\n",
      "10    0.015906\n",
      "0     0.012517\n",
      "40    0.010544\n",
      "45    0.007011\n",
      "5     0.005344\n",
      "55    0.001291\n",
      "3     0.000269\n",
      "50    0.000251\n",
      "39    0.000179\n",
      "99    0.000126\n",
      "9     0.000126\n",
      "1     0.000072\n",
      "60    0.000036\n",
      "65    0.000036\n",
      "70    0.000018\n",
      "11    0.000018\n",
      "18    0.000018\n",
      "34    0.000018\n",
      "33    0.000018\n",
      "31    0.000018\n",
      "Name: posted_speed_limit, dtype: float64\n",
      "----------------------------------------------------\n",
      "Name: weather_condition\n",
      "Unique\n",
      "['CLEAR' 'RAIN' 'SNOW' 'CLOUDY/OVERCAST' 'UNKNOWN' 'OTHER'\n",
      " 'FOG/SMOKE/HAZE' 'SLEET/HAIL' 'FREEZING RAIN/DRIZZLE'\n",
      " 'SEVERE CROSS WIND GATE' 'BLOWING SNOW']\n",
      "Value Counts\n",
      "CLEAR                     0.801707\n",
      "RAIN                      0.097264\n",
      "SNOW                      0.034537\n",
      "CLOUDY/OVERCAST           0.032941\n",
      "UNKNOWN                   0.025571\n",
      "OTHER                     0.003300\n",
      "FOG/SMOKE/HAZE            0.001739\n",
      "SLEET/HAIL                0.001632\n",
      "FREEZING RAIN/DRIZZLE     0.001022\n",
      "BLOWING SNOW              0.000179\n",
      "SEVERE CROSS WIND GATE    0.000108\n",
      "Name: weather_condition, dtype: float64\n",
      "----------------------------------------------------\n",
      "Name: lighting_condition\n",
      "Unique\n",
      "['DAYLIGHT' 'DARKNESS, LIGHTED ROAD' 'UNKNOWN' 'DUSK' 'DARKNESS' 'DAWN']\n",
      "Value Counts\n",
      "DAYLIGHT                  0.678962\n",
      "DARKNESS, LIGHTED ROAD    0.209375\n",
      "DARKNESS                  0.046588\n",
      "DUSK                      0.031955\n",
      "DAWN                      0.016892\n",
      "UNKNOWN                   0.016229\n",
      "Name: lighting_condition, dtype: float64\n",
      "----------------------------------------------------\n",
      "Name: alignment\n",
      "Unique\n",
      "['STRAIGHT AND LEVEL' 'CURVE ON GRADE' 'STRAIGHT ON GRADE' 'CURVE, LEVEL'\n",
      " 'STRAIGHT ON HILLCREST' 'CURVE ON HILLCREST']\n",
      "Value Counts\n",
      "STRAIGHT AND LEVEL       0.972492\n",
      "STRAIGHT ON GRADE        0.014310\n",
      "CURVE, LEVEL             0.007800\n",
      "STRAIGHT ON HILLCREST    0.003300\n",
      "CURVE ON GRADE           0.001560\n",
      "CURVE ON HILLCREST       0.000538\n",
      "Name: alignment, dtype: float64\n",
      "----------------------------------------------------\n",
      "Name: roadway_surface_cond\n",
      "Unique\n",
      "['DRY' 'SNOW OR SLUSH' 'WET' 'ICE' 'UNKNOWN' 'OTHER' 'SAND, MUD, DIRT']\n",
      "Value Counts\n",
      "DRY                0.761450\n",
      "WET                0.146146\n",
      "UNKNOWN            0.050282\n",
      "SNOW OR SLUSH      0.031596\n",
      "ICE                0.007783\n",
      "OTHER              0.002403\n",
      "SAND, MUD, DIRT    0.000341\n",
      "Name: roadway_surface_cond, dtype: float64\n",
      "----------------------------------------------------\n",
      "Name: num_units\n",
      "Unique\n",
      "[ 2  3  4  1  5  6  7 10 12 11 15  8]\n",
      "Value Counts\n",
      "2     0.881379\n",
      "3     0.054800\n",
      "1     0.050802\n",
      "4     0.009271\n",
      "5     0.002546\n",
      "6     0.000807\n",
      "7     0.000215\n",
      "8     0.000108\n",
      "15    0.000018\n",
      "12    0.000018\n",
      "11    0.000018\n",
      "10    0.000018\n",
      "Name: num_units, dtype: float64\n",
      "----------------------------------------------------\n",
      "Name: crash_hour\n",
      "Unique\n",
      "[15  7 16  9  5 20 17 23  1 18 12 11 13 14 10 21  8 22  0 19  6  4  2  3]\n",
      "Value Counts\n",
      "16    0.081196\n",
      "17    0.079439\n",
      "15    0.079134\n",
      "14    0.070186\n",
      "18    0.066331\n",
      "13    0.064125\n",
      "12    0.058333\n",
      "8     0.056199\n",
      "11    0.049206\n",
      "9     0.046336\n",
      "19    0.045924\n",
      "10    0.045099\n",
      "7     0.044776\n",
      "20    0.035093\n",
      "21    0.031453\n",
      "22    0.027831\n",
      "23    0.023617\n",
      "6     0.021752\n",
      "0     0.016964\n",
      "1     0.013700\n",
      "2     0.012355\n",
      "5     0.012301\n",
      "3     0.009594\n",
      "4     0.009056\n",
      "Name: crash_hour, dtype: float64\n",
      "----------------------------------------------------\n",
      "Name: crash_day_of_week\n",
      "Unique\n",
      "[1 6 3 4 2 5 7]\n",
      "Value Counts\n",
      "6    0.167235\n",
      "3    0.146308\n",
      "5    0.145752\n",
      "7    0.144658\n",
      "4    0.144622\n",
      "2    0.138310\n",
      "1    0.113116\n",
      "Name: crash_day_of_week, dtype: float64\n",
      "----------------------------------------------------\n",
      "Name: crash_month\n",
      "Unique\n",
      "[ 5  6  9  3  7 11  1 12 10  2  8  4]\n",
      "Value Counts\n",
      "10    0.102769\n",
      "11    0.096869\n",
      "9     0.092906\n",
      "8     0.091400\n",
      "7     0.085966\n",
      "12    0.083546\n",
      "6     0.081537\n",
      "5     0.078022\n",
      "1     0.074633\n",
      "3     0.072553\n",
      "2     0.072446\n",
      "4     0.067353\n",
      "Name: crash_month, dtype: float64\n",
      "----------------------------------------------------\n",
      "Name: sex\n",
      "Unique\n",
      "['M' 'F']\n",
      "Value Counts\n",
      "M    0.605889\n",
      "F    0.394111\n",
      "Name: sex, dtype: float64\n",
      "----------------------------------------------------\n",
      "Name: age\n",
      "Unique\n",
      "[44. 71. 60. 38. 52. 68. 23. 26. 19. 42. 43. 32. 24. 77. 33. 55. 35. 46.\n",
      " 69. 39. 49. 27. 30. 36. 50. 29. 54. 20. 37. 17. 53. 21. 34. 25. 58. 31.\n",
      " 22. 67. 40. 59. 47. 28. 51. 45. 57. 16. 41. 74. 56. 48. 63. 80. 65. 79.\n",
      " 61. 66. 76. 64. 72. 75. 73. 62. 18. 70. 78.]\n",
      "Value Counts\n",
      "25.0    0.032152\n",
      "26.0    0.031919\n",
      "24.0    0.031220\n",
      "27.0    0.031040\n",
      "28.0    0.029929\n",
      "          ...   \n",
      "16.0    0.003138\n",
      "77.0    0.002815\n",
      "78.0    0.002582\n",
      "79.0    0.002349\n",
      "80.0    0.002008\n",
      "Name: age, Length: 65, dtype: float64\n",
      "----------------------------------------------------\n",
      "Name: serious_accident\n",
      "Unique\n",
      "[0 1]\n",
      "Value Counts\n",
      "0    0.981494\n",
      "1    0.018506\n",
      "Name: serious_accident, dtype: float64\n",
      "----------------------------------------------------\n"
     ]
    }
   ],
   "source": [
    "names = ['posted_speed_limit', 'weather_condition', 'lighting_condition','alignment', 'roadway_surface_cond', 'num_units', \n",
    "         'crash_hour', 'crash_day_of_week', 'crash_month', 'sex', 'age', 'serious_accident']\n",
    "for name in names:\n",
    "    print(f'Name: {name}')\n",
    "    print('Unique')\n",
    "    print(df[name].unique())\n",
    "    print('Value Counts')\n",
    "    print(df[name].value_counts(normalize=True, dropna=False))\n",
    "    print('----------------------------------------------------')"
   ]
  },
  {
   "cell_type": "markdown",
   "metadata": {},
   "source": [
    "Will remove the ones in posted speed limit that don't make sense and are likely errors."
   ]
  },
  {
   "cell_type": "code",
   "execution_count": 137,
   "metadata": {},
   "outputs": [],
   "source": [
    "df = df.drop(df[(df['posted_speed_limit'] == 3) | \n",
    "            (df['posted_speed_limit'] == 39) |\n",
    "            (df['posted_speed_limit'] == 9) |     \n",
    "            (df['posted_speed_limit'] == 99) |\n",
    "            (df['posted_speed_limit'] == 1) |\n",
    "            (df['posted_speed_limit'] == 11) |\n",
    "            (df['posted_speed_limit'] == 18) |\n",
    "            (df['posted_speed_limit'] == 34) |\n",
    "            (df['posted_speed_limit'] == 33) |\n",
    "            (df['posted_speed_limit'] == 31)].index)"
   ]
  },
  {
   "cell_type": "code",
   "execution_count": 138,
   "metadata": {},
   "outputs": [
    {
     "name": "stdout",
     "output_type": "stream",
     "text": [
      "Name: posted_speed_limit\n",
      "Unique\n",
      "[35 25 15 30 40 10 45 20  0  5 55 65 50 70 60]\n",
      "Value Counts\n",
      "30    0.759270\n",
      "35    0.075828\n",
      "25    0.054866\n",
      "20    0.029990\n",
      "15    0.027047\n",
      "10    0.015919\n",
      "0     0.012527\n",
      "40    0.010553\n",
      "45    0.007017\n",
      "5     0.005348\n",
      "55    0.001292\n",
      "50    0.000251\n",
      "60    0.000036\n",
      "65    0.000036\n",
      "70    0.000018\n",
      "Name: posted_speed_limit, dtype: float64\n"
     ]
    }
   ],
   "source": [
    "name = 'posted_speed_limit'\n",
    "print(f'Name: {name}')\n",
    "print('Unique')\n",
    "print(df[name].unique())\n",
    "print('Value Counts')\n",
    "print(df[name].value_counts(normalize=True, dropna=False))"
   ]
  },
  {
   "cell_type": "markdown",
   "metadata": {},
   "source": [
    "In weather, change \"other\" to \"unknown.\""
   ]
  },
  {
   "cell_type": "code",
   "execution_count": 139,
   "metadata": {},
   "outputs": [],
   "source": [
    "df.loc[(df.weather_condition) == \"OTHER\", 'weather_condition'] = \"UNKNOWN\""
   ]
  },
  {
   "cell_type": "code",
   "execution_count": 140,
   "metadata": {},
   "outputs": [
    {
     "name": "stdout",
     "output_type": "stream",
     "text": [
      "Name: weather_condition\n",
      "Unique\n",
      "['CLEAR' 'RAIN' 'SNOW' 'CLOUDY/OVERCAST' 'UNKNOWN' 'FOG/SMOKE/HAZE'\n",
      " 'SLEET/HAIL' 'FREEZING RAIN/DRIZZLE' 'SEVERE CROSS WIND GATE'\n",
      " 'BLOWING SNOW']\n",
      "Value Counts\n",
      "CLEAR                     0.801680\n",
      "RAIN                      0.097294\n",
      "SNOW                      0.034495\n",
      "CLOUDY/OVERCAST           0.032970\n",
      "UNKNOWN                   0.028878\n",
      "FOG/SMOKE/HAZE            0.001741\n",
      "SLEET/HAIL                0.001633\n",
      "FREEZING RAIN/DRIZZLE     0.001023\n",
      "BLOWING SNOW              0.000179\n",
      "SEVERE CROSS WIND GATE    0.000108\n",
      "Name: weather_condition, dtype: float64\n"
     ]
    }
   ],
   "source": [
    "name = 'weather_condition'\n",
    "print(f'Name: {name}')\n",
    "print('Unique')\n",
    "print(df[name].unique())\n",
    "print('Value Counts')\n",
    "print(df[name].value_counts(normalize=True, dropna=False))"
   ]
  },
  {
   "cell_type": "markdown",
   "metadata": {},
   "source": [
    "In 'roadway', change other to unknown. "
   ]
  },
  {
   "cell_type": "code",
   "execution_count": 141,
   "metadata": {},
   "outputs": [
    {
     "name": "stdout",
     "output_type": "stream",
     "text": [
      "Name: roadway_surface_cond\n",
      "Unique\n",
      "['DRY' 'SNOW OR SLUSH' 'WET' 'ICE' 'UNKNOWN' 'SAND, MUD, DIRT']\n",
      "Value Counts\n",
      "DRY                0.761567\n",
      "WET                0.146129\n",
      "UNKNOWN            0.052622\n",
      "SNOW OR SLUSH      0.031570\n",
      "ICE                0.007771\n",
      "SAND, MUD, DIRT    0.000341\n",
      "Name: roadway_surface_cond, dtype: float64\n"
     ]
    }
   ],
   "source": [
    "name = 'roadway_surface_cond'\n",
    "df.loc[(df[name]) == \"OTHER\", name] = \"UNKNOWN\"\n",
    "\n",
    "print(f'Name: {name}')\n",
    "print('Unique')\n",
    "print(df[name].unique())\n",
    "print('Value Counts')\n",
    "print(df[name].value_counts(normalize=True, dropna=False))"
   ]
  },
  {
   "cell_type": "markdown",
   "metadata": {},
   "source": [
    "For 'num_units' which is the number of vehicles involved in an accident, I'm going to change anything greater than 6 to 6. Basically '6' will represent '6 or more.'"
   ]
  },
  {
   "cell_type": "code",
   "execution_count": 142,
   "metadata": {},
   "outputs": [
    {
     "name": "stdout",
     "output_type": "stream",
     "text": [
      "Name: num_units\n",
      "Unique\n",
      "[2 3 4 1 5 6]\n",
      "Value Counts\n",
      "2    0.881385\n",
      "3    0.054794\n",
      "1    0.050791\n",
      "4    0.009279\n",
      "5    0.002549\n",
      "6    0.001202\n",
      "Name: num_units, dtype: float64\n"
     ]
    }
   ],
   "source": [
    "name = 'num_units'\n",
    "df.loc[(df[name]) > 6, name] = 6\n",
    "\n",
    "print(f'Name: {name}')\n",
    "print('Unique')\n",
    "print(df[name].unique())\n",
    "print('Value Counts')\n",
    "print(df[name].value_counts(normalize=True, dropna=False))"
   ]
  },
  {
   "cell_type": "markdown",
   "metadata": {},
   "source": [
    "Change sex to categorical. \n",
    "'F' = 0\n",
    "'M' = 1"
   ]
  },
  {
   "cell_type": "code",
   "execution_count": 143,
   "metadata": {},
   "outputs": [
    {
     "name": "stdout",
     "output_type": "stream",
     "text": [
      "Name: sex\n",
      "Unique\n",
      "[1 0]\n",
      "Value Counts\n",
      "1    0.60598\n",
      "0    0.39402\n",
      "Name: sex, dtype: float64\n"
     ]
    }
   ],
   "source": [
    "name = 'sex'\n",
    "df.loc[(df[name]) == \"F\", name] = 0\n",
    "df.loc[(df[name]) == \"M\", name] = 1\n",
    "\n",
    "print(f'Name: {name}')\n",
    "print('Unique')\n",
    "print(df[name].unique())\n",
    "print('Value Counts')\n",
    "print(df[name].value_counts(normalize=True, dropna=False))"
   ]
  },
  {
   "cell_type": "markdown",
   "metadata": {},
   "source": [
    "Export it so I can one-hot encode in another notebook."
   ]
  },
  {
   "cell_type": "code",
   "execution_count": 144,
   "metadata": {},
   "outputs": [
    {
     "data": {
      "text/html": [
       "<div>\n",
       "<style scoped>\n",
       "    .dataframe tbody tr th:only-of-type {\n",
       "        vertical-align: middle;\n",
       "    }\n",
       "\n",
       "    .dataframe tbody tr th {\n",
       "        vertical-align: top;\n",
       "    }\n",
       "\n",
       "    .dataframe thead th {\n",
       "        text-align: right;\n",
       "    }\n",
       "</style>\n",
       "<table border=\"1\" class=\"dataframe\">\n",
       "  <thead>\n",
       "    <tr style=\"text-align: right;\">\n",
       "      <th></th>\n",
       "      <th>posted_speed_limit</th>\n",
       "      <th>weather_condition</th>\n",
       "      <th>lighting_condition</th>\n",
       "      <th>alignment</th>\n",
       "      <th>roadway_surface_cond</th>\n",
       "      <th>num_units</th>\n",
       "      <th>crash_hour</th>\n",
       "      <th>crash_day_of_week</th>\n",
       "      <th>crash_month</th>\n",
       "      <th>sex</th>\n",
       "      <th>age</th>\n",
       "      <th>serious_accident</th>\n",
       "    </tr>\n",
       "  </thead>\n",
       "  <tbody>\n",
       "    <tr>\n",
       "      <td>0</td>\n",
       "      <td>35</td>\n",
       "      <td>CLEAR</td>\n",
       "      <td>DAYLIGHT</td>\n",
       "      <td>STRAIGHT AND LEVEL</td>\n",
       "      <td>DRY</td>\n",
       "      <td>2</td>\n",
       "      <td>15</td>\n",
       "      <td>1</td>\n",
       "      <td>5</td>\n",
       "      <td>1</td>\n",
       "      <td>44.0</td>\n",
       "      <td>0</td>\n",
       "    </tr>\n",
       "    <tr>\n",
       "      <td>1</td>\n",
       "      <td>25</td>\n",
       "      <td>CLEAR</td>\n",
       "      <td>DAYLIGHT</td>\n",
       "      <td>CURVE ON GRADE</td>\n",
       "      <td>DRY</td>\n",
       "      <td>2</td>\n",
       "      <td>7</td>\n",
       "      <td>6</td>\n",
       "      <td>6</td>\n",
       "      <td>1</td>\n",
       "      <td>71.0</td>\n",
       "      <td>0</td>\n",
       "    </tr>\n",
       "    <tr>\n",
       "      <td>3</td>\n",
       "      <td>15</td>\n",
       "      <td>CLEAR</td>\n",
       "      <td>DAYLIGHT</td>\n",
       "      <td>STRAIGHT AND LEVEL</td>\n",
       "      <td>DRY</td>\n",
       "      <td>2</td>\n",
       "      <td>16</td>\n",
       "      <td>3</td>\n",
       "      <td>9</td>\n",
       "      <td>1</td>\n",
       "      <td>60.0</td>\n",
       "      <td>0</td>\n",
       "    </tr>\n",
       "  </tbody>\n",
       "</table>\n",
       "</div>"
      ],
      "text/plain": [
       "   posted_speed_limit weather_condition lighting_condition  \\\n",
       "0                  35             CLEAR           DAYLIGHT   \n",
       "1                  25             CLEAR           DAYLIGHT   \n",
       "3                  15             CLEAR           DAYLIGHT   \n",
       "\n",
       "            alignment roadway_surface_cond  num_units  crash_hour  \\\n",
       "0  STRAIGHT AND LEVEL                  DRY          2          15   \n",
       "1      CURVE ON GRADE                  DRY          2           7   \n",
       "3  STRAIGHT AND LEVEL                  DRY          2          16   \n",
       "\n",
       "   crash_day_of_week  crash_month  sex   age  serious_accident  \n",
       "0                  1            5    1  44.0                 0  \n",
       "1                  6            6    1  71.0                 0  \n",
       "3                  3            9    1  60.0                 0  "
      ]
     },
     "execution_count": 144,
     "metadata": {},
     "output_type": "execute_result"
    }
   ],
   "source": [
    "df.head(3)"
   ]
  },
  {
   "cell_type": "code",
   "execution_count": 145,
   "metadata": {},
   "outputs": [],
   "source": [
    "df.to_csv(r'../data/crashes_cleaned.csv', index=False)"
   ]
  }
 ],
 "metadata": {
  "kernelspec": {
   "display_name": "Python 3",
   "language": "python",
   "name": "python3"
  },
  "language_info": {
   "codemirror_mode": {
    "name": "ipython",
    "version": 3
   },
   "file_extension": ".py",
   "mimetype": "text/x-python",
   "name": "python",
   "nbconvert_exporter": "python",
   "pygments_lexer": "ipython3",
   "version": "3.6.9"
  }
 },
 "nbformat": 4,
 "nbformat_minor": 4
}
