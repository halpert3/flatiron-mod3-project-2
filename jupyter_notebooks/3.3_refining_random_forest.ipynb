{
 "cells": [
  {
   "cell_type": "markdown",
   "metadata": {},
   "source": [
    "# Import libraries"
   ]
  },
  {
   "cell_type": "code",
   "execution_count": 101,
   "metadata": {},
   "outputs": [],
   "source": [
    "import numpy as np \n",
    "import pandas as pd \n",
    "import matplotlib.pyplot as plt\n",
    "from sklearn.model_selection import train_test_split\n",
    "from sklearn.preprocessing import StandardScaler\n",
    "from imblearn.over_sampling import SMOTE, ADASYN\n",
    "from functions import functions as f\n",
    "# import model\n",
    "from sklearn.ensemble import RandomForestClassifier"
   ]
  },
  {
   "cell_type": "markdown",
   "metadata": {},
   "source": [
    "# Import data"
   ]
  },
  {
   "cell_type": "code",
   "execution_count": 102,
   "metadata": {},
   "outputs": [],
   "source": [
    "df = pd.read_csv('../data/crashes_cleaned_ohe.csv')"
   ]
  },
  {
   "cell_type": "code",
   "execution_count": 103,
   "metadata": {},
   "outputs": [
    {
     "data": {
      "text/html": [
       "<div>\n",
       "<style scoped>\n",
       "    .dataframe tbody tr th:only-of-type {\n",
       "        vertical-align: middle;\n",
       "    }\n",
       "\n",
       "    .dataframe tbody tr th {\n",
       "        vertical-align: top;\n",
       "    }\n",
       "\n",
       "    .dataframe thead th {\n",
       "        text-align: right;\n",
       "    }\n",
       "</style>\n",
       "<table border=\"1\" class=\"dataframe\">\n",
       "  <thead>\n",
       "    <tr style=\"text-align: right;\">\n",
       "      <th></th>\n",
       "      <th>posted_speed_limit</th>\n",
       "      <th>num_units</th>\n",
       "      <th>sex</th>\n",
       "      <th>age</th>\n",
       "      <th>weather_condition_blowing snow</th>\n",
       "      <th>weather_condition_clear</th>\n",
       "      <th>weather_condition_cloudy/overcast</th>\n",
       "      <th>weather_condition_fog/smoke/haze</th>\n",
       "      <th>weather_condition_freezing rain/drizzle</th>\n",
       "      <th>weather_condition_rain</th>\n",
       "      <th>...</th>\n",
       "      <th>crash_month_4</th>\n",
       "      <th>crash_month_5</th>\n",
       "      <th>crash_month_6</th>\n",
       "      <th>crash_month_7</th>\n",
       "      <th>crash_month_8</th>\n",
       "      <th>crash_month_9</th>\n",
       "      <th>crash_month_10</th>\n",
       "      <th>crash_month_11</th>\n",
       "      <th>crash_month_12</th>\n",
       "      <th>serious_accident</th>\n",
       "    </tr>\n",
       "  </thead>\n",
       "  <tbody>\n",
       "    <tr>\n",
       "      <td>0</td>\n",
       "      <td>35</td>\n",
       "      <td>2</td>\n",
       "      <td>1</td>\n",
       "      <td>44.0</td>\n",
       "      <td>0</td>\n",
       "      <td>1</td>\n",
       "      <td>0</td>\n",
       "      <td>0</td>\n",
       "      <td>0</td>\n",
       "      <td>0</td>\n",
       "      <td>...</td>\n",
       "      <td>0</td>\n",
       "      <td>1</td>\n",
       "      <td>0</td>\n",
       "      <td>0</td>\n",
       "      <td>0</td>\n",
       "      <td>0</td>\n",
       "      <td>0</td>\n",
       "      <td>0</td>\n",
       "      <td>0</td>\n",
       "      <td>0</td>\n",
       "    </tr>\n",
       "    <tr>\n",
       "      <td>1</td>\n",
       "      <td>25</td>\n",
       "      <td>2</td>\n",
       "      <td>1</td>\n",
       "      <td>71.0</td>\n",
       "      <td>0</td>\n",
       "      <td>1</td>\n",
       "      <td>0</td>\n",
       "      <td>0</td>\n",
       "      <td>0</td>\n",
       "      <td>0</td>\n",
       "      <td>...</td>\n",
       "      <td>0</td>\n",
       "      <td>0</td>\n",
       "      <td>1</td>\n",
       "      <td>0</td>\n",
       "      <td>0</td>\n",
       "      <td>0</td>\n",
       "      <td>0</td>\n",
       "      <td>0</td>\n",
       "      <td>0</td>\n",
       "      <td>0</td>\n",
       "    </tr>\n",
       "    <tr>\n",
       "      <td>2</td>\n",
       "      <td>15</td>\n",
       "      <td>2</td>\n",
       "      <td>1</td>\n",
       "      <td>60.0</td>\n",
       "      <td>0</td>\n",
       "      <td>1</td>\n",
       "      <td>0</td>\n",
       "      <td>0</td>\n",
       "      <td>0</td>\n",
       "      <td>0</td>\n",
       "      <td>...</td>\n",
       "      <td>0</td>\n",
       "      <td>0</td>\n",
       "      <td>0</td>\n",
       "      <td>0</td>\n",
       "      <td>0</td>\n",
       "      <td>1</td>\n",
       "      <td>0</td>\n",
       "      <td>0</td>\n",
       "      <td>0</td>\n",
       "      <td>0</td>\n",
       "    </tr>\n",
       "    <tr>\n",
       "      <td>3</td>\n",
       "      <td>30</td>\n",
       "      <td>2</td>\n",
       "      <td>1</td>\n",
       "      <td>38.0</td>\n",
       "      <td>0</td>\n",
       "      <td>1</td>\n",
       "      <td>0</td>\n",
       "      <td>0</td>\n",
       "      <td>0</td>\n",
       "      <td>0</td>\n",
       "      <td>...</td>\n",
       "      <td>0</td>\n",
       "      <td>0</td>\n",
       "      <td>0</td>\n",
       "      <td>0</td>\n",
       "      <td>0</td>\n",
       "      <td>0</td>\n",
       "      <td>0</td>\n",
       "      <td>0</td>\n",
       "      <td>0</td>\n",
       "      <td>0</td>\n",
       "    </tr>\n",
       "    <tr>\n",
       "      <td>4</td>\n",
       "      <td>30</td>\n",
       "      <td>2</td>\n",
       "      <td>1</td>\n",
       "      <td>52.0</td>\n",
       "      <td>0</td>\n",
       "      <td>0</td>\n",
       "      <td>0</td>\n",
       "      <td>0</td>\n",
       "      <td>0</td>\n",
       "      <td>1</td>\n",
       "      <td>...</td>\n",
       "      <td>0</td>\n",
       "      <td>0</td>\n",
       "      <td>0</td>\n",
       "      <td>0</td>\n",
       "      <td>0</td>\n",
       "      <td>0</td>\n",
       "      <td>0</td>\n",
       "      <td>0</td>\n",
       "      <td>0</td>\n",
       "      <td>0</td>\n",
       "    </tr>\n",
       "  </tbody>\n",
       "</table>\n",
       "<p>5 rows × 76 columns</p>\n",
       "</div>"
      ],
      "text/plain": [
       "   posted_speed_limit  num_units  sex   age  weather_condition_blowing snow  \\\n",
       "0                  35          2    1  44.0                               0   \n",
       "1                  25          2    1  71.0                               0   \n",
       "2                  15          2    1  60.0                               0   \n",
       "3                  30          2    1  38.0                               0   \n",
       "4                  30          2    1  52.0                               0   \n",
       "\n",
       "   weather_condition_clear  weather_condition_cloudy/overcast  \\\n",
       "0                        1                                  0   \n",
       "1                        1                                  0   \n",
       "2                        1                                  0   \n",
       "3                        1                                  0   \n",
       "4                        0                                  0   \n",
       "\n",
       "   weather_condition_fog/smoke/haze  weather_condition_freezing rain/drizzle  \\\n",
       "0                                 0                                        0   \n",
       "1                                 0                                        0   \n",
       "2                                 0                                        0   \n",
       "3                                 0                                        0   \n",
       "4                                 0                                        0   \n",
       "\n",
       "   weather_condition_rain  ...  crash_month_4  crash_month_5  crash_month_6  \\\n",
       "0                       0  ...              0              1              0   \n",
       "1                       0  ...              0              0              1   \n",
       "2                       0  ...              0              0              0   \n",
       "3                       0  ...              0              0              0   \n",
       "4                       1  ...              0              0              0   \n",
       "\n",
       "   crash_month_7  crash_month_8  crash_month_9  crash_month_10  \\\n",
       "0              0              0              0               0   \n",
       "1              0              0              0               0   \n",
       "2              0              0              1               0   \n",
       "3              0              0              0               0   \n",
       "4              0              0              0               0   \n",
       "\n",
       "   crash_month_11  crash_month_12  serious_accident  \n",
       "0               0               0                 0  \n",
       "1               0               0                 0  \n",
       "2               0               0                 0  \n",
       "3               0               0                 0  \n",
       "4               0               0                 0  \n",
       "\n",
       "[5 rows x 76 columns]"
      ]
     },
     "execution_count": 103,
     "metadata": {},
     "output_type": "execute_result"
    }
   ],
   "source": [
    "df.head()"
   ]
  },
  {
   "cell_type": "markdown",
   "metadata": {},
   "source": [
    "## Create Scoring Dataframe"
   ]
  },
  {
   "cell_type": "code",
   "execution_count": 104,
   "metadata": {},
   "outputs": [],
   "source": [
    "score_df = pd.DataFrame(columns = ['model', 'test_accuracy', 'test_f1', 'test_precision', 'test_recall', 'train_accuracy', \n",
    "                            'train_precision', 'train_recall'])"
   ]
  },
  {
   "cell_type": "markdown",
   "metadata": {},
   "source": [
    "# First Model"
   ]
  },
  {
   "cell_type": "markdown",
   "metadata": {},
   "source": [
    "## Train-Test Split"
   ]
  },
  {
   "cell_type": "code",
   "execution_count": 105,
   "metadata": {},
   "outputs": [],
   "source": [
    "X = df.drop(['serious_accident'], axis=1)\n",
    "y = df.serious_accident\n",
    "\n",
    "X_train, X_test, y_train, y_test = train_test_split(X, y, test_size=0.20, random_state=200)"
   ]
  },
  {
   "cell_type": "code",
   "execution_count": 106,
   "metadata": {},
   "outputs": [],
   "source": [
    "ss = StandardScaler()\n",
    "X_train_scaled = ss.fit_transform(X_train)\n",
    "X_test_scaled = ss.transform(X_test)"
   ]
  },
  {
   "cell_type": "markdown",
   "metadata": {},
   "source": [
    "### Balance the imbalaced data"
   ]
  },
  {
   "cell_type": "code",
   "execution_count": 107,
   "metadata": {},
   "outputs": [],
   "source": [
    "balance = SMOTE()\n",
    "X_train_scaled_balanced, y_train_balanced = balance.fit_sample(X_train_scaled, y_train)"
   ]
  },
  {
   "cell_type": "markdown",
   "metadata": {},
   "source": [
    "## Run Model"
   ]
  },
  {
   "cell_type": "code",
   "execution_count": 108,
   "metadata": {},
   "outputs": [
    {
     "data": {
      "text/plain": [
       "RandomForestClassifier(max_depth=5)"
      ]
     },
     "execution_count": 108,
     "metadata": {},
     "output_type": "execute_result"
    }
   ],
   "source": [
    "random = RandomForestClassifier(n_estimators=100, max_depth=5)  \n",
    "random.fit(X_train_scaled_balanced, y_train_balanced)"
   ]
  },
  {
   "cell_type": "markdown",
   "metadata": {},
   "source": [
    "## Predict"
   ]
  },
  {
   "cell_type": "code",
   "execution_count": 109,
   "metadata": {},
   "outputs": [],
   "source": [
    "predictions_from_X_train = random.predict(X_train_scaled_balanced)\n",
    "predictions_from_X_test = random.predict(X_test_scaled)"
   ]
  },
  {
   "cell_type": "markdown",
   "metadata": {},
   "source": [
    "## Scoring"
   ]
  },
  {
   "cell_type": "markdown",
   "metadata": {},
   "source": [
    "### Train Scoring"
   ]
  },
  {
   "cell_type": "code",
   "execution_count": 110,
   "metadata": {},
   "outputs": [
    {
     "name": "stdout",
     "output_type": "stream",
     "text": [
      "Accuracy: 86.6%\n",
      "Precision: 89.4%\n",
      "Recall: 83.1%\n",
      "F1: 86.1%\n",
      "Conufusion Matrix: \n",
      "[[39436  4324]\n",
      " [ 7387 36373]]\n",
      "\n",
      "\n"
     ]
    },
    {
     "data": {
      "image/png": "[encoded data removed]",
      "text/plain": [
       "<Figure size 432x288 with 2 Axes>"
      ]
     },
     "metadata": {
      "needs_background": "light"
     },
     "output_type": "display_data"
    }
   ],
   "source": [
    "f.scoring(predictions_from_X_train, y_train_balanced, random, X_train_scaled_balanced)"
   ]
  },
  {
   "cell_type": "markdown",
   "metadata": {},
   "source": [
    "### Test Scoring"
   ]
  },
  {
   "cell_type": "code",
   "execution_count": 111,
   "metadata": {},
   "outputs": [
    {
     "name": "stdout",
     "output_type": "stream",
     "text": [
      "Accuracy: 88.6%\n",
      "Precision: 4.1%\n",
      "Recall: 21.6%\n",
      "F1: 6.9%\n",
      "Conufusion Matrix: \n",
      "[[9825 1101]\n",
      " [ 171   47]]\n",
      "\n",
      "\n"
     ]
    },
    {
     "data": {
      "image/png": "[encoded data removed]",
      "text/plain": [
       "<Figure size 432x288 with 2 Axes>"
      ]
     },
     "metadata": {
      "needs_background": "light"
     },
     "output_type": "display_data"
    }
   ],
   "source": [
    "f.scoring(predictions_from_X_test, y_test, random, X_test_scaled)"
   ]
  },
  {
   "cell_type": "markdown",
   "metadata": {},
   "source": [
    "### Add Scores to Scoring Dataframe"
   ]
  },
  {
   "cell_type": "code",
   "execution_count": 112,
   "metadata": {},
   "outputs": [
    {
     "data": {
      "text/html": [
       "<div>\n",
       "<style scoped>\n",
       "    .dataframe tbody tr th:only-of-type {\n",
       "        vertical-align: middle;\n",
       "    }\n",
       "\n",
       "    .dataframe tbody tr th {\n",
       "        vertical-align: top;\n",
       "    }\n",
       "\n",
       "    .dataframe thead th {\n",
       "        text-align: right;\n",
       "    }\n",
       "</style>\n",
       "<table border=\"1\" class=\"dataframe\">\n",
       "  <thead>\n",
       "    <tr style=\"text-align: right;\">\n",
       "      <th></th>\n",
       "      <th>model</th>\n",
       "      <th>train_accuracy</th>\n",
       "      <th>test_accuracy</th>\n",
       "      <th>train_precision</th>\n",
       "      <th>test_precision</th>\n",
       "      <th>train_recall</th>\n",
       "      <th>test_recall</th>\n",
       "      <th>train_f1</th>\n",
       "      <th>test_f1</th>\n",
       "    </tr>\n",
       "  </thead>\n",
       "  <tbody>\n",
       "    <tr>\n",
       "      <td>0</td>\n",
       "      <td>Random1</td>\n",
       "      <td>86.619</td>\n",
       "      <td>88.586</td>\n",
       "      <td>89.375</td>\n",
       "      <td>4.094</td>\n",
       "      <td>83.119</td>\n",
       "      <td>21.56</td>\n",
       "      <td>86.134</td>\n",
       "      <td>6.881</td>\n",
       "    </tr>\n",
       "  </tbody>\n",
       "</table>\n",
       "</div>"
      ],
      "text/plain": [
       "     model  train_accuracy  test_accuracy  train_precision  test_precision  \\\n",
       "0  Random1          86.619         88.586           89.375           4.094   \n",
       "\n",
       "   train_recall  test_recall  train_f1  test_f1  \n",
       "0        83.119        21.56    86.134    6.881  "
      ]
     },
     "execution_count": 112,
     "metadata": {},
     "output_type": "execute_result"
    }
   ],
   "source": [
    "score_df = f.add_scores_to_df(\"Random1\", score_df, y_test, predictions_from_X_test, y_train_balanced, predictions_from_X_train)\n",
    "score_df"
   ]
  },
  {
   "cell_type": "markdown",
   "metadata": {},
   "source": [
    "#### Check features\n"
   ]
  },
  {
   "cell_type": "code",
   "execution_count": 113,
   "metadata": {},
   "outputs": [
    {
     "data": {
      "text/plain": [
       "[('sex', 21.86),\n",
       " ('num_units', 14.33),\n",
       " ('posted_speed_limit', 8.61),\n",
       " ('crash_day_of_week_5', 5.25),\n",
       " ('lighting_condition_darkness, lighted road', 5.22),\n",
       " ('crash_day_of_week_6', 4.42),\n",
       " ('roadway_surface_cond_dry', 3.66),\n",
       " ('crash_day_of_week_7', 3.45),\n",
       " ('crash_day_of_week_3', 3.35),\n",
       " ('crash_day_of_week_4', 2.98),\n",
       " ('crash_day_of_week_1', 2.97),\n",
       " ('crash_day_of_week_2', 2.86),\n",
       " ('crash_month_2', 2.44),\n",
       " ('crash_month_6', 2.3),\n",
       " ('roadway_surface_cond_unknown', 1.82)]"
      ]
     },
     "execution_count": 113,
     "metadata": {},
     "output_type": "execute_result"
    }
   ],
   "source": [
    "import operator\n",
    "features = {}\n",
    "cols = X_train.columns.values\n",
    "for num in range(len(X_train.columns.values)):\n",
    "    features[cols[num]] = round(random.feature_importances_[num] * 100, 2)\n",
    "features = dict(sorted(features.items(), key=operator.itemgetter(1),reverse=True))\n",
    "features = list(features.items())\n",
    "features[0:15]"
   ]
  },
  {
   "cell_type": "markdown",
   "metadata": {},
   "source": [
    "# Run Model 2"
   ]
  },
  {
   "cell_type": "code",
   "execution_count": 114,
   "metadata": {},
   "outputs": [
    {
     "data": {
      "text/plain": [
       "RandomForestClassifier(max_depth=2, max_features=10, n_estimators=5)"
      ]
     },
     "execution_count": 114,
     "metadata": {},
     "output_type": "execute_result"
    }
   ],
   "source": [
    "random2 = RandomForestClassifier(n_estimators=5, max_features=10, max_depth=2)  \n",
    "random2.fit(X_train_scaled_balanced, y_train_balanced)"
   ]
  },
  {
   "cell_type": "markdown",
   "metadata": {},
   "source": [
    "## Predict Model 2"
   ]
  },
  {
   "cell_type": "code",
   "execution_count": 115,
   "metadata": {},
   "outputs": [],
   "source": [
    "predictions_from_X_train = random2.predict(X_train_scaled_balanced)\n",
    "predictions_from_X_test = random2.predict(X_test_scaled)"
   ]
  },
  {
   "cell_type": "markdown",
   "metadata": {},
   "source": [
    "## Scoring 2"
   ]
  },
  {
   "cell_type": "markdown",
   "metadata": {},
   "source": [
    "### Add Scores to Scoring Dataframe"
   ]
  },
  {
   "cell_type": "code",
   "execution_count": 116,
   "metadata": {},
   "outputs": [
    {
     "data": {
      "text/html": [
       "<div>\n",
       "<style scoped>\n",
       "    .dataframe tbody tr th:only-of-type {\n",
       "        vertical-align: middle;\n",
       "    }\n",
       "\n",
       "    .dataframe tbody tr th {\n",
       "        vertical-align: top;\n",
       "    }\n",
       "\n",
       "    .dataframe thead th {\n",
       "        text-align: right;\n",
       "    }\n",
       "</style>\n",
       "<table border=\"1\" class=\"dataframe\">\n",
       "  <thead>\n",
       "    <tr style=\"text-align: right;\">\n",
       "      <th></th>\n",
       "      <th>model</th>\n",
       "      <th>train_accuracy</th>\n",
       "      <th>test_accuracy</th>\n",
       "      <th>train_precision</th>\n",
       "      <th>test_precision</th>\n",
       "      <th>train_recall</th>\n",
       "      <th>test_recall</th>\n",
       "      <th>train_f1</th>\n",
       "      <th>test_f1</th>\n",
       "    </tr>\n",
       "  </thead>\n",
       "  <tbody>\n",
       "    <tr>\n",
       "      <td>0</td>\n",
       "      <td>Random1</td>\n",
       "      <td>86.619</td>\n",
       "      <td>88.586</td>\n",
       "      <td>89.375</td>\n",
       "      <td>4.094</td>\n",
       "      <td>83.119</td>\n",
       "      <td>21.56</td>\n",
       "      <td>86.134</td>\n",
       "      <td>6.881</td>\n",
       "    </tr>\n",
       "    <tr>\n",
       "      <td>0</td>\n",
       "      <td>Random2</td>\n",
       "      <td>70.086</td>\n",
       "      <td>74.551</td>\n",
       "      <td>72.479</td>\n",
       "      <td>2.812</td>\n",
       "      <td>64.762</td>\n",
       "      <td>35.78</td>\n",
       "      <td>68.404</td>\n",
       "      <td>5.214</td>\n",
       "    </tr>\n",
       "  </tbody>\n",
       "</table>\n",
       "</div>"
      ],
      "text/plain": [
       "     model  train_accuracy  test_accuracy  train_precision  test_precision  \\\n",
       "0  Random1          86.619         88.586           89.375           4.094   \n",
       "0  Random2          70.086         74.551           72.479           2.812   \n",
       "\n",
       "   train_recall  test_recall  train_f1  test_f1  \n",
       "0        83.119        21.56    86.134    6.881  \n",
       "0        64.762        35.78    68.404    5.214  "
      ]
     },
     "execution_count": 116,
     "metadata": {},
     "output_type": "execute_result"
    }
   ],
   "source": [
    "score_df = f.add_scores_to_df(\"Random2\", score_df, y_test, predictions_from_X_test, y_train_balanced, predictions_from_X_train)\n",
    "score_df"
   ]
  },
  {
   "cell_type": "markdown",
   "metadata": {},
   "source": [
    "#### Check features\n"
   ]
  },
  {
   "cell_type": "code",
   "execution_count": 117,
   "metadata": {},
   "outputs": [
    {
     "data": {
      "text/plain": [
       "[('lighting_condition_darkness, lighted road', 17.62),\n",
       " ('crash_day_of_week_5', 15.83),\n",
       " ('num_units', 14.61),\n",
       " ('posted_speed_limit', 13.94),\n",
       " ('roadway_surface_cond_unknown', 10.15),\n",
       " ('crash_month_9', 9.29),\n",
       " ('crash_day_of_week_2', 6.28),\n",
       " ('crash_month_11', 6.26),\n",
       " ('sex', 4.45),\n",
       " ('crash_month_6', 0.87)]"
      ]
     },
     "execution_count": 117,
     "metadata": {},
     "output_type": "execute_result"
    }
   ],
   "source": [
    "import operator\n",
    "features = {}\n",
    "cols = X_train.columns.values\n",
    "for num in range(len(X_train.columns.values)):\n",
    "    features[cols[num]] = round(random2.feature_importances_[num] * 100, 2)\n",
    "features = dict(sorted(features.items(), key=operator.itemgetter(1),reverse=True))\n",
    "features = list(features.items())\n",
    "features[0:10]"
   ]
  },
  {
   "cell_type": "markdown",
   "metadata": {},
   "source": [
    "# Run Model 3 (grid search)"
   ]
  },
  {
   "cell_type": "code",
   "execution_count": 118,
   "metadata": {},
   "outputs": [],
   "source": [
    "from sklearn.model_selection import GridSearchCV, cross_val_score"
   ]
  },
  {
   "cell_type": "code",
   "execution_count": 119,
   "metadata": {},
   "outputs": [],
   "source": [
    "rf_param_grid = {\n",
    "    'criterion': ['gini', 'entropy'],\n",
    "    'n_estimators': [10, 20, 30, 40],\n",
    "    'max_depth': [10, 20, 30]\n",
    "}"
   ]
  },
  {
   "cell_type": "markdown",
   "metadata": {},
   "source": [
    "## Variable Tracker\n",
    "\n",
    "- X_train &rarr; X_train_scaled &rarr; **X_train_scaled_balanced**\n",
    "    - used to create **predictions_from_X_train** which is to be compared to **y_train_balanced**\n",
    "- X_test &rarr; **X_test_scaled**\n",
    "    - used to create **predictions_from_X_test** which is to be compared to **y_test**\n",
    "- y_train &rarr; **y_train_balanced**\n",
    "- **y_test**"
   ]
  },
  {
   "cell_type": "code",
   "execution_count": 120,
   "metadata": {},
   "outputs": [],
   "source": [
    "random3 = RandomForestClassifier()"
   ]
  },
  {
   "cell_type": "code",
   "execution_count": 121,
   "metadata": {},
   "outputs": [
    {
     "name": "stdout",
     "output_type": "stream",
     "text": [
      "Testing Recall: 97.96%\n",
      "\n",
      "Optimal Parameters: {'criterion': 'gini', 'max_depth': 30, 'n_estimators': 40}\n"
     ]
    }
   ],
   "source": [
    "rf_grid_search = GridSearchCV(random3, rf_param_grid, cv=3, scoring='recall')\n",
    "rf_grid_search.fit(X_train_scaled_balanced, y_train_balanced)\n",
    "\n",
    "print(f\"Testing Recall: {rf_grid_search.best_score_ :.2%}\")\n",
    "print(\"\")\n",
    "print(f\"Optimal Parameters: {rf_grid_search.best_params_}\")"
   ]
  },
  {
   "cell_type": "code",
   "execution_count": 122,
   "metadata": {},
   "outputs": [],
   "source": [
    "# rf_grid_search.predict(different data)  - It will know to use the same model with the same params. "
   ]
  },
  {
   "cell_type": "code",
   "execution_count": 123,
   "metadata": {},
   "outputs": [
    {
     "data": {
      "text/plain": [
       "RandomForestClassifier(max_depth=30, n_estimators=30)"
      ]
     },
     "execution_count": 123,
     "metadata": {},
     "output_type": "execute_result"
    }
   ],
   "source": [
    "random3 = RandomForestClassifier(criterion='gini', max_depth=30, n_estimators=30)\n",
    "random3.fit(X_train_scaled_balanced, y_train_balanced)"
   ]
  },
  {
   "cell_type": "code",
   "execution_count": 124,
   "metadata": {},
   "outputs": [],
   "source": [
    "predictions_from_X_train = random3.predict(X_train_scaled_balanced)\n",
    "predictions_from_X_test = random3.predict(X_test_scaled)"
   ]
  },
  {
   "cell_type": "code",
   "execution_count": 125,
   "metadata": {},
   "outputs": [
    {
     "data": {
      "text/html": [
       "<div>\n",
       "<style scoped>\n",
       "    .dataframe tbody tr th:only-of-type {\n",
       "        vertical-align: middle;\n",
       "    }\n",
       "\n",
       "    .dataframe tbody tr th {\n",
       "        vertical-align: top;\n",
       "    }\n",
       "\n",
       "    .dataframe thead th {\n",
       "        text-align: right;\n",
       "    }\n",
       "</style>\n",
       "<table border=\"1\" class=\"dataframe\">\n",
       "  <thead>\n",
       "    <tr style=\"text-align: right;\">\n",
       "      <th></th>\n",
       "      <th>model</th>\n",
       "      <th>train_accuracy</th>\n",
       "      <th>test_accuracy</th>\n",
       "      <th>train_precision</th>\n",
       "      <th>test_precision</th>\n",
       "      <th>train_recall</th>\n",
       "      <th>test_recall</th>\n",
       "      <th>train_f1</th>\n",
       "      <th>test_f1</th>\n",
       "    </tr>\n",
       "  </thead>\n",
       "  <tbody>\n",
       "    <tr>\n",
       "      <td>0</td>\n",
       "      <td>Random1</td>\n",
       "      <td>86.619</td>\n",
       "      <td>88.586</td>\n",
       "      <td>89.375</td>\n",
       "      <td>4.094</td>\n",
       "      <td>83.119</td>\n",
       "      <td>21.560</td>\n",
       "      <td>86.134</td>\n",
       "      <td>6.881</td>\n",
       "    </tr>\n",
       "    <tr>\n",
       "      <td>0</td>\n",
       "      <td>Random2</td>\n",
       "      <td>70.086</td>\n",
       "      <td>74.551</td>\n",
       "      <td>72.479</td>\n",
       "      <td>2.812</td>\n",
       "      <td>64.762</td>\n",
       "      <td>35.780</td>\n",
       "      <td>68.404</td>\n",
       "      <td>5.214</td>\n",
       "    </tr>\n",
       "    <tr>\n",
       "      <td>0</td>\n",
       "      <td>Random3</td>\n",
       "      <td>99.682</td>\n",
       "      <td>97.784</td>\n",
       "      <td>99.982</td>\n",
       "      <td>3.226</td>\n",
       "      <td>99.383</td>\n",
       "      <td>0.459</td>\n",
       "      <td>99.681</td>\n",
       "      <td>0.803</td>\n",
       "    </tr>\n",
       "  </tbody>\n",
       "</table>\n",
       "</div>"
      ],
      "text/plain": [
       "     model  train_accuracy  test_accuracy  train_precision  test_precision  \\\n",
       "0  Random1          86.619         88.586           89.375           4.094   \n",
       "0  Random2          70.086         74.551           72.479           2.812   \n",
       "0  Random3          99.682         97.784           99.982           3.226   \n",
       "\n",
       "   train_recall  test_recall  train_f1  test_f1  \n",
       "0        83.119       21.560    86.134    6.881  \n",
       "0        64.762       35.780    68.404    5.214  \n",
       "0        99.383        0.459    99.681    0.803  "
      ]
     },
     "execution_count": 125,
     "metadata": {},
     "output_type": "execute_result"
    }
   ],
   "source": [
    "score_df = f.add_scores_to_df(\"Random3\", score_df, y_test, predictions_from_X_test, y_train_balanced, predictions_from_X_train)\n",
    "score_df"
   ]
  },
  {
   "cell_type": "markdown",
   "metadata": {},
   "source": [
    "I have a problem with overfitting"
   ]
  },
  {
   "cell_type": "markdown",
   "metadata": {},
   "source": [
    "# Run Model 4 - F1 "
   ]
  },
  {
   "cell_type": "code",
   "execution_count": 126,
   "metadata": {},
   "outputs": [
    {
     "name": "stdout",
     "output_type": "stream",
     "text": [
      "Testing F1: 98.83%\n",
      "\n",
      "Optimal Parameters: {'criterion': 'gini', 'max_depth': 30, 'n_estimators': 40}\n"
     ]
    }
   ],
   "source": [
    "random4 = RandomForestClassifier()\n",
    "\n",
    "rf_param_grid = {\n",
    "    'criterion': ['gini', 'entropy'],\n",
    "    'n_estimators': [10, 20, 30, 40],\n",
    "    'max_depth': [10, 20, 30]\n",
    "}\n",
    "\n",
    "rf_grid_search = GridSearchCV(random4, rf_param_grid, cv=3, scoring='f1')\n",
    "rf_grid_search.fit(X_train_scaled_balanced, y_train_balanced)\n",
    "\n",
    "print(f\"Testing F1: {rf_grid_search.best_score_ :.2%}\")\n",
    "print(\"\")\n",
    "print(f\"Optimal Parameters: {rf_grid_search.best_params_}\")"
   ]
  },
  {
   "cell_type": "markdown",
   "metadata": {},
   "source": [
    "Still the same overfitted parameters."
   ]
  },
  {
   "cell_type": "code",
   "execution_count": 127,
   "metadata": {},
   "outputs": [
    {
     "name": "stdout",
     "output_type": "stream",
     "text": [
      "Testing F1: 93.13%\n",
      "\n",
      "Optimal Parameters: {'criterion': 'gini', 'max_depth': 10, 'n_estimators': 100}\n"
     ]
    }
   ],
   "source": [
    "random4 = RandomForestClassifier()\n",
    "\n",
    "rf_param_grid = {\n",
    "    'criterion': ['gini', 'entropy'],\n",
    "    'n_estimators': [100],\n",
    "    'max_depth': [10]\n",
    "}\n",
    "\n",
    "rf_grid_search = GridSearchCV(random4, rf_param_grid, cv=5, scoring='f1')\n",
    "rf_grid_search.fit(X_train_scaled_balanced, y_train_balanced)\n",
    "\n",
    "print(f\"Testing F1: {rf_grid_search.best_score_ :.2%}\")\n",
    "print(\"\")\n",
    "print(f\"Optimal Parameters: {rf_grid_search.best_params_}\")"
   ]
  },
  {
   "cell_type": "code",
   "execution_count": 128,
   "metadata": {},
   "outputs": [
    {
     "data": {
      "text/plain": [
       "RandomForestClassifier(max_depth=10)"
      ]
     },
     "execution_count": 128,
     "metadata": {},
     "output_type": "execute_result"
    }
   ],
   "source": [
    "random4 = RandomForestClassifier(criterion='gini', max_depth=10, n_estimators=100)\n",
    "random4.fit(X_train_scaled_balanced, y_train_balanced)"
   ]
  },
  {
   "cell_type": "code",
   "execution_count": 129,
   "metadata": {},
   "outputs": [],
   "source": [
    "predictions_from_X_train = random4.predict(X_train_scaled_balanced)\n",
    "predictions_from_X_test = random4.predict(X_test_scaled)"
   ]
  },
  {
   "cell_type": "code",
   "execution_count": 130,
   "metadata": {},
   "outputs": [
    {
     "name": "stdout",
     "output_type": "stream",
     "text": [
      "Accuracy: 94.9%\n",
      "Precision: 3.2%\n",
      "Recall: 5.5%\n",
      "F1: 4.1%\n",
      "Conufusion Matrix: \n",
      "[[10567   359]\n",
      " [  206    12]]\n",
      "\n",
      "\n"
     ]
    },
    {
     "data": {
      "image/png": "[encoded data removed]",
      "text/plain": [
       "<Figure size 432x288 with 2 Axes>"
      ]
     },
     "metadata": {
      "needs_background": "light"
     },
     "output_type": "display_data"
    }
   ],
   "source": [
    "f.scoring(predictions_from_X_test, y_test, random4, X_test_scaled)"
   ]
  },
  {
   "cell_type": "markdown",
   "metadata": {},
   "source": [
    "Not a good result. Recall is horrible."
   ]
  },
  {
   "cell_type": "code",
   "execution_count": 131,
   "metadata": {},
   "outputs": [
    {
     "data": {
      "text/html": [
       "<div>\n",
       "<style scoped>\n",
       "    .dataframe tbody tr th:only-of-type {\n",
       "        vertical-align: middle;\n",
       "    }\n",
       "\n",
       "    .dataframe tbody tr th {\n",
       "        vertical-align: top;\n",
       "    }\n",
       "\n",
       "    .dataframe thead th {\n",
       "        text-align: right;\n",
       "    }\n",
       "</style>\n",
       "<table border=\"1\" class=\"dataframe\">\n",
       "  <thead>\n",
       "    <tr style=\"text-align: right;\">\n",
       "      <th></th>\n",
       "      <th>model</th>\n",
       "      <th>train_accuracy</th>\n",
       "      <th>test_accuracy</th>\n",
       "      <th>train_precision</th>\n",
       "      <th>test_precision</th>\n",
       "      <th>train_recall</th>\n",
       "      <th>test_recall</th>\n",
       "      <th>train_f1</th>\n",
       "      <th>test_f1</th>\n",
       "    </tr>\n",
       "  </thead>\n",
       "  <tbody>\n",
       "    <tr>\n",
       "      <td>0</td>\n",
       "      <td>Random1</td>\n",
       "      <td>86.619</td>\n",
       "      <td>88.586</td>\n",
       "      <td>89.375</td>\n",
       "      <td>4.094</td>\n",
       "      <td>83.119</td>\n",
       "      <td>21.560</td>\n",
       "      <td>86.134</td>\n",
       "      <td>6.881</td>\n",
       "    </tr>\n",
       "    <tr>\n",
       "      <td>0</td>\n",
       "      <td>Random2</td>\n",
       "      <td>70.086</td>\n",
       "      <td>74.551</td>\n",
       "      <td>72.479</td>\n",
       "      <td>2.812</td>\n",
       "      <td>64.762</td>\n",
       "      <td>35.780</td>\n",
       "      <td>68.404</td>\n",
       "      <td>5.214</td>\n",
       "    </tr>\n",
       "    <tr>\n",
       "      <td>0</td>\n",
       "      <td>Random3</td>\n",
       "      <td>99.682</td>\n",
       "      <td>97.784</td>\n",
       "      <td>99.982</td>\n",
       "      <td>3.226</td>\n",
       "      <td>99.383</td>\n",
       "      <td>0.459</td>\n",
       "      <td>99.681</td>\n",
       "      <td>0.803</td>\n",
       "    </tr>\n",
       "    <tr>\n",
       "      <td>0</td>\n",
       "      <td>Random4</td>\n",
       "      <td>93.549</td>\n",
       "      <td>94.930</td>\n",
       "      <td>96.724</td>\n",
       "      <td>3.235</td>\n",
       "      <td>90.151</td>\n",
       "      <td>5.505</td>\n",
       "      <td>93.322</td>\n",
       "      <td>4.075</td>\n",
       "    </tr>\n",
       "  </tbody>\n",
       "</table>\n",
       "</div>"
      ],
      "text/plain": [
       "     model  train_accuracy  test_accuracy  train_precision  test_precision  \\\n",
       "0  Random1          86.619         88.586           89.375           4.094   \n",
       "0  Random2          70.086         74.551           72.479           2.812   \n",
       "0  Random3          99.682         97.784           99.982           3.226   \n",
       "0  Random4          93.549         94.930           96.724           3.235   \n",
       "\n",
       "   train_recall  test_recall  train_f1  test_f1  \n",
       "0        83.119       21.560    86.134    6.881  \n",
       "0        64.762       35.780    68.404    5.214  \n",
       "0        99.383        0.459    99.681    0.803  \n",
       "0        90.151        5.505    93.322    4.075  "
      ]
     },
     "execution_count": 131,
     "metadata": {},
     "output_type": "execute_result"
    }
   ],
   "source": [
    "score_df = f.add_scores_to_df(\"Random4\", score_df, y_test, predictions_from_X_test, y_train_balanced, predictions_from_X_train)\n",
    "score_df"
   ]
  },
  {
   "cell_type": "markdown",
   "metadata": {},
   "source": [
    "The model with the least over fitting is Random2, but it's still not great. It had: `n_estimators=5, max_features=10, max_depth=2`. I probably need to keep `max_depth` very shallow. \n",
    "\n",
    "`gini` always seems to do better than `entropy`. "
   ]
  },
  {
   "cell_type": "markdown",
   "metadata": {},
   "source": [
    "# Model 5"
   ]
  },
  {
   "cell_type": "code",
   "execution_count": 132,
   "metadata": {},
   "outputs": [
    {
     "name": "stdout",
     "output_type": "stream",
     "text": [
      "Testing F1: 85.68%\n",
      "\n",
      "Optimal Parameters: {'criterion': 'gini', 'max_depth': 5, 'max_features': 20, 'n_estimators': 20}\n"
     ]
    }
   ],
   "source": [
    "random5 = RandomForestClassifier()\n",
    "\n",
    "rf_param_grid = {\n",
    "    'criterion': ['gini'],\n",
    "    'n_estimators': [10, 20, 30],\n",
    "    'max_features': [10, 20],\n",
    "    'max_depth': [2, 5]\n",
    "}\n",
    "\n",
    "rf_grid_search = GridSearchCV(random5, rf_param_grid, cv=4, scoring='f1')\n",
    "rf_grid_search.fit(X_train_scaled_balanced, y_train_balanced)\n",
    "\n",
    "print(f\"Testing F1: {rf_grid_search.best_score_ :.2%}\")\n",
    "print(\"\")\n",
    "print(f\"Optimal Parameters: {rf_grid_search.best_params_}\")"
   ]
  },
  {
   "cell_type": "code",
   "execution_count": 133,
   "metadata": {},
   "outputs": [
    {
     "data": {
      "text/plain": [
       "RandomForestClassifier(max_depth=5, max_features=10, n_estimators=20)"
      ]
     },
     "execution_count": 133,
     "metadata": {},
     "output_type": "execute_result"
    }
   ],
   "source": [
    "random5 = RandomForestClassifier(criterion='gini', max_depth=5, n_estimators=20, max_features=10)\n",
    "random5.fit(X_train_scaled_balanced, y_train_balanced)"
   ]
  },
  {
   "cell_type": "code",
   "execution_count": 134,
   "metadata": {},
   "outputs": [],
   "source": [
    "predictions_from_X_train = random5.predict(X_train_scaled_balanced)\n",
    "predictions_from_X_test = random5.predict(X_test_scaled)"
   ]
  },
  {
   "cell_type": "code",
   "execution_count": 135,
   "metadata": {},
   "outputs": [
    {
     "name": "stdout",
     "output_type": "stream",
     "text": [
      "Accuracy: 89.1%\n",
      "Precision: 4.4%\n",
      "Recall: 22.0%\n",
      "F1: 7.3%\n",
      "Conufusion Matrix: \n",
      "[[9881 1045]\n",
      " [ 170   48]]\n",
      "\n",
      "\n"
     ]
    },
    {
     "data": {
      "image/png": "[encoded data removed]",
      "text/plain": [
       "<Figure size 432x288 with 2 Axes>"
      ]
     },
     "metadata": {
      "needs_background": "light"
     },
     "output_type": "display_data"
    }
   ],
   "source": [
    "f.scoring(predictions_from_X_test, y_test, random5, X_test_scaled)"
   ]
  },
  {
   "cell_type": "markdown",
   "metadata": {},
   "source": [
    "I need better recall"
   ]
  },
  {
   "cell_type": "code",
   "execution_count": 136,
   "metadata": {},
   "outputs": [
    {
     "data": {
      "text/html": [
       "<div>\n",
       "<style scoped>\n",
       "    .dataframe tbody tr th:only-of-type {\n",
       "        vertical-align: middle;\n",
       "    }\n",
       "\n",
       "    .dataframe tbody tr th {\n",
       "        vertical-align: top;\n",
       "    }\n",
       "\n",
       "    .dataframe thead th {\n",
       "        text-align: right;\n",
       "    }\n",
       "</style>\n",
       "<table border=\"1\" class=\"dataframe\">\n",
       "  <thead>\n",
       "    <tr style=\"text-align: right;\">\n",
       "      <th></th>\n",
       "      <th>model</th>\n",
       "      <th>train_accuracy</th>\n",
       "      <th>test_accuracy</th>\n",
       "      <th>train_precision</th>\n",
       "      <th>test_precision</th>\n",
       "      <th>train_recall</th>\n",
       "      <th>test_recall</th>\n",
       "      <th>train_f1</th>\n",
       "      <th>test_f1</th>\n",
       "    </tr>\n",
       "  </thead>\n",
       "  <tbody>\n",
       "    <tr>\n",
       "      <td>0</td>\n",
       "      <td>Random1</td>\n",
       "      <td>86.619</td>\n",
       "      <td>88.586</td>\n",
       "      <td>89.375</td>\n",
       "      <td>4.094</td>\n",
       "      <td>83.119</td>\n",
       "      <td>21.560</td>\n",
       "      <td>86.134</td>\n",
       "      <td>6.881</td>\n",
       "    </tr>\n",
       "    <tr>\n",
       "      <td>0</td>\n",
       "      <td>Random2</td>\n",
       "      <td>70.086</td>\n",
       "      <td>74.551</td>\n",
       "      <td>72.479</td>\n",
       "      <td>2.812</td>\n",
       "      <td>64.762</td>\n",
       "      <td>35.780</td>\n",
       "      <td>68.404</td>\n",
       "      <td>5.214</td>\n",
       "    </tr>\n",
       "    <tr>\n",
       "      <td>0</td>\n",
       "      <td>Random3</td>\n",
       "      <td>99.682</td>\n",
       "      <td>97.784</td>\n",
       "      <td>99.982</td>\n",
       "      <td>3.226</td>\n",
       "      <td>99.383</td>\n",
       "      <td>0.459</td>\n",
       "      <td>99.681</td>\n",
       "      <td>0.803</td>\n",
       "    </tr>\n",
       "    <tr>\n",
       "      <td>0</td>\n",
       "      <td>Random4</td>\n",
       "      <td>93.549</td>\n",
       "      <td>94.930</td>\n",
       "      <td>96.724</td>\n",
       "      <td>3.235</td>\n",
       "      <td>90.151</td>\n",
       "      <td>5.505</td>\n",
       "      <td>93.322</td>\n",
       "      <td>4.075</td>\n",
       "    </tr>\n",
       "    <tr>\n",
       "      <td>0</td>\n",
       "      <td>Random5</td>\n",
       "      <td>85.247</td>\n",
       "      <td>89.097</td>\n",
       "      <td>89.632</td>\n",
       "      <td>4.392</td>\n",
       "      <td>79.714</td>\n",
       "      <td>22.018</td>\n",
       "      <td>84.383</td>\n",
       "      <td>7.323</td>\n",
       "    </tr>\n",
       "  </tbody>\n",
       "</table>\n",
       "</div>"
      ],
      "text/plain": [
       "     model  train_accuracy  test_accuracy  train_precision  test_precision  \\\n",
       "0  Random1          86.619         88.586           89.375           4.094   \n",
       "0  Random2          70.086         74.551           72.479           2.812   \n",
       "0  Random3          99.682         97.784           99.982           3.226   \n",
       "0  Random4          93.549         94.930           96.724           3.235   \n",
       "0  Random5          85.247         89.097           89.632           4.392   \n",
       "\n",
       "   train_recall  test_recall  train_f1  test_f1  \n",
       "0        83.119       21.560    86.134    6.881  \n",
       "0        64.762       35.780    68.404    5.214  \n",
       "0        99.383        0.459    99.681    0.803  \n",
       "0        90.151        5.505    93.322    4.075  \n",
       "0        79.714       22.018    84.383    7.323  "
      ]
     },
     "execution_count": 136,
     "metadata": {},
     "output_type": "execute_result"
    }
   ],
   "source": [
    "score_df = f.add_scores_to_df(\"Random5\", score_df, y_test, predictions_from_X_test, y_train_balanced, predictions_from_X_train)\n",
    "score_df"
   ]
  },
  {
   "cell_type": "markdown",
   "metadata": {},
   "source": [
    "# Model 6"
   ]
  },
  {
   "cell_type": "code",
   "execution_count": 137,
   "metadata": {},
   "outputs": [
    {
     "name": "stdout",
     "output_type": "stream",
     "text": [
      "Testing Recall: 81.58%\n",
      "\n",
      "Optimal Parameters: {'criterion': 'gini', 'max_depth': 5, 'max_features': 10, 'n_estimators': 30}\n"
     ]
    }
   ],
   "source": [
    "random6 = RandomForestClassifier()\n",
    "\n",
    "rf_param_grid = {\n",
    "    'criterion': ['gini'],\n",
    "    'n_estimators': [10, 20, 30],\n",
    "    'max_features': [10, 20],\n",
    "    'max_depth': [2, 5]\n",
    "}\n",
    "\n",
    "rf_grid_search = GridSearchCV(random6, rf_param_grid, cv=4, scoring='recall')\n",
    "rf_grid_search.fit(X_train_scaled_balanced, y_train_balanced)\n",
    "\n",
    "print(f\"Testing Recall: {rf_grid_search.best_score_ :.2%}\")\n",
    "print(\"\")\n",
    "print(f\"Optimal Parameters: {rf_grid_search.best_params_}\")"
   ]
  },
  {
   "cell_type": "code",
   "execution_count": 138,
   "metadata": {},
   "outputs": [
    {
     "data": {
      "text/plain": [
       "RandomForestClassifier(max_depth=5, max_features=10, n_estimators=30)"
      ]
     },
     "execution_count": 138,
     "metadata": {},
     "output_type": "execute_result"
    }
   ],
   "source": [
    "random6 = RandomForestClassifier(criterion='gini', max_depth=5, max_features=10, n_estimators=30)\n",
    "random6.fit(X_train_scaled_balanced, y_train_balanced)"
   ]
  },
  {
   "cell_type": "code",
   "execution_count": 139,
   "metadata": {},
   "outputs": [],
   "source": [
    "predictions_from_X_train = random6.predict(X_train_scaled_balanced)\n",
    "predictions_from_X_test = random6.predict(X_test_scaled)"
   ]
  },
  {
   "cell_type": "code",
   "execution_count": 140,
   "metadata": {},
   "outputs": [
    {
     "name": "stdout",
     "output_type": "stream",
     "text": [
      "Accuracy: 84.7%\n",
      "Precision: 3.1%\n",
      "Recall: 22.9%\n",
      "F1: 5.5%\n",
      "Conufusion Matrix: \n",
      "[[9385 1541]\n",
      " [ 168   50]]\n",
      "\n",
      "\n"
     ]
    },
    {
     "data": {
      "image/png": "[encoded data removed]",
      "text/plain": [
       "<Figure size 432x288 with 2 Axes>"
      ]
     },
     "metadata": {
      "needs_background": "light"
     },
     "output_type": "display_data"
    }
   ],
   "source": [
    "f.scoring(predictions_from_X_test, y_test, random6, X_test_scaled)"
   ]
  },
  {
   "cell_type": "markdown",
   "metadata": {},
   "source": [
    "I need better recall"
   ]
  },
  {
   "cell_type": "code",
   "execution_count": 141,
   "metadata": {},
   "outputs": [
    {
     "data": {
      "text/html": [
       "<div>\n",
       "<style scoped>\n",
       "    .dataframe tbody tr th:only-of-type {\n",
       "        vertical-align: middle;\n",
       "    }\n",
       "\n",
       "    .dataframe tbody tr th {\n",
       "        vertical-align: top;\n",
       "    }\n",
       "\n",
       "    .dataframe thead th {\n",
       "        text-align: right;\n",
       "    }\n",
       "</style>\n",
       "<table border=\"1\" class=\"dataframe\">\n",
       "  <thead>\n",
       "    <tr style=\"text-align: right;\">\n",
       "      <th></th>\n",
       "      <th>model</th>\n",
       "      <th>train_accuracy</th>\n",
       "      <th>test_accuracy</th>\n",
       "      <th>train_precision</th>\n",
       "      <th>test_precision</th>\n",
       "      <th>train_recall</th>\n",
       "      <th>test_recall</th>\n",
       "      <th>train_f1</th>\n",
       "      <th>test_f1</th>\n",
       "    </tr>\n",
       "  </thead>\n",
       "  <tbody>\n",
       "    <tr>\n",
       "      <td>0</td>\n",
       "      <td>Random1</td>\n",
       "      <td>86.619</td>\n",
       "      <td>88.586</td>\n",
       "      <td>89.375</td>\n",
       "      <td>4.094</td>\n",
       "      <td>83.119</td>\n",
       "      <td>21.560</td>\n",
       "      <td>86.134</td>\n",
       "      <td>6.881</td>\n",
       "    </tr>\n",
       "    <tr>\n",
       "      <td>0</td>\n",
       "      <td>Random2</td>\n",
       "      <td>70.086</td>\n",
       "      <td>74.551</td>\n",
       "      <td>72.479</td>\n",
       "      <td>2.812</td>\n",
       "      <td>64.762</td>\n",
       "      <td>35.780</td>\n",
       "      <td>68.404</td>\n",
       "      <td>5.214</td>\n",
       "    </tr>\n",
       "    <tr>\n",
       "      <td>0</td>\n",
       "      <td>Random3</td>\n",
       "      <td>99.682</td>\n",
       "      <td>97.784</td>\n",
       "      <td>99.982</td>\n",
       "      <td>3.226</td>\n",
       "      <td>99.383</td>\n",
       "      <td>0.459</td>\n",
       "      <td>99.681</td>\n",
       "      <td>0.803</td>\n",
       "    </tr>\n",
       "    <tr>\n",
       "      <td>0</td>\n",
       "      <td>Random4</td>\n",
       "      <td>93.549</td>\n",
       "      <td>94.930</td>\n",
       "      <td>96.724</td>\n",
       "      <td>3.235</td>\n",
       "      <td>90.151</td>\n",
       "      <td>5.505</td>\n",
       "      <td>93.322</td>\n",
       "      <td>4.075</td>\n",
       "    </tr>\n",
       "    <tr>\n",
       "      <td>0</td>\n",
       "      <td>Random5</td>\n",
       "      <td>85.247</td>\n",
       "      <td>89.097</td>\n",
       "      <td>89.632</td>\n",
       "      <td>4.392</td>\n",
       "      <td>79.714</td>\n",
       "      <td>22.018</td>\n",
       "      <td>84.383</td>\n",
       "      <td>7.323</td>\n",
       "    </tr>\n",
       "    <tr>\n",
       "      <td>0</td>\n",
       "      <td>Random6</td>\n",
       "      <td>84.761</td>\n",
       "      <td>84.664</td>\n",
       "      <td>85.515</td>\n",
       "      <td>3.143</td>\n",
       "      <td>83.700</td>\n",
       "      <td>22.936</td>\n",
       "      <td>84.598</td>\n",
       "      <td>5.528</td>\n",
       "    </tr>\n",
       "  </tbody>\n",
       "</table>\n",
       "</div>"
      ],
      "text/plain": [
       "     model  train_accuracy  test_accuracy  train_precision  test_precision  \\\n",
       "0  Random1          86.619         88.586           89.375           4.094   \n",
       "0  Random2          70.086         74.551           72.479           2.812   \n",
       "0  Random3          99.682         97.784           99.982           3.226   \n",
       "0  Random4          93.549         94.930           96.724           3.235   \n",
       "0  Random5          85.247         89.097           89.632           4.392   \n",
       "0  Random6          84.761         84.664           85.515           3.143   \n",
       "\n",
       "   train_recall  test_recall  train_f1  test_f1  \n",
       "0        83.119       21.560    86.134    6.881  \n",
       "0        64.762       35.780    68.404    5.214  \n",
       "0        99.383        0.459    99.681    0.803  \n",
       "0        90.151        5.505    93.322    4.075  \n",
       "0        79.714       22.018    84.383    7.323  \n",
       "0        83.700       22.936    84.598    5.528  "
      ]
     },
     "execution_count": 141,
     "metadata": {},
     "output_type": "execute_result"
    }
   ],
   "source": [
    "score_df = f.add_scores_to_df(\"Random6\", score_df, y_test, predictions_from_X_test, y_train_balanced, predictions_from_X_train)\n",
    "score_df"
   ]
  },
  {
   "cell_type": "markdown",
   "metadata": {},
   "source": [
    "# Back to Model 2"
   ]
  },
  {
   "cell_type": "code",
   "execution_count": 142,
   "metadata": {},
   "outputs": [
    {
     "data": {
      "text/plain": [
       "RandomForestClassifier(max_depth=2, max_features=10, n_estimators=5)"
      ]
     },
     "execution_count": 142,
     "metadata": {},
     "output_type": "execute_result"
    }
   ],
   "source": [
    "random2"
   ]
  },
  {
   "cell_type": "code",
   "execution_count": 143,
   "metadata": {},
   "outputs": [
    {
     "data": {
      "text/plain": [
       "array([0.13940951, 0.1460729 , 0.04452878, 0.        , 0.        ,\n",
       "       0.        , 0.        , 0.        , 0.        , 0.        ,\n",
       "       0.        , 0.        , 0.        , 0.        , 0.00709001,\n",
       "       0.17615241, 0.        , 0.        , 0.        , 0.        ,\n",
       "       0.        , 0.        , 0.        , 0.        , 0.        ,\n",
       "       0.        , 0.        , 0.        , 0.        , 0.        ,\n",
       "       0.1015036 , 0.        , 0.        , 0.        , 0.        ,\n",
       "       0.        , 0.        , 0.        , 0.        , 0.        ,\n",
       "       0.        , 0.        , 0.        , 0.        , 0.        ,\n",
       "       0.        , 0.        , 0.        , 0.        , 0.        ,\n",
       "       0.        , 0.        , 0.        , 0.        , 0.        ,\n",
       "       0.        , 0.        , 0.06278663, 0.        , 0.        ,\n",
       "       0.15830312, 0.        , 0.        , 0.        , 0.        ,\n",
       "       0.        , 0.        , 0.        , 0.00868183, 0.        ,\n",
       "       0.        , 0.0928812 , 0.        , 0.06259002, 0.        ])"
      ]
     },
     "execution_count": 143,
     "metadata": {},
     "output_type": "execute_result"
    }
   ],
   "source": [
    "random2.feature_importances_"
   ]
  },
  {
   "cell_type": "code",
   "execution_count": 144,
   "metadata": {},
   "outputs": [
    {
     "data": {
      "text/plain": [
       "[('lighting_condition_darkness, lighted road', 17.62),\n",
       " ('crash_day_of_week_5', 15.83),\n",
       " ('num_units', 14.61),\n",
       " ('posted_speed_limit', 13.94),\n",
       " ('roadway_surface_cond_unknown', 10.15),\n",
       " ('crash_month_9', 9.29),\n",
       " ('crash_day_of_week_2', 6.28),\n",
       " ('crash_month_11', 6.26),\n",
       " ('sex', 4.45),\n",
       " ('crash_month_6', 0.87),\n",
       " ('lighting_condition_darkness', 0.71),\n",
       " ('age', 0.0),\n",
       " ('weather_condition_blowing snow', 0.0),\n",
       " ('weather_condition_clear', 0.0),\n",
       " ('weather_condition_cloudy/overcast', 0.0)]"
      ]
     },
     "execution_count": 144,
     "metadata": {},
     "output_type": "execute_result"
    }
   ],
   "source": [
    "import operator\n",
    "features = {}\n",
    "cols = X_train.columns.values\n",
    "for num in range(len(X_train.columns.values)):\n",
    "    features[cols[num]] = round(random2.feature_importances_[num] * 100, 2)\n",
    "features = dict(sorted(features.items(), key=operator.itemgetter(1),reverse=True))\n",
    "features = list(features.items())\n",
    "features[0:15]"
   ]
  },
  {
   "cell_type": "markdown",
   "metadata": {},
   "source": [
    "- X_train &rarr; X_train_scaled &rarr; **X_train_scaled_balanced**\n",
    "    - used to create **predictions_from_X_train** which is to be compared to **y_train_balanced**\n",
    "- X_test &rarr; **X_test_scaled**\n",
    "    - used to create **predictions_from_X_test** which is to be compared to **y_test**\n",
    "- y_train &rarr; **y_train_balanced**\n",
    "- **y_test**"
   ]
  },
  {
   "cell_type": "code",
   "execution_count": null,
   "metadata": {},
   "outputs": [],
   "source": []
  }
 ],
 "metadata": {
  "kernelspec": {
   "display_name": "Python 3",
   "language": "python",
   "name": "python3"
  },
  "language_info": {
   "codemirror_mode": {
    "name": "ipython",
    "version": 3
   },
   "file_extension": ".py",
   "mimetype": "text/x-python",
   "name": "python",
   "nbconvert_exporter": "python",
   "pygments_lexer": "ipython3",
   "version": "3.6.9"
  }
 },
 "nbformat": 4,
 "nbformat_minor": 4
}
