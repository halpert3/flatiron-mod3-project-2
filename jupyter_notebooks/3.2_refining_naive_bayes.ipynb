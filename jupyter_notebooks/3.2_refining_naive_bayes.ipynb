{
 "cells": [
  {
   "cell_type": "markdown",
   "metadata": {},
   "source": [
    "# Preparation"
   ]
  },
  {
   "cell_type": "markdown",
   "metadata": {},
   "source": [
    "## Import libraries"
   ]
  },
  {
   "cell_type": "code",
   "execution_count": 74,
   "metadata": {},
   "outputs": [],
   "source": [
    "import numpy as np \n",
    "import pandas as pd \n",
    "import matplotlib.pyplot as plt\n",
    "from sklearn.model_selection import train_test_split\n",
    "from sklearn.preprocessing import StandardScaler\n",
    "from imblearn.over_sampling import SMOTE, ADASYN\n",
    "from functions import functions as f\n",
    "# import model\n",
    "from sklearn.naive_bayes import GaussianNB"
   ]
  },
  {
   "cell_type": "markdown",
   "metadata": {},
   "source": [
    "## Import data"
   ]
  },
  {
   "cell_type": "code",
   "execution_count": 75,
   "metadata": {},
   "outputs": [],
   "source": [
    "df = pd.read_csv('../data/crashes_cleaned_ohe.csv')"
   ]
  },
  {
   "cell_type": "code",
   "execution_count": 76,
   "metadata": {},
   "outputs": [
    {
     "data": {
      "text/html": [
       "<div>\n",
       "<style scoped>\n",
       "    .dataframe tbody tr th:only-of-type {\n",
       "        vertical-align: middle;\n",
       "    }\n",
       "\n",
       "    .dataframe tbody tr th {\n",
       "        vertical-align: top;\n",
       "    }\n",
       "\n",
       "    .dataframe thead th {\n",
       "        text-align: right;\n",
       "    }\n",
       "</style>\n",
       "<table border=\"1\" class=\"dataframe\">\n",
       "  <thead>\n",
       "    <tr style=\"text-align: right;\">\n",
       "      <th></th>\n",
       "      <th>posted_speed_limit</th>\n",
       "      <th>num_units</th>\n",
       "      <th>sex</th>\n",
       "      <th>age</th>\n",
       "      <th>weather_condition_blowing snow</th>\n",
       "      <th>weather_condition_clear</th>\n",
       "      <th>weather_condition_cloudy/overcast</th>\n",
       "      <th>weather_condition_fog/smoke/haze</th>\n",
       "      <th>weather_condition_freezing rain/drizzle</th>\n",
       "      <th>weather_condition_rain</th>\n",
       "      <th>...</th>\n",
       "      <th>crash_month_4</th>\n",
       "      <th>crash_month_5</th>\n",
       "      <th>crash_month_6</th>\n",
       "      <th>crash_month_7</th>\n",
       "      <th>crash_month_8</th>\n",
       "      <th>crash_month_9</th>\n",
       "      <th>crash_month_10</th>\n",
       "      <th>crash_month_11</th>\n",
       "      <th>crash_month_12</th>\n",
       "      <th>serious_accident</th>\n",
       "    </tr>\n",
       "  </thead>\n",
       "  <tbody>\n",
       "    <tr>\n",
       "      <td>0</td>\n",
       "      <td>35</td>\n",
       "      <td>2</td>\n",
       "      <td>1</td>\n",
       "      <td>44.0</td>\n",
       "      <td>0</td>\n",
       "      <td>1</td>\n",
       "      <td>0</td>\n",
       "      <td>0</td>\n",
       "      <td>0</td>\n",
       "      <td>0</td>\n",
       "      <td>...</td>\n",
       "      <td>0</td>\n",
       "      <td>1</td>\n",
       "      <td>0</td>\n",
       "      <td>0</td>\n",
       "      <td>0</td>\n",
       "      <td>0</td>\n",
       "      <td>0</td>\n",
       "      <td>0</td>\n",
       "      <td>0</td>\n",
       "      <td>0</td>\n",
       "    </tr>\n",
       "    <tr>\n",
       "      <td>1</td>\n",
       "      <td>25</td>\n",
       "      <td>2</td>\n",
       "      <td>1</td>\n",
       "      <td>71.0</td>\n",
       "      <td>0</td>\n",
       "      <td>1</td>\n",
       "      <td>0</td>\n",
       "      <td>0</td>\n",
       "      <td>0</td>\n",
       "      <td>0</td>\n",
       "      <td>...</td>\n",
       "      <td>0</td>\n",
       "      <td>0</td>\n",
       "      <td>1</td>\n",
       "      <td>0</td>\n",
       "      <td>0</td>\n",
       "      <td>0</td>\n",
       "      <td>0</td>\n",
       "      <td>0</td>\n",
       "      <td>0</td>\n",
       "      <td>0</td>\n",
       "    </tr>\n",
       "    <tr>\n",
       "      <td>2</td>\n",
       "      <td>15</td>\n",
       "      <td>2</td>\n",
       "      <td>1</td>\n",
       "      <td>60.0</td>\n",
       "      <td>0</td>\n",
       "      <td>1</td>\n",
       "      <td>0</td>\n",
       "      <td>0</td>\n",
       "      <td>0</td>\n",
       "      <td>0</td>\n",
       "      <td>...</td>\n",
       "      <td>0</td>\n",
       "      <td>0</td>\n",
       "      <td>0</td>\n",
       "      <td>0</td>\n",
       "      <td>0</td>\n",
       "      <td>1</td>\n",
       "      <td>0</td>\n",
       "      <td>0</td>\n",
       "      <td>0</td>\n",
       "      <td>0</td>\n",
       "    </tr>\n",
       "    <tr>\n",
       "      <td>3</td>\n",
       "      <td>30</td>\n",
       "      <td>2</td>\n",
       "      <td>1</td>\n",
       "      <td>38.0</td>\n",
       "      <td>0</td>\n",
       "      <td>1</td>\n",
       "      <td>0</td>\n",
       "      <td>0</td>\n",
       "      <td>0</td>\n",
       "      <td>0</td>\n",
       "      <td>...</td>\n",
       "      <td>0</td>\n",
       "      <td>0</td>\n",
       "      <td>0</td>\n",
       "      <td>0</td>\n",
       "      <td>0</td>\n",
       "      <td>0</td>\n",
       "      <td>0</td>\n",
       "      <td>0</td>\n",
       "      <td>0</td>\n",
       "      <td>0</td>\n",
       "    </tr>\n",
       "    <tr>\n",
       "      <td>4</td>\n",
       "      <td>30</td>\n",
       "      <td>2</td>\n",
       "      <td>1</td>\n",
       "      <td>52.0</td>\n",
       "      <td>0</td>\n",
       "      <td>0</td>\n",
       "      <td>0</td>\n",
       "      <td>0</td>\n",
       "      <td>0</td>\n",
       "      <td>1</td>\n",
       "      <td>...</td>\n",
       "      <td>0</td>\n",
       "      <td>0</td>\n",
       "      <td>0</td>\n",
       "      <td>0</td>\n",
       "      <td>0</td>\n",
       "      <td>0</td>\n",
       "      <td>0</td>\n",
       "      <td>0</td>\n",
       "      <td>0</td>\n",
       "      <td>0</td>\n",
       "    </tr>\n",
       "  </tbody>\n",
       "</table>\n",
       "<p>5 rows × 76 columns</p>\n",
       "</div>"
      ],
      "text/plain": [
       "   posted_speed_limit  num_units  sex   age  weather_condition_blowing snow  \\\n",
       "0                  35          2    1  44.0                               0   \n",
       "1                  25          2    1  71.0                               0   \n",
       "2                  15          2    1  60.0                               0   \n",
       "3                  30          2    1  38.0                               0   \n",
       "4                  30          2    1  52.0                               0   \n",
       "\n",
       "   weather_condition_clear  weather_condition_cloudy/overcast  \\\n",
       "0                        1                                  0   \n",
       "1                        1                                  0   \n",
       "2                        1                                  0   \n",
       "3                        1                                  0   \n",
       "4                        0                                  0   \n",
       "\n",
       "   weather_condition_fog/smoke/haze  weather_condition_freezing rain/drizzle  \\\n",
       "0                                 0                                        0   \n",
       "1                                 0                                        0   \n",
       "2                                 0                                        0   \n",
       "3                                 0                                        0   \n",
       "4                                 0                                        0   \n",
       "\n",
       "   weather_condition_rain  ...  crash_month_4  crash_month_5  crash_month_6  \\\n",
       "0                       0  ...              0              1              0   \n",
       "1                       0  ...              0              0              1   \n",
       "2                       0  ...              0              0              0   \n",
       "3                       0  ...              0              0              0   \n",
       "4                       1  ...              0              0              0   \n",
       "\n",
       "   crash_month_7  crash_month_8  crash_month_9  crash_month_10  \\\n",
       "0              0              0              0               0   \n",
       "1              0              0              0               0   \n",
       "2              0              0              1               0   \n",
       "3              0              0              0               0   \n",
       "4              0              0              0               0   \n",
       "\n",
       "   crash_month_11  crash_month_12  serious_accident  \n",
       "0               0               0                 0  \n",
       "1               0               0                 0  \n",
       "2               0               0                 0  \n",
       "3               0               0                 0  \n",
       "4               0               0                 0  \n",
       "\n",
       "[5 rows x 76 columns]"
      ]
     },
     "execution_count": 76,
     "metadata": {},
     "output_type": "execute_result"
    }
   ],
   "source": [
    "df.head()"
   ]
  },
  {
   "cell_type": "markdown",
   "metadata": {},
   "source": [
    "## Train-Test Split"
   ]
  },
  {
   "cell_type": "code",
   "execution_count": 77,
   "metadata": {},
   "outputs": [],
   "source": [
    "X = df.drop(['serious_accident'], axis=1)\n",
    "y = df.serious_accident\n",
    "\n",
    "X_train, X_test, y_train, y_test = train_test_split(X, y, test_size=0.20, random_state=200)"
   ]
  },
  {
   "cell_type": "code",
   "execution_count": 78,
   "metadata": {},
   "outputs": [],
   "source": [
    "ss = StandardScaler()\n",
    "X_train_scaled = ss.fit_transform(X_train)\n",
    "X_test_scaled = ss.transform(X_test)"
   ]
  },
  {
   "cell_type": "markdown",
   "metadata": {},
   "source": [
    "### Balance the imbalaced data"
   ]
  },
  {
   "cell_type": "code",
   "execution_count": 79,
   "metadata": {},
   "outputs": [],
   "source": [
    "balance = SMOTE()\n",
    "X_train_scaled_balanced, y_train_balanced = balance.fit_sample(X_train_scaled, y_train)"
   ]
  },
  {
   "cell_type": "markdown",
   "metadata": {},
   "source": [
    "## Create Scoring Dataframe"
   ]
  },
  {
   "cell_type": "code",
   "execution_count": 80,
   "metadata": {},
   "outputs": [],
   "source": [
    "score_df = pd.DataFrame(columns = ['model', 'test_accuracy', 'test_f1', 'test_precision', 'test_recall', 'train_accuracy', \n",
    "                            'train_precision', 'train_recall'])"
   ]
  },
  {
   "cell_type": "markdown",
   "metadata": {},
   "source": [
    "# Model 1 - Gaussian"
   ]
  },
  {
   "cell_type": "code",
   "execution_count": 81,
   "metadata": {},
   "outputs": [
    {
     "data": {
      "text/plain": [
       "GaussianNB()"
      ]
     },
     "execution_count": 81,
     "metadata": {},
     "output_type": "execute_result"
    }
   ],
   "source": [
    "gnb = GaussianNB()\n",
    "gnb.fit(X_train_scaled_balanced, y_train_balanced)"
   ]
  },
  {
   "cell_type": "markdown",
   "metadata": {},
   "source": [
    "## Predict"
   ]
  },
  {
   "cell_type": "code",
   "execution_count": 82,
   "metadata": {},
   "outputs": [],
   "source": [
    "predictions_from_X_train = gnb.predict(X_train_scaled_balanced)\n",
    "predictions_from_X_test = gnb.predict(X_test_scaled)"
   ]
  },
  {
   "cell_type": "markdown",
   "metadata": {},
   "source": [
    "## Scoring"
   ]
  },
  {
   "cell_type": "markdown",
   "metadata": {},
   "source": [
    "### Train Scoring"
   ]
  },
  {
   "cell_type": "code",
   "execution_count": 83,
   "metadata": {},
   "outputs": [
    {
     "name": "stdout",
     "output_type": "stream",
     "text": [
      "Accuracy: 53.2%\n",
      "Precision: 51.7%\n",
      "Recall: 97.6%\n",
      "F1: 67.6%\n",
      "Conufusion Matrix: \n",
      "[[ 3887 39873]\n",
      " [ 1048 42712]]\n",
      "\n",
      "\n"
     ]
    },
    {
     "data": {
      "image/png": "[encoded data removed]",
      "text/plain": [
       "<Figure size 432x288 with 2 Axes>"
      ]
     },
     "metadata": {
      "needs_background": "light"
     },
     "output_type": "display_data"
    }
   ],
   "source": [
    "f.scoring(predictions_from_X_train, y_train_balanced, gnb, X_train_scaled_balanced)"
   ]
  },
  {
   "cell_type": "markdown",
   "metadata": {},
   "source": [
    "### Test Scoring"
   ]
  },
  {
   "cell_type": "code",
   "execution_count": 84,
   "metadata": {},
   "outputs": [
    {
     "name": "stdout",
     "output_type": "stream",
     "text": [
      "Accuracy: 10.3%\n",
      "Precision: 1.9%\n",
      "Recall: 89.9%\n",
      "F1: 3.8%\n",
      "Conufusion Matrix: \n",
      "[[ 950 9976]\n",
      " [  22  196]]\n",
      "\n",
      "\n"
     ]
    },
    {
     "data": {
      "image/png": "[encoded data removed]",
      "text/plain": [
       "<Figure size 432x288 with 2 Axes>"
      ]
     },
     "metadata": {
      "needs_background": "light"
     },
     "output_type": "display_data"
    }
   ],
   "source": [
    "f.scoring(predictions_from_X_test, y_test, gnb, X_test_scaled)"
   ]
  },
  {
   "cell_type": "markdown",
   "metadata": {},
   "source": [
    "## Add Scores to Scoring Dataframe"
   ]
  },
  {
   "cell_type": "code",
   "execution_count": 85,
   "metadata": {},
   "outputs": [
    {
     "data": {
      "text/html": [
       "<div>\n",
       "<style scoped>\n",
       "    .dataframe tbody tr th:only-of-type {\n",
       "        vertical-align: middle;\n",
       "    }\n",
       "\n",
       "    .dataframe tbody tr th {\n",
       "        vertical-align: top;\n",
       "    }\n",
       "\n",
       "    .dataframe thead th {\n",
       "        text-align: right;\n",
       "    }\n",
       "</style>\n",
       "<table border=\"1\" class=\"dataframe\">\n",
       "  <thead>\n",
       "    <tr style=\"text-align: right;\">\n",
       "      <th></th>\n",
       "      <th>model</th>\n",
       "      <th>train_accuracy</th>\n",
       "      <th>test_accuracy</th>\n",
       "      <th>train_precision</th>\n",
       "      <th>test_precision</th>\n",
       "      <th>train_recall</th>\n",
       "      <th>test_recall</th>\n",
       "      <th>train_f1</th>\n",
       "      <th>test_f1</th>\n",
       "    </tr>\n",
       "  </thead>\n",
       "  <tbody>\n",
       "    <tr>\n",
       "      <td>0</td>\n",
       "      <td>Gaussian1</td>\n",
       "      <td>53.244</td>\n",
       "      <td>10.284</td>\n",
       "      <td>51.719</td>\n",
       "      <td>1.927</td>\n",
       "      <td>97.605</td>\n",
       "      <td>89.908</td>\n",
       "      <td>67.612</td>\n",
       "      <td>3.773</td>\n",
       "    </tr>\n",
       "  </tbody>\n",
       "</table>\n",
       "</div>"
      ],
      "text/plain": [
       "       model  train_accuracy  test_accuracy  train_precision  test_precision  \\\n",
       "0  Gaussian1          53.244         10.284           51.719           1.927   \n",
       "\n",
       "   train_recall  test_recall  train_f1  test_f1  \n",
       "0        97.605       89.908    67.612    3.773  "
      ]
     },
     "execution_count": 85,
     "metadata": {},
     "output_type": "execute_result"
    }
   ],
   "source": [
    "score_df = f.add_scores_to_df(\"Gaussian1\", score_df, y_test, predictions_from_X_test, y_train_balanced, predictions_from_X_train)\n",
    "score_df"
   ]
  },
  {
   "cell_type": "markdown",
   "metadata": {},
   "source": [
    "# Model 2 - Categorical 1"
   ]
  },
  {
   "cell_type": "code",
   "execution_count": 86,
   "metadata": {},
   "outputs": [],
   "source": [
    "from sklearn.naive_bayes import CategoricalNB"
   ]
  },
  {
   "cell_type": "markdown",
   "metadata": {},
   "source": [
    "## Variable Tracker"
   ]
  },
  {
   "cell_type": "markdown",
   "metadata": {},
   "source": [
    "- X_train &rarr; X_train_scaled &rarr; **X_train_scaled_balanced**\n",
    "    - used to create **predictions_from_X_train** which is to be compared to **y_train_balanced**\n",
    "- X_test &rarr; **X_test_scaled**\n",
    "    - used to create **predictions_from_X_test** which is to be compared to **y_test**\n",
    "- y_train &rarr; **y_train_balanced**\n",
    "- **y_test**"
   ]
  },
  {
   "cell_type": "code",
   "execution_count": 87,
   "metadata": {},
   "outputs": [
    {
     "data": {
      "text/plain": [
       "(44574, 75)"
      ]
     },
     "execution_count": 87,
     "metadata": {},
     "output_type": "execute_result"
    }
   ],
   "source": [
    "X_train_scaled.shape"
   ]
  },
  {
   "cell_type": "code",
   "execution_count": 88,
   "metadata": {},
   "outputs": [
    {
     "data": {
      "text/plain": [
       "(44574,)"
      ]
     },
     "execution_count": 88,
     "metadata": {},
     "output_type": "execute_result"
    }
   ],
   "source": [
    "y_train.shape"
   ]
  },
  {
   "cell_type": "code",
   "execution_count": 89,
   "metadata": {},
   "outputs": [
    {
     "data": {
      "text/plain": [
       "CategoricalNB()"
      ]
     },
     "execution_count": 89,
     "metadata": {},
     "output_type": "execute_result"
    }
   ],
   "source": [
    "cnb = CategoricalNB()\n",
    "cnb.fit(X_train, y_train)"
   ]
  },
  {
   "cell_type": "code",
   "execution_count": 90,
   "metadata": {},
   "outputs": [],
   "source": [
    "predictions_from_X_train = cnb.predict(X_train)\n",
    "predictions_from_X_test = cnb.predict(X_test)"
   ]
  },
  {
   "cell_type": "markdown",
   "metadata": {},
   "source": [
    "## Scoring "
   ]
  },
  {
   "cell_type": "markdown",
   "metadata": {},
   "source": [
    "### Train Scoring"
   ]
  },
  {
   "cell_type": "code",
   "execution_count": 91,
   "metadata": {},
   "outputs": [
    {
     "name": "stdout",
     "output_type": "stream",
     "text": [
      "Accuracy: 98.1%\n",
      "Precision: 11.8%\n",
      "Recall: 0.2%\n",
      "F1: 0.5%\n",
      "Conufusion Matrix: \n",
      "[[43745    15]\n",
      " [  812     2]]\n",
      "\n",
      "\n"
     ]
    },
    {
     "data": {
      "image/png": "[encoded data removed]",
      "text/plain": [
       "<Figure size 432x288 with 2 Axes>"
      ]
     },
     "metadata": {
      "needs_background": "light"
     },
     "output_type": "display_data"
    }
   ],
   "source": [
    "f.scoring(predictions_from_X_train, y_train, cnb, X_train)"
   ]
  },
  {
   "cell_type": "markdown",
   "metadata": {},
   "source": [
    "### Test Scoring"
   ]
  },
  {
   "cell_type": "code",
   "execution_count": 92,
   "metadata": {},
   "outputs": [
    {
     "name": "stdout",
     "output_type": "stream",
     "text": [
      "Accuracy: 98.0%\n",
      "Precision: 0.0%\n",
      "Recall: 0.0%\n",
      "F1: 0.0%\n",
      "Conufusion Matrix: \n",
      "[[10921     5]\n",
      " [  218     0]]\n",
      "\n",
      "\n"
     ]
    },
    {
     "data": {
      "image/png": "[encoded data removed]",
      "text/plain": [
       "<Figure size 432x288 with 2 Axes>"
      ]
     },
     "metadata": {
      "needs_background": "light"
     },
     "output_type": "display_data"
    }
   ],
   "source": [
    "f.scoring(predictions_from_X_test, y_test, cnb, X_test)"
   ]
  },
  {
   "cell_type": "markdown",
   "metadata": {},
   "source": [
    "## Add to DF"
   ]
  },
  {
   "cell_type": "code",
   "execution_count": 93,
   "metadata": {},
   "outputs": [
    {
     "data": {
      "text/html": [
       "<div>\n",
       "<style scoped>\n",
       "    .dataframe tbody tr th:only-of-type {\n",
       "        vertical-align: middle;\n",
       "    }\n",
       "\n",
       "    .dataframe tbody tr th {\n",
       "        vertical-align: top;\n",
       "    }\n",
       "\n",
       "    .dataframe thead th {\n",
       "        text-align: right;\n",
       "    }\n",
       "</style>\n",
       "<table border=\"1\" class=\"dataframe\">\n",
       "  <thead>\n",
       "    <tr style=\"text-align: right;\">\n",
       "      <th></th>\n",
       "      <th>model</th>\n",
       "      <th>train_accuracy</th>\n",
       "      <th>test_accuracy</th>\n",
       "      <th>train_precision</th>\n",
       "      <th>test_precision</th>\n",
       "      <th>train_recall</th>\n",
       "      <th>test_recall</th>\n",
       "      <th>train_f1</th>\n",
       "      <th>test_f1</th>\n",
       "    </tr>\n",
       "  </thead>\n",
       "  <tbody>\n",
       "    <tr>\n",
       "      <td>0</td>\n",
       "      <td>Gaussian1</td>\n",
       "      <td>53.244</td>\n",
       "      <td>10.284</td>\n",
       "      <td>51.719</td>\n",
       "      <td>1.927</td>\n",
       "      <td>97.605</td>\n",
       "      <td>89.908</td>\n",
       "      <td>67.612</td>\n",
       "      <td>3.773</td>\n",
       "    </tr>\n",
       "    <tr>\n",
       "      <td>0</td>\n",
       "      <td>Categorical1</td>\n",
       "      <td>98.145</td>\n",
       "      <td>97.999</td>\n",
       "      <td>11.765</td>\n",
       "      <td>0.000</td>\n",
       "      <td>0.246</td>\n",
       "      <td>0.000</td>\n",
       "      <td>0.481</td>\n",
       "      <td>0.000</td>\n",
       "    </tr>\n",
       "  </tbody>\n",
       "</table>\n",
       "</div>"
      ],
      "text/plain": [
       "          model  train_accuracy  test_accuracy  train_precision  \\\n",
       "0     Gaussian1          53.244         10.284           51.719   \n",
       "0  Categorical1          98.145         97.999           11.765   \n",
       "\n",
       "   test_precision  train_recall  test_recall  train_f1  test_f1  \n",
       "0           1.927        97.605       89.908    67.612    3.773  \n",
       "0           0.000         0.246        0.000     0.481    0.000  "
      ]
     },
     "execution_count": 93,
     "metadata": {},
     "output_type": "execute_result"
    }
   ],
   "source": [
    "score_df = f.add_scores_to_df(\"Categorical1\", score_df, y_test, predictions_from_X_test, y_train, predictions_from_X_train)\n",
    "score_df"
   ]
  },
  {
   "cell_type": "markdown",
   "metadata": {},
   "source": [
    "# Model 3 - Categorical 2"
   ]
  },
  {
   "cell_type": "code",
   "execution_count": 94,
   "metadata": {},
   "outputs": [],
   "source": [
    "# Remove continuous variables"
   ]
  },
  {
   "cell_type": "code",
   "execution_count": 95,
   "metadata": {},
   "outputs": [],
   "source": [
    "df_cat = df.drop(columns=['posted_speed_limit', 'num_units', 'age'])"
   ]
  },
  {
   "cell_type": "code",
   "execution_count": 96,
   "metadata": {},
   "outputs": [],
   "source": [
    "X = df_cat.drop(['serious_accident'], axis=1)\n",
    "y = df_cat.serious_accident\n",
    "\n",
    "X_train, X_test, y_train, y_test = train_test_split(X, y, test_size=0.20, random_state=200)"
   ]
  },
  {
   "cell_type": "code",
   "execution_count": 97,
   "metadata": {},
   "outputs": [
    {
     "data": {
      "text/plain": [
       "CategoricalNB()"
      ]
     },
     "execution_count": 97,
     "metadata": {},
     "output_type": "execute_result"
    }
   ],
   "source": [
    "cnb2 = CategoricalNB()\n",
    "cnb2.fit(X_train, y_train)"
   ]
  },
  {
   "cell_type": "code",
   "execution_count": 98,
   "metadata": {},
   "outputs": [],
   "source": [
    "predictions_from_X_train = cnb2.predict(X_train)\n",
    "predictions_from_X_test = cnb2.predict(X_test)"
   ]
  },
  {
   "cell_type": "code",
   "execution_count": 99,
   "metadata": {},
   "outputs": [
    {
     "name": "stdout",
     "output_type": "stream",
     "text": [
      "Accuracy: 98.2%\n",
      "Precision: 33.3%\n",
      "Recall: 0.1%\n",
      "F1: 0.2%\n",
      "Conufusion Matrix: \n",
      "[[43758     2]\n",
      " [  813     1]]\n",
      "\n",
      "\n"
     ]
    },
    {
     "data": {
      "image/png": "[encoded data removed]",
      "text/plain": [
       "<Figure size 432x288 with 2 Axes>"
      ]
     },
     "metadata": {
      "needs_background": "light"
     },
     "output_type": "display_data"
    }
   ],
   "source": [
    "f.scoring(predictions_from_X_train, y_train, cnb2, X_train)"
   ]
  },
  {
   "cell_type": "code",
   "execution_count": 100,
   "metadata": {},
   "outputs": [
    {
     "name": "stdout",
     "output_type": "stream",
     "text": [
      "Accuracy: 98.0%\n",
      "Precision: 0.0%\n",
      "Recall: 0.0%\n",
      "F1: 0.0%\n",
      "Conufusion Matrix: \n",
      "[[10925     1]\n",
      " [  218     0]]\n",
      "\n",
      "\n"
     ]
    },
    {
     "data": {
      "image/png": "[encoded data removed]",
      "text/plain": [
       "<Figure size 432x288 with 2 Axes>"
      ]
     },
     "metadata": {
      "needs_background": "light"
     },
     "output_type": "display_data"
    }
   ],
   "source": [
    "f.scoring(predictions_from_X_test, y_test, cnb2, X_test)"
   ]
  },
  {
   "cell_type": "code",
   "execution_count": 101,
   "metadata": {},
   "outputs": [
    {
     "data": {
      "text/html": [
       "<div>\n",
       "<style scoped>\n",
       "    .dataframe tbody tr th:only-of-type {\n",
       "        vertical-align: middle;\n",
       "    }\n",
       "\n",
       "    .dataframe tbody tr th {\n",
       "        vertical-align: top;\n",
       "    }\n",
       "\n",
       "    .dataframe thead th {\n",
       "        text-align: right;\n",
       "    }\n",
       "</style>\n",
       "<table border=\"1\" class=\"dataframe\">\n",
       "  <thead>\n",
       "    <tr style=\"text-align: right;\">\n",
       "      <th></th>\n",
       "      <th>model</th>\n",
       "      <th>train_accuracy</th>\n",
       "      <th>test_accuracy</th>\n",
       "      <th>train_precision</th>\n",
       "      <th>test_precision</th>\n",
       "      <th>train_recall</th>\n",
       "      <th>test_recall</th>\n",
       "      <th>train_f1</th>\n",
       "      <th>test_f1</th>\n",
       "    </tr>\n",
       "  </thead>\n",
       "  <tbody>\n",
       "    <tr>\n",
       "      <td>0</td>\n",
       "      <td>Gaussian1</td>\n",
       "      <td>53.244</td>\n",
       "      <td>10.284</td>\n",
       "      <td>51.719</td>\n",
       "      <td>1.927</td>\n",
       "      <td>97.605</td>\n",
       "      <td>89.908</td>\n",
       "      <td>67.612</td>\n",
       "      <td>3.773</td>\n",
       "    </tr>\n",
       "    <tr>\n",
       "      <td>0</td>\n",
       "      <td>Categorical1</td>\n",
       "      <td>98.145</td>\n",
       "      <td>97.999</td>\n",
       "      <td>11.765</td>\n",
       "      <td>0.000</td>\n",
       "      <td>0.246</td>\n",
       "      <td>0.000</td>\n",
       "      <td>0.481</td>\n",
       "      <td>0.000</td>\n",
       "    </tr>\n",
       "    <tr>\n",
       "      <td>0</td>\n",
       "      <td>Categorical2</td>\n",
       "      <td>98.172</td>\n",
       "      <td>98.035</td>\n",
       "      <td>33.333</td>\n",
       "      <td>0.000</td>\n",
       "      <td>0.123</td>\n",
       "      <td>0.000</td>\n",
       "      <td>0.245</td>\n",
       "      <td>0.000</td>\n",
       "    </tr>\n",
       "  </tbody>\n",
       "</table>\n",
       "</div>"
      ],
      "text/plain": [
       "          model  train_accuracy  test_accuracy  train_precision  \\\n",
       "0     Gaussian1          53.244         10.284           51.719   \n",
       "0  Categorical1          98.145         97.999           11.765   \n",
       "0  Categorical2          98.172         98.035           33.333   \n",
       "\n",
       "   test_precision  train_recall  test_recall  train_f1  test_f1  \n",
       "0           1.927        97.605       89.908    67.612    3.773  \n",
       "0           0.000         0.246        0.000     0.481    0.000  \n",
       "0           0.000         0.123        0.000     0.245    0.000  "
      ]
     },
     "execution_count": 101,
     "metadata": {},
     "output_type": "execute_result"
    }
   ],
   "source": [
    "score_df = f.add_scores_to_df(\"Categorical2\", score_df, y_test, predictions_from_X_test, y_train, predictions_from_X_train)\n",
    "score_df"
   ]
  },
  {
   "cell_type": "markdown",
   "metadata": {},
   "source": [
    "# Model 4 - Gaussian 2"
   ]
  },
  {
   "cell_type": "code",
   "execution_count": 102,
   "metadata": {},
   "outputs": [
    {
     "data": {
      "text/plain": [
       "GaussianNB(var_smoothing=0.5)"
      ]
     },
     "execution_count": 102,
     "metadata": {},
     "output_type": "execute_result"
    }
   ],
   "source": [
    "gnb2 = GaussianNB(var_smoothing=0.5)\n",
    "gnb2.fit(X_train_scaled_balanced, y_train_balanced)"
   ]
  },
  {
   "cell_type": "markdown",
   "metadata": {},
   "source": [
    "## Predict"
   ]
  },
  {
   "cell_type": "code",
   "execution_count": 103,
   "metadata": {},
   "outputs": [],
   "source": [
    "predictions_from_X_train = gnb.predict(X_train_scaled_balanced)\n",
    "predictions_from_X_test = gnb.predict(X_test_scaled)"
   ]
  },
  {
   "cell_type": "markdown",
   "metadata": {},
   "source": [
    "## Scoring"
   ]
  },
  {
   "cell_type": "markdown",
   "metadata": {},
   "source": [
    "### Train Scoring"
   ]
  },
  {
   "cell_type": "code",
   "execution_count": 104,
   "metadata": {},
   "outputs": [
    {
     "name": "stdout",
     "output_type": "stream",
     "text": [
      "Accuracy: 53.2%\n",
      "Precision: 51.7%\n",
      "Recall: 97.6%\n",
      "F1: 67.6%\n",
      "Conufusion Matrix: \n",
      "[[ 3887 39873]\n",
      " [ 1048 42712]]\n",
      "\n",
      "\n"
     ]
    },
    {
     "data": {
      "image/png": "[encoded data removed]",
      "text/plain": [
       "<Figure size 432x288 with 2 Axes>"
      ]
     },
     "metadata": {
      "needs_background": "light"
     },
     "output_type": "display_data"
    }
   ],
   "source": [
    "f.scoring(predictions_from_X_train, y_train_balanced, gnb, X_train_scaled_balanced)"
   ]
  },
  {
   "cell_type": "markdown",
   "metadata": {},
   "source": [
    "### Test Scoring"
   ]
  },
  {
   "cell_type": "code",
   "execution_count": 105,
   "metadata": {},
   "outputs": [
    {
     "name": "stdout",
     "output_type": "stream",
     "text": [
      "Accuracy: 10.3%\n",
      "Precision: 1.9%\n",
      "Recall: 89.9%\n",
      "F1: 3.8%\n",
      "Conufusion Matrix: \n",
      "[[ 950 9976]\n",
      " [  22  196]]\n",
      "\n",
      "\n"
     ]
    },
    {
     "data": {
      "image/png": "[encoded data removed]",
      "text/plain": [
       "<Figure size 432x288 with 2 Axes>"
      ]
     },
     "metadata": {
      "needs_background": "light"
     },
     "output_type": "display_data"
    }
   ],
   "source": [
    "f.scoring(predictions_from_X_test, y_test, gnb, X_test_scaled)"
   ]
  },
  {
   "cell_type": "markdown",
   "metadata": {},
   "source": [
    "## Add Scores to Scoring Dataframe"
   ]
  },
  {
   "cell_type": "code",
   "execution_count": 106,
   "metadata": {},
   "outputs": [
    {
     "data": {
      "text/html": [
       "<div>\n",
       "<style scoped>\n",
       "    .dataframe tbody tr th:only-of-type {\n",
       "        vertical-align: middle;\n",
       "    }\n",
       "\n",
       "    .dataframe tbody tr th {\n",
       "        vertical-align: top;\n",
       "    }\n",
       "\n",
       "    .dataframe thead th {\n",
       "        text-align: right;\n",
       "    }\n",
       "</style>\n",
       "<table border=\"1\" class=\"dataframe\">\n",
       "  <thead>\n",
       "    <tr style=\"text-align: right;\">\n",
       "      <th></th>\n",
       "      <th>model</th>\n",
       "      <th>train_accuracy</th>\n",
       "      <th>test_accuracy</th>\n",
       "      <th>train_precision</th>\n",
       "      <th>test_precision</th>\n",
       "      <th>train_recall</th>\n",
       "      <th>test_recall</th>\n",
       "      <th>train_f1</th>\n",
       "      <th>test_f1</th>\n",
       "    </tr>\n",
       "  </thead>\n",
       "  <tbody>\n",
       "    <tr>\n",
       "      <td>0</td>\n",
       "      <td>Gaussian1</td>\n",
       "      <td>53.244</td>\n",
       "      <td>10.284</td>\n",
       "      <td>51.719</td>\n",
       "      <td>1.927</td>\n",
       "      <td>97.605</td>\n",
       "      <td>89.908</td>\n",
       "      <td>67.612</td>\n",
       "      <td>3.773</td>\n",
       "    </tr>\n",
       "    <tr>\n",
       "      <td>0</td>\n",
       "      <td>Categorical1</td>\n",
       "      <td>98.145</td>\n",
       "      <td>97.999</td>\n",
       "      <td>11.765</td>\n",
       "      <td>0.000</td>\n",
       "      <td>0.246</td>\n",
       "      <td>0.000</td>\n",
       "      <td>0.481</td>\n",
       "      <td>0.000</td>\n",
       "    </tr>\n",
       "    <tr>\n",
       "      <td>0</td>\n",
       "      <td>Categorical2</td>\n",
       "      <td>98.172</td>\n",
       "      <td>98.035</td>\n",
       "      <td>33.333</td>\n",
       "      <td>0.000</td>\n",
       "      <td>0.123</td>\n",
       "      <td>0.000</td>\n",
       "      <td>0.245</td>\n",
       "      <td>0.000</td>\n",
       "    </tr>\n",
       "    <tr>\n",
       "      <td>0</td>\n",
       "      <td>Gaussian2</td>\n",
       "      <td>53.244</td>\n",
       "      <td>10.284</td>\n",
       "      <td>51.719</td>\n",
       "      <td>1.927</td>\n",
       "      <td>97.605</td>\n",
       "      <td>89.908</td>\n",
       "      <td>67.612</td>\n",
       "      <td>3.773</td>\n",
       "    </tr>\n",
       "  </tbody>\n",
       "</table>\n",
       "</div>"
      ],
      "text/plain": [
       "          model  train_accuracy  test_accuracy  train_precision  \\\n",
       "0     Gaussian1          53.244         10.284           51.719   \n",
       "0  Categorical1          98.145         97.999           11.765   \n",
       "0  Categorical2          98.172         98.035           33.333   \n",
       "0     Gaussian2          53.244         10.284           51.719   \n",
       "\n",
       "   test_precision  train_recall  test_recall  train_f1  test_f1  \n",
       "0           1.927        97.605       89.908    67.612    3.773  \n",
       "0           0.000         0.246        0.000     0.481    0.000  \n",
       "0           0.000         0.123        0.000     0.245    0.000  \n",
       "0           1.927        97.605       89.908    67.612    3.773  "
      ]
     },
     "execution_count": 106,
     "metadata": {},
     "output_type": "execute_result"
    }
   ],
   "source": [
    "score_df = f.add_scores_to_df(\"Gaussian2\", score_df, y_test, predictions_from_X_test, y_train_balanced, predictions_from_X_train)\n",
    "score_df"
   ]
  },
  {
   "cell_type": "markdown",
   "metadata": {},
   "source": [
    "# Model 5 - Gaussian with GridSearch"
   ]
  },
  {
   "cell_type": "code",
   "execution_count": 107,
   "metadata": {},
   "outputs": [],
   "source": [
    "from sklearn.model_selection import GridSearchCV, cross_val_score"
   ]
  },
  {
   "cell_type": "code",
   "execution_count": 108,
   "metadata": {},
   "outputs": [],
   "source": [
    "param_grid = {\n",
    "    'var_smoothing': [.75, .5, .1, 1e-2, 1e-3, 1e-4, 1e-5, 1e-6, 1e-7, 1e-8, 1e-9, 1e-10]\n",
    "}"
   ]
  },
  {
   "cell_type": "code",
   "execution_count": 109,
   "metadata": {},
   "outputs": [],
   "source": [
    "gnb3 = GaussianNB()"
   ]
  },
  {
   "cell_type": "code",
   "execution_count": 110,
   "metadata": {},
   "outputs": [
    {
     "name": "stdout",
     "output_type": "stream",
     "text": [
      "Testing Recall: 97.96%\n",
      "\n",
      "Optimal Parameters: {'var_smoothing': 1e-10}\n"
     ]
    }
   ],
   "source": [
    "gauss_grid_search = GridSearchCV(gnb3, param_grid, cv=3, scoring='recall')\n",
    "gauss_grid_search.fit(X_train_scaled_balanced, y_train_balanced)\n",
    "\n",
    "print(f\"Testing Recall: {gauss_grid_search.best_score_ :.2%}\")\n",
    "print(\"\")\n",
    "print(f\"Optimal Parameters: {gauss_grid_search.best_params_}\")"
   ]
  },
  {
   "cell_type": "code",
   "execution_count": 111,
   "metadata": {},
   "outputs": [],
   "source": [
    "param_grid = {\n",
    "    'var_smoothing': [1e-10, 1e-11, 1e-12]\n",
    "}"
   ]
  },
  {
   "cell_type": "code",
   "execution_count": 112,
   "metadata": {},
   "outputs": [
    {
     "name": "stdout",
     "output_type": "stream",
     "text": [
      "Testing Recall: 98.42%\n",
      "\n",
      "Optimal Parameters: {'var_smoothing': 1e-12}\n"
     ]
    }
   ],
   "source": [
    "gauss_grid_search = GridSearchCV(gnb3, param_grid, cv=3, scoring='recall')\n",
    "gauss_grid_search.fit(X_train_scaled_balanced, y_train_balanced)\n",
    "\n",
    "print(f\"Testing Recall: {gauss_grid_search.best_score_ :.2%}\")\n",
    "print(\"\")\n",
    "print(f\"Optimal Parameters: {gauss_grid_search.best_params_}\")"
   ]
  },
  {
   "cell_type": "code",
   "execution_count": 113,
   "metadata": {},
   "outputs": [],
   "source": [
    "param_grid = {\n",
    "    'var_smoothing': [1e-12, 1e-13, 1e-14, 1e-15]\n",
    "}"
   ]
  },
  {
   "cell_type": "code",
   "execution_count": 114,
   "metadata": {},
   "outputs": [
    {
     "name": "stdout",
     "output_type": "stream",
     "text": [
      "Testing Recall: 98.59%\n",
      "\n",
      "Optimal Parameters: {'var_smoothing': 1e-15}\n"
     ]
    }
   ],
   "source": [
    "gauss_grid_search = GridSearchCV(gnb3, param_grid, cv=3, scoring='recall')\n",
    "gauss_grid_search.fit(X_train_scaled_balanced, y_train_balanced)\n",
    "\n",
    "print(f\"Testing Recall: {gauss_grid_search.best_score_ :.2%}\")\n",
    "print(\"\")\n",
    "print(f\"Optimal Parameters: {gauss_grid_search.best_params_}\")"
   ]
  },
  {
   "cell_type": "code",
   "execution_count": 115,
   "metadata": {},
   "outputs": [],
   "source": [
    "gnb3 = GaussianNB(var_smoothing= 1e-15)"
   ]
  },
  {
   "cell_type": "code",
   "execution_count": 116,
   "metadata": {},
   "outputs": [
    {
     "data": {
      "text/plain": [
       "GaussianNB(var_smoothing=1e-15)"
      ]
     },
     "execution_count": 116,
     "metadata": {},
     "output_type": "execute_result"
    }
   ],
   "source": [
    "gnb3.fit(X_train_scaled_balanced, y_train_balanced)"
   ]
  },
  {
   "cell_type": "code",
   "execution_count": 117,
   "metadata": {},
   "outputs": [],
   "source": [
    "predictions_from_X_train = gnb3.predict(X_train_scaled_balanced)\n",
    "predictions_from_X_test = gnb3.predict(X_test_scaled)"
   ]
  },
  {
   "cell_type": "code",
   "execution_count": 118,
   "metadata": {},
   "outputs": [
    {
     "data": {
      "text/html": [
       "<div>\n",
       "<style scoped>\n",
       "    .dataframe tbody tr th:only-of-type {\n",
       "        vertical-align: middle;\n",
       "    }\n",
       "\n",
       "    .dataframe tbody tr th {\n",
       "        vertical-align: top;\n",
       "    }\n",
       "\n",
       "    .dataframe thead th {\n",
       "        text-align: right;\n",
       "    }\n",
       "</style>\n",
       "<table border=\"1\" class=\"dataframe\">\n",
       "  <thead>\n",
       "    <tr style=\"text-align: right;\">\n",
       "      <th></th>\n",
       "      <th>model</th>\n",
       "      <th>train_accuracy</th>\n",
       "      <th>test_accuracy</th>\n",
       "      <th>train_precision</th>\n",
       "      <th>test_precision</th>\n",
       "      <th>train_recall</th>\n",
       "      <th>test_recall</th>\n",
       "      <th>train_f1</th>\n",
       "      <th>test_f1</th>\n",
       "    </tr>\n",
       "  </thead>\n",
       "  <tbody>\n",
       "    <tr>\n",
       "      <td>0</td>\n",
       "      <td>Gaussian1</td>\n",
       "      <td>53.244</td>\n",
       "      <td>10.284</td>\n",
       "      <td>51.719</td>\n",
       "      <td>1.927</td>\n",
       "      <td>97.605</td>\n",
       "      <td>89.908</td>\n",
       "      <td>67.612</td>\n",
       "      <td>3.773</td>\n",
       "    </tr>\n",
       "    <tr>\n",
       "      <td>0</td>\n",
       "      <td>Categorical1</td>\n",
       "      <td>98.145</td>\n",
       "      <td>97.999</td>\n",
       "      <td>11.765</td>\n",
       "      <td>0.000</td>\n",
       "      <td>0.246</td>\n",
       "      <td>0.000</td>\n",
       "      <td>0.481</td>\n",
       "      <td>0.000</td>\n",
       "    </tr>\n",
       "    <tr>\n",
       "      <td>0</td>\n",
       "      <td>Categorical2</td>\n",
       "      <td>98.172</td>\n",
       "      <td>98.035</td>\n",
       "      <td>33.333</td>\n",
       "      <td>0.000</td>\n",
       "      <td>0.123</td>\n",
       "      <td>0.000</td>\n",
       "      <td>0.245</td>\n",
       "      <td>0.000</td>\n",
       "    </tr>\n",
       "    <tr>\n",
       "      <td>0</td>\n",
       "      <td>Gaussian2</td>\n",
       "      <td>53.244</td>\n",
       "      <td>10.284</td>\n",
       "      <td>51.719</td>\n",
       "      <td>1.927</td>\n",
       "      <td>97.605</td>\n",
       "      <td>89.908</td>\n",
       "      <td>67.612</td>\n",
       "      <td>3.773</td>\n",
       "    </tr>\n",
       "    <tr>\n",
       "      <td>0</td>\n",
       "      <td>Gaussian3</td>\n",
       "      <td>53.135</td>\n",
       "      <td>9.323</td>\n",
       "      <td>51.643</td>\n",
       "      <td>1.954</td>\n",
       "      <td>98.549</td>\n",
       "      <td>92.202</td>\n",
       "      <td>67.771</td>\n",
       "      <td>3.826</td>\n",
       "    </tr>\n",
       "  </tbody>\n",
       "</table>\n",
       "</div>"
      ],
      "text/plain": [
       "          model  train_accuracy  test_accuracy  train_precision  \\\n",
       "0     Gaussian1          53.244         10.284           51.719   \n",
       "0  Categorical1          98.145         97.999           11.765   \n",
       "0  Categorical2          98.172         98.035           33.333   \n",
       "0     Gaussian2          53.244         10.284           51.719   \n",
       "0     Gaussian3          53.135          9.323           51.643   \n",
       "\n",
       "   test_precision  train_recall  test_recall  train_f1  test_f1  \n",
       "0           1.927        97.605       89.908    67.612    3.773  \n",
       "0           0.000         0.246        0.000     0.481    0.000  \n",
       "0           0.000         0.123        0.000     0.245    0.000  \n",
       "0           1.927        97.605       89.908    67.612    3.773  \n",
       "0           1.954        98.549       92.202    67.771    3.826  "
      ]
     },
     "execution_count": 118,
     "metadata": {},
     "output_type": "execute_result"
    }
   ],
   "source": [
    "score_df = f.add_scores_to_df(\"Gaussian3\", score_df, y_test, predictions_from_X_test, y_train_balanced, predictions_from_X_train)\n",
    "score_df"
   ]
  },
  {
   "cell_type": "code",
   "execution_count": 119,
   "metadata": {},
   "outputs": [
    {
     "data": {
      "text/plain": [
       "GaussianNB(var_smoothing=1e-20)"
      ]
     },
     "execution_count": 119,
     "metadata": {},
     "output_type": "execute_result"
    }
   ],
   "source": [
    "gnb4 = GaussianNB(var_smoothing= 1e-20)\n",
    "gnb4.fit(X_train_scaled_balanced, y_train_balanced)"
   ]
  },
  {
   "cell_type": "code",
   "execution_count": 120,
   "metadata": {},
   "outputs": [],
   "source": [
    "predictions_from_X_train = gnb4.predict(X_train_scaled_balanced)\n",
    "predictions_from_X_test = gnb4.predict(X_test_scaled)"
   ]
  },
  {
   "cell_type": "code",
   "execution_count": 121,
   "metadata": {},
   "outputs": [
    {
     "data": {
      "text/html": [
       "<div>\n",
       "<style scoped>\n",
       "    .dataframe tbody tr th:only-of-type {\n",
       "        vertical-align: middle;\n",
       "    }\n",
       "\n",
       "    .dataframe tbody tr th {\n",
       "        vertical-align: top;\n",
       "    }\n",
       "\n",
       "    .dataframe thead th {\n",
       "        text-align: right;\n",
       "    }\n",
       "</style>\n",
       "<table border=\"1\" class=\"dataframe\">\n",
       "  <thead>\n",
       "    <tr style=\"text-align: right;\">\n",
       "      <th></th>\n",
       "      <th>model</th>\n",
       "      <th>train_accuracy</th>\n",
       "      <th>test_accuracy</th>\n",
       "      <th>train_precision</th>\n",
       "      <th>test_precision</th>\n",
       "      <th>train_recall</th>\n",
       "      <th>test_recall</th>\n",
       "      <th>train_f1</th>\n",
       "      <th>test_f1</th>\n",
       "    </tr>\n",
       "  </thead>\n",
       "  <tbody>\n",
       "    <tr>\n",
       "      <td>0</td>\n",
       "      <td>Gaussian1</td>\n",
       "      <td>53.244</td>\n",
       "      <td>10.284</td>\n",
       "      <td>51.719</td>\n",
       "      <td>1.927</td>\n",
       "      <td>97.605</td>\n",
       "      <td>89.908</td>\n",
       "      <td>67.612</td>\n",
       "      <td>3.773</td>\n",
       "    </tr>\n",
       "    <tr>\n",
       "      <td>0</td>\n",
       "      <td>Categorical1</td>\n",
       "      <td>98.145</td>\n",
       "      <td>97.999</td>\n",
       "      <td>11.765</td>\n",
       "      <td>0.000</td>\n",
       "      <td>0.246</td>\n",
       "      <td>0.000</td>\n",
       "      <td>0.481</td>\n",
       "      <td>0.000</td>\n",
       "    </tr>\n",
       "    <tr>\n",
       "      <td>0</td>\n",
       "      <td>Categorical2</td>\n",
       "      <td>98.172</td>\n",
       "      <td>98.035</td>\n",
       "      <td>33.333</td>\n",
       "      <td>0.000</td>\n",
       "      <td>0.123</td>\n",
       "      <td>0.000</td>\n",
       "      <td>0.245</td>\n",
       "      <td>0.000</td>\n",
       "    </tr>\n",
       "    <tr>\n",
       "      <td>0</td>\n",
       "      <td>Gaussian2</td>\n",
       "      <td>53.244</td>\n",
       "      <td>10.284</td>\n",
       "      <td>51.719</td>\n",
       "      <td>1.927</td>\n",
       "      <td>97.605</td>\n",
       "      <td>89.908</td>\n",
       "      <td>67.612</td>\n",
       "      <td>3.773</td>\n",
       "    </tr>\n",
       "    <tr>\n",
       "      <td>0</td>\n",
       "      <td>Gaussian3</td>\n",
       "      <td>53.135</td>\n",
       "      <td>9.323</td>\n",
       "      <td>51.643</td>\n",
       "      <td>1.954</td>\n",
       "      <td>98.549</td>\n",
       "      <td>92.202</td>\n",
       "      <td>67.771</td>\n",
       "      <td>3.826</td>\n",
       "    </tr>\n",
       "    <tr>\n",
       "      <td>0</td>\n",
       "      <td>Gaussian4</td>\n",
       "      <td>53.251</td>\n",
       "      <td>9.243</td>\n",
       "      <td>51.700</td>\n",
       "      <td>1.952</td>\n",
       "      <td>98.853</td>\n",
       "      <td>92.202</td>\n",
       "      <td>67.892</td>\n",
       "      <td>3.823</td>\n",
       "    </tr>\n",
       "  </tbody>\n",
       "</table>\n",
       "</div>"
      ],
      "text/plain": [
       "          model  train_accuracy  test_accuracy  train_precision  \\\n",
       "0     Gaussian1          53.244         10.284           51.719   \n",
       "0  Categorical1          98.145         97.999           11.765   \n",
       "0  Categorical2          98.172         98.035           33.333   \n",
       "0     Gaussian2          53.244         10.284           51.719   \n",
       "0     Gaussian3          53.135          9.323           51.643   \n",
       "0     Gaussian4          53.251          9.243           51.700   \n",
       "\n",
       "   test_precision  train_recall  test_recall  train_f1  test_f1  \n",
       "0           1.927        97.605       89.908    67.612    3.773  \n",
       "0           0.000         0.246        0.000     0.481    0.000  \n",
       "0           0.000         0.123        0.000     0.245    0.000  \n",
       "0           1.927        97.605       89.908    67.612    3.773  \n",
       "0           1.954        98.549       92.202    67.771    3.826  \n",
       "0           1.952        98.853       92.202    67.892    3.823  "
      ]
     },
     "execution_count": 121,
     "metadata": {},
     "output_type": "execute_result"
    }
   ],
   "source": [
    "score_df = f.add_scores_to_df(\"Gaussian4\", score_df, y_test, predictions_from_X_test, y_train_balanced, predictions_from_X_train)\n",
    "score_df"
   ]
  },
  {
   "cell_type": "code",
   "execution_count": 122,
   "metadata": {},
   "outputs": [
    {
     "data": {
      "text/plain": [
       "1e-20"
      ]
     },
     "execution_count": 122,
     "metadata": {},
     "output_type": "execute_result"
    }
   ],
   "source": [
    "1* 10 ** -20"
   ]
  },
  {
   "cell_type": "code",
   "execution_count": 123,
   "metadata": {},
   "outputs": [],
   "source": [
    "exp = [20, 30, 40, 50, 60, 70, 80, 90, 100]"
   ]
  },
  {
   "cell_type": "code",
   "execution_count": 124,
   "metadata": {},
   "outputs": [
    {
     "data": {
      "text/plain": [
       "[1e-20, 1e-30, 1e-40, 1e-50, 1e-60, 1e-70, 1e-80, 1e-90, 1e-100]"
      ]
     },
     "execution_count": 124,
     "metadata": {},
     "output_type": "execute_result"
    }
   ],
   "source": [
    "coeff = []\n",
    "for x in exp:\n",
    "    new = 1 * 10 ** - x\n",
    "    coeff.append(new)\n",
    "coeff"
   ]
  },
  {
   "cell_type": "code",
   "execution_count": 125,
   "metadata": {},
   "outputs": [],
   "source": [
    "param_grid = {\n",
    "    'var_smoothing': coeff\n",
    "}"
   ]
  },
  {
   "cell_type": "code",
   "execution_count": 126,
   "metadata": {},
   "outputs": [
    {
     "name": "stdout",
     "output_type": "stream",
     "text": [
      "Testing Recall: 99.08%\n",
      "\n",
      "Optimal Parameters: {'var_smoothing': 1e-40}\n"
     ]
    }
   ],
   "source": [
    "gauss_grid_search = GridSearchCV(gnb3, param_grid, cv=3, scoring='recall')\n",
    "gauss_grid_search.fit(X_train_scaled_balanced, y_train_balanced)\n",
    "\n",
    "print(f\"Testing Recall: {gauss_grid_search.best_score_ :.2%}\")\n",
    "print(\"\")\n",
    "print(f\"Optimal Parameters: {gauss_grid_search.best_params_}\")"
   ]
  },
  {
   "cell_type": "markdown",
   "metadata": {},
   "source": [
    "## GNB 5"
   ]
  },
  {
   "cell_type": "code",
   "execution_count": 127,
   "metadata": {},
   "outputs": [
    {
     "data": {
      "text/plain": [
       "GaussianNB(var_smoothing=1e-30)"
      ]
     },
     "execution_count": 127,
     "metadata": {},
     "output_type": "execute_result"
    }
   ],
   "source": [
    "gnb5 = GaussianNB(var_smoothing= 1e-30)\n",
    "gnb5.fit(X_train_scaled_balanced, y_train_balanced)"
   ]
  },
  {
   "cell_type": "code",
   "execution_count": 128,
   "metadata": {},
   "outputs": [],
   "source": [
    "predictions_from_X_train = gnb5.predict(X_train_scaled_balanced)\n",
    "predictions_from_X_test = gnb5.predict(X_test_scaled)"
   ]
  },
  {
   "cell_type": "code",
   "execution_count": 129,
   "metadata": {},
   "outputs": [
    {
     "data": {
      "text/html": [
       "<div>\n",
       "<style scoped>\n",
       "    .dataframe tbody tr th:only-of-type {\n",
       "        vertical-align: middle;\n",
       "    }\n",
       "\n",
       "    .dataframe tbody tr th {\n",
       "        vertical-align: top;\n",
       "    }\n",
       "\n",
       "    .dataframe thead th {\n",
       "        text-align: right;\n",
       "    }\n",
       "</style>\n",
       "<table border=\"1\" class=\"dataframe\">\n",
       "  <thead>\n",
       "    <tr style=\"text-align: right;\">\n",
       "      <th></th>\n",
       "      <th>model</th>\n",
       "      <th>train_accuracy</th>\n",
       "      <th>test_accuracy</th>\n",
       "      <th>train_precision</th>\n",
       "      <th>test_precision</th>\n",
       "      <th>train_recall</th>\n",
       "      <th>test_recall</th>\n",
       "      <th>train_f1</th>\n",
       "      <th>test_f1</th>\n",
       "    </tr>\n",
       "  </thead>\n",
       "  <tbody>\n",
       "    <tr>\n",
       "      <td>0</td>\n",
       "      <td>Gaussian1</td>\n",
       "      <td>53.244</td>\n",
       "      <td>10.284</td>\n",
       "      <td>51.719</td>\n",
       "      <td>1.927</td>\n",
       "      <td>97.605</td>\n",
       "      <td>89.908</td>\n",
       "      <td>67.612</td>\n",
       "      <td>3.773</td>\n",
       "    </tr>\n",
       "    <tr>\n",
       "      <td>0</td>\n",
       "      <td>Categorical1</td>\n",
       "      <td>98.145</td>\n",
       "      <td>97.999</td>\n",
       "      <td>11.765</td>\n",
       "      <td>0.000</td>\n",
       "      <td>0.246</td>\n",
       "      <td>0.000</td>\n",
       "      <td>0.481</td>\n",
       "      <td>0.000</td>\n",
       "    </tr>\n",
       "    <tr>\n",
       "      <td>0</td>\n",
       "      <td>Categorical2</td>\n",
       "      <td>98.172</td>\n",
       "      <td>98.035</td>\n",
       "      <td>33.333</td>\n",
       "      <td>0.000</td>\n",
       "      <td>0.123</td>\n",
       "      <td>0.000</td>\n",
       "      <td>0.245</td>\n",
       "      <td>0.000</td>\n",
       "    </tr>\n",
       "    <tr>\n",
       "      <td>0</td>\n",
       "      <td>Gaussian2</td>\n",
       "      <td>53.244</td>\n",
       "      <td>10.284</td>\n",
       "      <td>51.719</td>\n",
       "      <td>1.927</td>\n",
       "      <td>97.605</td>\n",
       "      <td>89.908</td>\n",
       "      <td>67.612</td>\n",
       "      <td>3.773</td>\n",
       "    </tr>\n",
       "    <tr>\n",
       "      <td>0</td>\n",
       "      <td>Gaussian3</td>\n",
       "      <td>53.135</td>\n",
       "      <td>9.323</td>\n",
       "      <td>51.643</td>\n",
       "      <td>1.954</td>\n",
       "      <td>98.549</td>\n",
       "      <td>92.202</td>\n",
       "      <td>67.771</td>\n",
       "      <td>3.826</td>\n",
       "    </tr>\n",
       "    <tr>\n",
       "      <td>0</td>\n",
       "      <td>Gaussian4</td>\n",
       "      <td>53.251</td>\n",
       "      <td>9.243</td>\n",
       "      <td>51.700</td>\n",
       "      <td>1.952</td>\n",
       "      <td>98.853</td>\n",
       "      <td>92.202</td>\n",
       "      <td>67.892</td>\n",
       "      <td>3.823</td>\n",
       "    </tr>\n",
       "    <tr>\n",
       "      <td>0</td>\n",
       "      <td>Gaussian5</td>\n",
       "      <td>52.418</td>\n",
       "      <td>7.448</td>\n",
       "      <td>51.249</td>\n",
       "      <td>1.970</td>\n",
       "      <td>99.168</td>\n",
       "      <td>94.954</td>\n",
       "      <td>67.576</td>\n",
       "      <td>3.859</td>\n",
       "    </tr>\n",
       "  </tbody>\n",
       "</table>\n",
       "</div>"
      ],
      "text/plain": [
       "          model  train_accuracy  test_accuracy  train_precision  \\\n",
       "0     Gaussian1          53.244         10.284           51.719   \n",
       "0  Categorical1          98.145         97.999           11.765   \n",
       "0  Categorical2          98.172         98.035           33.333   \n",
       "0     Gaussian2          53.244         10.284           51.719   \n",
       "0     Gaussian3          53.135          9.323           51.643   \n",
       "0     Gaussian4          53.251          9.243           51.700   \n",
       "0     Gaussian5          52.418          7.448           51.249   \n",
       "\n",
       "   test_precision  train_recall  test_recall  train_f1  test_f1  \n",
       "0           1.927        97.605       89.908    67.612    3.773  \n",
       "0           0.000         0.246        0.000     0.481    0.000  \n",
       "0           0.000         0.123        0.000     0.245    0.000  \n",
       "0           1.927        97.605       89.908    67.612    3.773  \n",
       "0           1.954        98.549       92.202    67.771    3.826  \n",
       "0           1.952        98.853       92.202    67.892    3.823  \n",
       "0           1.970        99.168       94.954    67.576    3.859  "
      ]
     },
     "execution_count": 129,
     "metadata": {},
     "output_type": "execute_result"
    }
   ],
   "source": [
    "score_df = f.add_scores_to_df(\"Gaussian5\", score_df, y_test, predictions_from_X_test, y_train_balanced, predictions_from_X_train)\n",
    "score_df"
   ]
  },
  {
   "cell_type": "code",
   "execution_count": 130,
   "metadata": {},
   "outputs": [
    {
     "name": "stdout",
     "output_type": "stream",
     "text": [
      "Accuracy: 7.4%\n",
      "Precision: 2.0%\n",
      "Recall: 95.0%\n",
      "F1: 3.9%\n",
      "Conufusion Matrix: \n",
      "[[  623 10303]\n",
      " [   11   207]]\n",
      "\n",
      "\n"
     ]
    },
    {
     "data": {
      "image/png": "[encoded data removed]",
      "text/plain": [
       "<Figure size 432x288 with 2 Axes>"
      ]
     },
     "metadata": {
      "needs_background": "light"
     },
     "output_type": "display_data"
    }
   ],
   "source": [
    "f.scoring(predictions_from_X_test, y_test, gnb5, X_test_scaled)"
   ]
  },
  {
   "cell_type": "markdown",
   "metadata": {},
   "source": [
    "Here I have optimized for recall, but there's so many that it's useless. Everything will be labels as potentially serious. "
   ]
  },
  {
   "cell_type": "markdown",
   "metadata": {},
   "source": [
    "# Model 6 - F1 Optimization"
   ]
  },
  {
   "cell_type": "code",
   "execution_count": 131,
   "metadata": {},
   "outputs": [
    {
     "data": {
      "text/plain": [
       "GaussianNB()"
      ]
     },
     "execution_count": 131,
     "metadata": {},
     "output_type": "execute_result"
    }
   ],
   "source": [
    "gnb6 = GaussianNB()\n",
    "gnb6.fit(X_train_scaled_balanced, y_train_balanced)"
   ]
  },
  {
   "cell_type": "code",
   "execution_count": 132,
   "metadata": {},
   "outputs": [
    {
     "data": {
      "text/plain": [
       "[0.1,\n",
       " 0.001,\n",
       " 1e-05,\n",
       " 1e-07,\n",
       " 1e-10,\n",
       " 1e-13,\n",
       " 1e-15,\n",
       " 1e-17,\n",
       " 1e-20,\n",
       " 1e-30,\n",
       " 1e-40,\n",
       " 1e-50,\n",
       " 1e-60,\n",
       " 1e-70,\n",
       " 1e-80,\n",
       " 1e-90,\n",
       " 1e-100]"
      ]
     },
     "execution_count": 132,
     "metadata": {},
     "output_type": "execute_result"
    }
   ],
   "source": [
    "exp = [1, 3, 5, 7, 10, 13, 15, 17, 20, 30, 40, 50, 60, 70, 80, 90, 100]\n",
    "\n",
    "coeff = []\n",
    "for x in exp:\n",
    "    new = 1 * 10 ** - x\n",
    "    coeff.append(new)\n",
    "coeff"
   ]
  },
  {
   "cell_type": "code",
   "execution_count": 133,
   "metadata": {},
   "outputs": [],
   "source": [
    "param_grid = {\n",
    "    'var_smoothing': coeff\n",
    "}"
   ]
  },
  {
   "cell_type": "code",
   "execution_count": 134,
   "metadata": {},
   "outputs": [
    {
     "name": "stdout",
     "output_type": "stream",
     "text": [
      "Testing F1: 68.25%\n",
      "\n",
      "Optimal Parameters: {'var_smoothing': 0.1}\n"
     ]
    }
   ],
   "source": [
    "gauss_grid_search = GridSearchCV(gnb6, param_grid, cv=3, scoring='f1')\n",
    "gauss_grid_search.fit(X_train_scaled_balanced, y_train_balanced)\n",
    "\n",
    "print(f\"Testing F1: {gauss_grid_search.best_score_ :.2%}\")\n",
    "print(\"\")\n",
    "print(f\"Optimal Parameters: {gauss_grid_search.best_params_}\")"
   ]
  },
  {
   "cell_type": "code",
   "execution_count": 135,
   "metadata": {},
   "outputs": [
    {
     "data": {
      "text/plain": [
       "[0.7943282347242815,\n",
       " 0.5011872336272722,\n",
       " 0.31622776601683794,\n",
       " 0.19952623149688797,\n",
       " 0.1]"
      ]
     },
     "execution_count": 135,
     "metadata": {},
     "output_type": "execute_result"
    }
   ],
   "source": [
    "exp = [.1, .3, .5, .7, 1]\n",
    "\n",
    "coeff = []\n",
    "for x in exp:\n",
    "    new = 1 * 10 ** - x\n",
    "    coeff.append(new)\n",
    "coeff"
   ]
  },
  {
   "cell_type": "code",
   "execution_count": 136,
   "metadata": {},
   "outputs": [],
   "source": [
    "param_grid = {\n",
    "    'var_smoothing': coeff\n",
    "}"
   ]
  },
  {
   "cell_type": "code",
   "execution_count": 137,
   "metadata": {},
   "outputs": [
    {
     "name": "stdout",
     "output_type": "stream",
     "text": [
      "Testing F1: 68.25%\n",
      "\n",
      "Optimal Parameters: {'var_smoothing': 0.1}\n"
     ]
    }
   ],
   "source": [
    "gauss_grid_search = GridSearchCV(gnb6, param_grid, cv=3, scoring='f1')\n",
    "gauss_grid_search.fit(X_train_scaled_balanced, y_train_balanced)\n",
    "\n",
    "print(f\"Testing F1: {gauss_grid_search.best_score_ :.2%}\")\n",
    "print(\"\")\n",
    "print(f\"Optimal Parameters: {gauss_grid_search.best_params_}\")"
   ]
  },
  {
   "cell_type": "code",
   "execution_count": 138,
   "metadata": {},
   "outputs": [
    {
     "data": {
      "text/plain": [
       "GaussianNB(var_smoothing=0.1)"
      ]
     },
     "execution_count": 138,
     "metadata": {},
     "output_type": "execute_result"
    }
   ],
   "source": [
    "gnb6 = GaussianNB(var_smoothing = 0.1)\n",
    "gnb6.fit(X_train_scaled_balanced, y_train_balanced)"
   ]
  },
  {
   "cell_type": "code",
   "execution_count": 139,
   "metadata": {},
   "outputs": [],
   "source": [
    "predictions_from_X_train = gnb6.predict(X_train_scaled_balanced)\n",
    "predictions_from_X_test = gnb6.predict(X_test_scaled)"
   ]
  },
  {
   "cell_type": "code",
   "execution_count": 140,
   "metadata": {},
   "outputs": [
    {
     "name": "stdout",
     "output_type": "stream",
     "text": [
      "Accuracy: 20.6%\n",
      "Precision: 2.0%\n",
      "Recall: 82.6%\n",
      "F1: 3.9%\n",
      "Conufusion Matrix: \n",
      "[[2117 8809]\n",
      " [  38  180]]\n",
      "\n",
      "\n"
     ]
    },
    {
     "data": {
      "image/png": "[encoded data removed]",
      "text/plain": [
       "<Figure size 432x288 with 2 Axes>"
      ]
     },
     "metadata": {
      "needs_background": "light"
     },
     "output_type": "display_data"
    }
   ],
   "source": [
    "f.scoring(predictions_from_X_test, y_test, gnb6, X_test_scaled)"
   ]
  },
  {
   "cell_type": "code",
   "execution_count": 150,
   "metadata": {},
   "outputs": [
    {
     "data": {
      "text/html": [
       "<div>\n",
       "<style scoped>\n",
       "    .dataframe tbody tr th:only-of-type {\n",
       "        vertical-align: middle;\n",
       "    }\n",
       "\n",
       "    .dataframe tbody tr th {\n",
       "        vertical-align: top;\n",
       "    }\n",
       "\n",
       "    .dataframe thead th {\n",
       "        text-align: right;\n",
       "    }\n",
       "</style>\n",
       "<table border=\"1\" class=\"dataframe\">\n",
       "  <thead>\n",
       "    <tr style=\"text-align: right;\">\n",
       "      <th></th>\n",
       "      <th>model</th>\n",
       "      <th>train_accuracy</th>\n",
       "      <th>test_accuracy</th>\n",
       "      <th>train_precision</th>\n",
       "      <th>test_precision</th>\n",
       "      <th>train_recall</th>\n",
       "      <th>test_recall</th>\n",
       "      <th>train_f1</th>\n",
       "      <th>test_f1</th>\n",
       "    </tr>\n",
       "  </thead>\n",
       "  <tbody>\n",
       "    <tr>\n",
       "      <td>0</td>\n",
       "      <td>Gaussian1</td>\n",
       "      <td>53.244</td>\n",
       "      <td>10.284</td>\n",
       "      <td>51.719</td>\n",
       "      <td>1.927</td>\n",
       "      <td>97.605</td>\n",
       "      <td>89.908</td>\n",
       "      <td>67.612</td>\n",
       "      <td>3.773</td>\n",
       "    </tr>\n",
       "    <tr>\n",
       "      <td>0</td>\n",
       "      <td>Categorical1</td>\n",
       "      <td>98.145</td>\n",
       "      <td>97.999</td>\n",
       "      <td>11.765</td>\n",
       "      <td>0.000</td>\n",
       "      <td>0.246</td>\n",
       "      <td>0.000</td>\n",
       "      <td>0.481</td>\n",
       "      <td>0.000</td>\n",
       "    </tr>\n",
       "    <tr>\n",
       "      <td>0</td>\n",
       "      <td>Categorical2</td>\n",
       "      <td>98.172</td>\n",
       "      <td>98.035</td>\n",
       "      <td>33.333</td>\n",
       "      <td>0.000</td>\n",
       "      <td>0.123</td>\n",
       "      <td>0.000</td>\n",
       "      <td>0.245</td>\n",
       "      <td>0.000</td>\n",
       "    </tr>\n",
       "    <tr>\n",
       "      <td>0</td>\n",
       "      <td>Gaussian2</td>\n",
       "      <td>53.244</td>\n",
       "      <td>10.284</td>\n",
       "      <td>51.719</td>\n",
       "      <td>1.927</td>\n",
       "      <td>97.605</td>\n",
       "      <td>89.908</td>\n",
       "      <td>67.612</td>\n",
       "      <td>3.773</td>\n",
       "    </tr>\n",
       "    <tr>\n",
       "      <td>0</td>\n",
       "      <td>Gaussian3</td>\n",
       "      <td>53.135</td>\n",
       "      <td>9.323</td>\n",
       "      <td>51.643</td>\n",
       "      <td>1.954</td>\n",
       "      <td>98.549</td>\n",
       "      <td>92.202</td>\n",
       "      <td>67.771</td>\n",
       "      <td>3.826</td>\n",
       "    </tr>\n",
       "    <tr>\n",
       "      <td>0</td>\n",
       "      <td>Gaussian4</td>\n",
       "      <td>53.251</td>\n",
       "      <td>9.243</td>\n",
       "      <td>51.700</td>\n",
       "      <td>1.952</td>\n",
       "      <td>98.853</td>\n",
       "      <td>92.202</td>\n",
       "      <td>67.892</td>\n",
       "      <td>3.823</td>\n",
       "    </tr>\n",
       "    <tr>\n",
       "      <td>0</td>\n",
       "      <td>Gaussian5</td>\n",
       "      <td>52.418</td>\n",
       "      <td>7.448</td>\n",
       "      <td>51.249</td>\n",
       "      <td>1.970</td>\n",
       "      <td>99.168</td>\n",
       "      <td>94.954</td>\n",
       "      <td>67.576</td>\n",
       "      <td>3.859</td>\n",
       "    </tr>\n",
       "    <tr>\n",
       "      <td>0</td>\n",
       "      <td>Gaussian6</td>\n",
       "      <td>56.464</td>\n",
       "      <td>20.612</td>\n",
       "      <td>53.707</td>\n",
       "      <td>2.002</td>\n",
       "      <td>93.652</td>\n",
       "      <td>82.569</td>\n",
       "      <td>68.265</td>\n",
       "      <td>3.910</td>\n",
       "    </tr>\n",
       "  </tbody>\n",
       "</table>\n",
       "</div>"
      ],
      "text/plain": [
       "          model  train_accuracy  test_accuracy  train_precision  \\\n",
       "0     Gaussian1          53.244         10.284           51.719   \n",
       "0  Categorical1          98.145         97.999           11.765   \n",
       "0  Categorical2          98.172         98.035           33.333   \n",
       "0     Gaussian2          53.244         10.284           51.719   \n",
       "0     Gaussian3          53.135          9.323           51.643   \n",
       "0     Gaussian4          53.251          9.243           51.700   \n",
       "0     Gaussian5          52.418          7.448           51.249   \n",
       "0     Gaussian6          56.464         20.612           53.707   \n",
       "\n",
       "   test_precision  train_recall  test_recall  train_f1  test_f1  \n",
       "0           1.927        97.605       89.908    67.612    3.773  \n",
       "0           0.000         0.246        0.000     0.481    0.000  \n",
       "0           0.000         0.123        0.000     0.245    0.000  \n",
       "0           1.927        97.605       89.908    67.612    3.773  \n",
       "0           1.954        98.549       92.202    67.771    3.826  \n",
       "0           1.952        98.853       92.202    67.892    3.823  \n",
       "0           1.970        99.168       94.954    67.576    3.859  \n",
       "0           2.002        93.652       82.569    68.265    3.910  "
      ]
     },
     "execution_count": 150,
     "metadata": {},
     "output_type": "execute_result"
    }
   ],
   "source": [
    "score_df = f.add_scores_to_df(\"Gaussian6\", score_df, y_test, predictions_from_X_test, y_train_balanced, predictions_from_X_train)\n",
    "score_df"
   ]
  },
  {
   "cell_type": "markdown",
   "metadata": {},
   "source": [
    "# Model 7 - Precision Optimization"
   ]
  },
  {
   "cell_type": "markdown",
   "metadata": {},
   "source": [
    "I'm going to try to optimize for precision and see what happens."
   ]
  },
  {
   "cell_type": "code",
   "execution_count": 145,
   "metadata": {},
   "outputs": [],
   "source": [
    "gnb7 = GaussianNB()"
   ]
  },
  {
   "cell_type": "code",
   "execution_count": 146,
   "metadata": {},
   "outputs": [],
   "source": [
    "exp = [1, 3, 5, 7, 10, 13, 15, 17, 20, 30, 40, 50, 60, 70, 80, 90, 100]\n",
    "\n",
    "coeff = []\n",
    "for x in exp:\n",
    "    new = 1 * 10 ** - x\n",
    "    coeff.append(new)\n",
    "    \n",
    "param_grid = {\n",
    "    'var_smoothing': coeff\n",
    "}"
   ]
  },
  {
   "cell_type": "code",
   "execution_count": 147,
   "metadata": {},
   "outputs": [
    {
     "name": "stdout",
     "output_type": "stream",
     "text": [
      "Testing Precision: 53.71%\n",
      "\n",
      "Optimal Parameters: {'var_smoothing': 0.1}\n"
     ]
    }
   ],
   "source": [
    "gauss_grid_search = GridSearchCV(gnb7, param_grid, cv=3, scoring='precision')\n",
    "gauss_grid_search.fit(X_train_scaled_balanced, y_train_balanced)\n",
    "\n",
    "print(f\"Testing Precision: {gauss_grid_search.best_score_ :.2%}\")\n",
    "print(\"\")\n",
    "print(f\"Optimal Parameters: {gauss_grid_search.best_params_}\")"
   ]
  },
  {
   "cell_type": "markdown",
   "metadata": {},
   "source": [
    "Optimizing for Precision and for F1, it's still the same `var_smoothing` of 0.1. Gaussian 6 is the same as Gaussian 7."
   ]
  },
  {
   "cell_type": "markdown",
   "metadata": {},
   "source": [
    "Looking at the scoring chart, it looks like this model will always overfit for precision, but recall is closer between train and test data. I will say that Gaussian 6 is the best model, because it's the most useful in that it's F1. But still it's not that useful."
   ]
  },
  {
   "cell_type": "markdown",
   "metadata": {},
   "source": [
    "# Export DF of Gaussian 6 for presentation"
   ]
  },
  {
   "cell_type": "code",
   "execution_count": 151,
   "metadata": {},
   "outputs": [
    {
     "data": {
      "text/html": [
       "<div>\n",
       "<style scoped>\n",
       "    .dataframe tbody tr th:only-of-type {\n",
       "        vertical-align: middle;\n",
       "    }\n",
       "\n",
       "    .dataframe tbody tr th {\n",
       "        vertical-align: top;\n",
       "    }\n",
       "\n",
       "    .dataframe thead th {\n",
       "        text-align: right;\n",
       "    }\n",
       "</style>\n",
       "<table border=\"1\" class=\"dataframe\">\n",
       "  <thead>\n",
       "    <tr style=\"text-align: right;\">\n",
       "      <th></th>\n",
       "      <th>model</th>\n",
       "      <th>train_accuracy</th>\n",
       "      <th>test_accuracy</th>\n",
       "      <th>train_precision</th>\n",
       "      <th>test_precision</th>\n",
       "      <th>train_recall</th>\n",
       "      <th>test_recall</th>\n",
       "      <th>train_f1</th>\n",
       "      <th>test_f1</th>\n",
       "    </tr>\n",
       "  </thead>\n",
       "  <tbody>\n",
       "    <tr>\n",
       "      <td>0</td>\n",
       "      <td>Gaussian6</td>\n",
       "      <td>56.464</td>\n",
       "      <td>20.612</td>\n",
       "      <td>53.707</td>\n",
       "      <td>2.002</td>\n",
       "      <td>93.652</td>\n",
       "      <td>82.569</td>\n",
       "      <td>68.265</td>\n",
       "      <td>3.91</td>\n",
       "    </tr>\n",
       "  </tbody>\n",
       "</table>\n",
       "</div>"
      ],
      "text/plain": [
       "       model  train_accuracy  test_accuracy  train_precision  test_precision  \\\n",
       "0  Gaussian6          56.464         20.612           53.707           2.002   \n",
       "\n",
       "   train_recall  test_recall  train_f1  test_f1  \n",
       "0        93.652       82.569    68.265     3.91  "
      ]
     },
     "execution_count": 151,
     "metadata": {},
     "output_type": "execute_result"
    }
   ],
   "source": [
    "score_df.loc[score_df['model'] == \"Gaussian6\"]"
   ]
  },
  {
   "cell_type": "code",
   "execution_count": null,
   "metadata": {},
   "outputs": [],
   "source": []
  },
  {
   "cell_type": "code",
   "execution_count": null,
   "metadata": {},
   "outputs": [],
   "source": []
  },
  {
   "cell_type": "code",
   "execution_count": null,
   "metadata": {},
   "outputs": [],
   "source": []
  },
  {
   "cell_type": "code",
   "execution_count": null,
   "metadata": {},
   "outputs": [],
   "source": []
  },
  {
   "cell_type": "code",
   "execution_count": null,
   "metadata": {},
   "outputs": [],
   "source": []
  },
  {
   "cell_type": "code",
   "execution_count": null,
   "metadata": {},
   "outputs": [],
   "source": []
  }
 ],
 "metadata": {
  "kernelspec": {
   "display_name": "Python 3",
   "language": "python",
   "name": "python3"
  },
  "language_info": {
   "codemirror_mode": {
    "name": "ipython",
    "version": 3
   },
   "file_extension": ".py",
   "mimetype": "text/x-python",
   "name": "python",
   "nbconvert_exporter": "python",
   "pygments_lexer": "ipython3",
   "version": "3.6.9"
  }
 },
 "nbformat": 4,
 "nbformat_minor": 4
}
