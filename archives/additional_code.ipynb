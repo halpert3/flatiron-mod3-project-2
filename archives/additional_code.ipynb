{
 "cells": [
  {
   "cell_type": "markdown",
   "metadata": {},
   "source": [
    "#### Sorting feature importances in a dictionary in a decision tree"
   ]
  },
  {
   "cell_type": "code",
   "execution_count": null,
   "metadata": {},
   "outputs": [],
   "source": [
    "import operator\n",
    "features = {}\n",
    "cols = X_train.columns.values\n",
    "for num in range(len(cols)):\n",
    "    features[cols[num]] = round(dtree.feature_importances_[num] * 100, 2)\n",
    "features_ranked = dict(sorted(features.items(), key=operator.itemgetter(1),reverse=True))\n",
    "features_ranked"
   ]
  }
 ],
 "metadata": {
  "kernelspec": {
   "display_name": "Python 3",
   "language": "python",
   "name": "python3"
  },
  "language_info": {
   "codemirror_mode": {
    "name": "ipython",
    "version": 3
   },
   "file_extension": ".py",
   "mimetype": "text/x-python",
   "name": "python",
   "nbconvert_exporter": "python",
   "pygments_lexer": "ipython3",
   "version": "3.6.9"
  }
 },
 "nbformat": 4,
 "nbformat_minor": 4
}
